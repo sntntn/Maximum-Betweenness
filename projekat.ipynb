{
 "cells": [
  {
   "cell_type": "code",
   "execution_count": null,
   "id": "06989b12-f943-49c4-95cf-52e8855d6d20",
   "metadata": {},
   "outputs": [],
   "source": []
  },
  {
   "cell_type": "markdown",
   "id": "ce914543-3fde-4a7e-9821-2448f59b39b9",
   "metadata": {},
   "source": [
    "# \"MAXIMUM BETWEENNESS\", \n",
    "Problem \"MAXIMUM BETWEENNESS\" je NP-težak problem sa kojim ću se u ovom projektu boriti korišćenjem sirovih tehnika optimizacije\n",
    "(kao što su metaheuristike, evolucionarni algoritmi, ili druge tehnike optimizacije).\n",
    "\n",
    "Zadatak glasi:\n",
    "\n",
    "Imamo skup A i kolekciju C uređenih trojki (a, b, c) različitih elemenata iz A. \n",
    "Cilj je pronaći jednoznačnu funkciju f koja preslikava elemente iz A u opseg od 1 do veličine skupa A, tako da se maksimalizuje broj trojki u kojima se poštuje određeni redosled (f(a)<f(b)<f(c) ili f(c)<f(b)<f(a)).\n",
    "\n",
    "U nastavku ću da razvijem optimizacione metode, kao što su genetski algoritmi, simulirano kaljenje, ili lokalnu pretragu.\n",
    "(Važno je da osiguram da moje metode mogu rukovati velikim skupovima podataka i da daju dobre rezultate).\n",
    "\n",
    "Brute-force algoritam treba da mi obezbedi uporednu analizu optimizacionih metoda. \n",
    "On bi trebalo da bude u stanju da efikasno obrađuje male instance problema i da daje optimalna rešenja kako bi se mogla proveriti ispravnost optimizacionih pristupa.\n"
   ]
  },
  {
   "cell_type": "markdown",
   "id": "f94329b5-2861-4364-96ce-8f28cb6d0602",
   "metadata": {},
   "source": [
    "Napravio sam sve permutacije naseg skupa A i smestio ih u \"permutations_f\"\n",
    "\n",
    "Tražim najbolju permutaciju \"perm\" iz skupa svih permutacija \"permutations_f\".\n",
    "Funkciju opisujem preko rečnika \"f\", koji ce redom moje elemente iz skupa A, slikati u našu permutaciju \"perm\".\n",
    "\n",
    "C nam je skup zadatih trojki za koje tražimo najbolju funkciju\n",
    "Najbolja funkcija je ona koja ima najviše f(a)<f(b)<f(c) ili f(c)<f(b)<f(a).\n",
    "Tako da mi zelimo da naša funkcija ima rečnik sa najboljom permutacijom"
   ]
  },
  {
   "cell_type": "markdown",
   "id": "a9b1a622-3946-425c-b010-a3a96a0506c2",
   "metadata": {},
   "source": [
    "# Gruba sila"
   ]
  },
  {
   "cell_type": "code",
   "execution_count": 19,
   "id": "68e1a723-fb70-4268-b6ca-98b5579faaf2",
   "metadata": {},
   "outputs": [],
   "source": [
    "from itertools import permutations\n",
    "\n",
    "def brute_force_max_betweenness(A, C):\n",
    "    max_betweenness = 0\n",
    "\n",
    "    # sve moguce funkcije preslikavanja f (predstavljene kao permutacije)\n",
    "    permutations_f = permutations(A)\n",
    "\n",
    "    brojac_iteracija=0\n",
    "    for perm in permutations_f:\n",
    "        # nasa trenutna funkcija f koju proveravamo -> ona nam pokazuje u sta se slika svaki element iz naseg skupa A\n",
    "        f = dict(zip(A, perm))\n",
    "        # print(f)\n",
    "\n",
    "        # ovo nam broji koliko je dobra nasa funkcija f  \n",
    "        current_betweenness = 0\n",
    "        # proveramo za svaku trojku iz skupa C\n",
    "        for (a, b, c) in C:\n",
    "            brojac_iteracija += 1\n",
    "            if (f[a] < f[b] < f[c]) or (f[c] < f[b] < f[a]):\n",
    "                current_betweenness += 1\n",
    "                \n",
    "        max_betweenness = max(max_betweenness, current_betweenness)\n",
    "        if(max_betweenness == current_betweenness):\n",
    "            max_f = f\n",
    "    \n",
    "\n",
    "    print('broj koraka u petlji: ',brojac_iteracija)\n",
    "    print(\"Nasa permutacija: \", max_f.values())\n",
    "    return max_betweenness\n"
   ]
  },
  {
   "cell_type": "code",
   "execution_count": 20,
   "id": "7f143fa1-c0c2-49cd-a2ac-2c4ba1ef3ae8",
   "metadata": {},
   "outputs": [
    {
     "name": "stdout",
     "output_type": "stream",
     "text": [
      "broj koraka u petlji:  72\n",
      "Nasa permutacija:  dict_values([4, 3, 2, 1])\n",
      "Maksimalan broj trojki: 3\n"
     ]
    }
   ],
   "source": [
    "# Primer korišćenja\n",
    "A = [1, 2, 3, 4]\n",
    "C = [(1, 2, 3), (2, 3, 4), (1, 3, 4)]  # Primer kolekcije C\n",
    "\n",
    "\n",
    "max_triplets = brute_force_max_betweenness(A, C)\n",
    "print(\"Maksimalan broj trojki:\", max_triplets)"
   ]
  },
  {
   "cell_type": "code",
   "execution_count": 23,
   "id": "d9117ccf-f7a3-4d21-8182-b05fb6e626b6",
   "metadata": {},
   "outputs": [
    {
     "name": "stdout",
     "output_type": "stream",
     "text": [
      "broj koraka u petlji:  168\n",
      "Nasa permutacija:  dict_values([3, 2, 4, 1])\n",
      "Maksimalan broj trojki: 4\n"
     ]
    }
   ],
   "source": [
    "# Primer korišćenja\n",
    "A = [1, 2, 3, 4]\n",
    "C = [( 2, 1, 3), (2, 1, 4), (1, 2, 4), (4, 2, 1), (1, 2, 3), (3, 2, 4), (1, 4, 2)]  # Primer kolekcije C\n",
    "\n",
    "\n",
    "max_triplets = brute_force_max_betweenness(A, C)\n",
    "print(\"Maksimalan broj trojki:\", max_triplets)"
   ]
  },
  {
   "cell_type": "code",
   "execution_count": null,
   "id": "0205e6ed-413d-4420-9adf-5ff634624ccf",
   "metadata": {},
   "outputs": [],
   "source": []
  },
  {
   "cell_type": "markdown",
   "id": "02c404a1-f191-4668-a793-a25a56cb0333",
   "metadata": {},
   "source": [
    "# BNB"
   ]
  },
  {
   "cell_type": "code",
   "execution_count": 28,
   "id": "34c192a6-732c-46b3-b927-388356d9ed9f",
   "metadata": {},
   "outputs": [],
   "source": [
    "from itertools import permutations\n",
    "\n",
    "def brute_force_max_betweenness_BNB(A, C):\n",
    "    max_betweenness = 0\n",
    "    C_size = len(C)\n",
    "\n",
    "\n",
    "    permutations_f = permutations(A)\n",
    "\n",
    "    brojac_iteracija=0\n",
    "    for perm in permutations_f:\n",
    "        f = dict(zip(A, perm))\n",
    "\n",
    "        current_betweenness = 0\n",
    "        for (a, b, c) in C:\n",
    "            brojac_iteracija += 1\n",
    "            if (f[a] < f[b] < f[c]) or (f[c] < f[b] < f[a]):\n",
    "                current_betweenness += 1\n",
    "            if (C_size - current_betweenness < max_betweenness):\n",
    "                    break\n",
    "        max_betweenness = max(max_betweenness, current_betweenness)\n",
    "        if(max_betweenness == current_betweenness):\n",
    "            max_f = f\n",
    "    \n",
    "        \n",
    "    \n",
    "    print('broj koraka u petlji: ',brojac_iteracija)\n",
    "    print(\"Nasa permutacija: \", max_f.values())\n",
    "\n",
    "    return max_betweenness\n"
   ]
  },
  {
   "cell_type": "code",
   "execution_count": 29,
   "id": "998c8488-13bc-4dff-878f-6239f5118b69",
   "metadata": {},
   "outputs": [
    {
     "name": "stdout",
     "output_type": "stream",
     "text": [
      "broj koraka u petlji:  52\n",
      "Nasa permutacija:  dict_values([1, 2, 3, 4])\n",
      "Maksimalan broj trojki: 3\n"
     ]
    }
   ],
   "source": [
    "# Primer korišćenja\n",
    "A = [1, 2, 3, 4]\n",
    "C = [(1, 2, 3), (2, 3, 4), (1, 3, 4)]  # Primer kolekcije C\n",
    "\n",
    "\n",
    "max_triplets = brute_force_max_betweenness_BNB(A, C)\n",
    "print(\"Maksimalan broj trojki:\", max_triplets)"
   ]
  },
  {
   "cell_type": "code",
   "execution_count": 30,
   "id": "d9fdd6ab-f749-478d-bc34-6ea10a36be2c",
   "metadata": {},
   "outputs": [
    {
     "name": "stdout",
     "output_type": "stream",
     "text": [
      "broj koraka u petlji:  167\n",
      "Nasa permutacija:  dict_values([3, 2, 4, 1])\n",
      "Maksimalan broj trojki: 4\n"
     ]
    }
   ],
   "source": [
    "# Primer korišćenja\n",
    "A = [1, 2, 3, 4]\n",
    "C = [( 2, 1, 3), (2, 1, 4), (1, 2, 4), (4, 2, 1), (1, 2, 3), (3, 2, 4), (1, 4, 2)]  # Primer kolekcije C\n",
    "\n",
    "\n",
    "max_triplets = brute_force_max_betweenness_BNB(A, C)\n",
    "print(\"Maksimalan broj trojki:\", max_triplets)"
   ]
  },
  {
   "cell_type": "code",
   "execution_count": null,
   "id": "594ab89b-81f2-4da3-bda8-778f07b8717b",
   "metadata": {},
   "outputs": [],
   "source": []
  },
  {
   "cell_type": "code",
   "execution_count": null,
   "id": "907b1ea0-5235-432e-bce7-ecc7f788f30b",
   "metadata": {},
   "outputs": [],
   "source": []
  },
  {
   "cell_type": "markdown",
   "id": "67601aaf-6819-4221-b3b1-5c1f3ac67338",
   "metadata": {},
   "source": [
    "\n"
   ]
  },
  {
   "cell_type": "code",
   "execution_count": null,
   "id": "44b7f60c-cce4-43e0-9ea9-880c782829b0",
   "metadata": {},
   "outputs": [],
   "source": []
  },
  {
   "cell_type": "code",
   "execution_count": null,
   "id": "2b332110-7773-4cbc-a771-9f6128bd1e27",
   "metadata": {},
   "outputs": [],
   "source": []
  },
  {
   "cell_type": "code",
   "execution_count": null,
   "id": "4ac7b994-d7df-4b4d-8cfd-bc187c9990bd",
   "metadata": {},
   "outputs": [],
   "source": []
  },
  {
   "cell_type": "code",
   "execution_count": null,
   "id": "04db5949-95b5-4c1c-9e2d-ce933c816aac",
   "metadata": {},
   "outputs": [],
   "source": []
  },
  {
   "cell_type": "code",
   "execution_count": null,
   "id": "10f2a95d-0b87-424c-a518-1fbcd1eec639",
   "metadata": {},
   "outputs": [],
   "source": []
  },
  {
   "cell_type": "code",
   "execution_count": null,
   "id": "59dca4ea-91b2-427a-a277-e4cbc70d0510",
   "metadata": {},
   "outputs": [],
   "source": []
  },
  {
   "cell_type": "code",
   "execution_count": null,
   "id": "0bbd9e7b-3326-4586-9917-64ee147d730d",
   "metadata": {},
   "outputs": [],
   "source": []
  },
  {
   "cell_type": "code",
   "execution_count": null,
   "id": "50a6e0f5-ba6d-4cd7-b0fd-4b306cc58b79",
   "metadata": {},
   "outputs": [],
   "source": []
  },
  {
   "cell_type": "code",
   "execution_count": null,
   "id": "b6414e9c-3f54-43e2-9b1a-84c0b6f04cf9",
   "metadata": {},
   "outputs": [],
   "source": []
  },
  {
   "cell_type": "code",
   "execution_count": null,
   "id": "3436862e-f78f-4cdc-a304-17c01da0dd89",
   "metadata": {},
   "outputs": [],
   "source": []
  },
  {
   "cell_type": "code",
   "execution_count": null,
   "id": "f2405d0f-f974-4c83-926f-7f07ec54171f",
   "metadata": {},
   "outputs": [],
   "source": []
  },
  {
   "cell_type": "code",
   "execution_count": null,
   "id": "95b2411b-8489-43f7-9d4b-b9a935537e99",
   "metadata": {},
   "outputs": [],
   "source": []
  },
  {
   "cell_type": "code",
   "execution_count": null,
   "id": "7dfaee10-9dfd-4e88-a8f9-d94288e0fe5d",
   "metadata": {},
   "outputs": [],
   "source": []
  }
 ],
 "metadata": {
  "kernelspec": {
   "display_name": "Python 3 (ipykernel)",
   "language": "python",
   "name": "python3"
  },
  "language_info": {
   "codemirror_mode": {
    "name": "ipython",
    "version": 3
   },
   "file_extension": ".py",
   "mimetype": "text/x-python",
   "name": "python",
   "nbconvert_exporter": "python",
   "pygments_lexer": "ipython3",
   "version": "3.10.12"
  }
 },
 "nbformat": 4,
 "nbformat_minor": 5
}
