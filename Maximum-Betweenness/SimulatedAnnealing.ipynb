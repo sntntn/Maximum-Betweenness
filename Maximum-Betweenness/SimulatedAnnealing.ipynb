{
 "cells": [
  {
   "cell_type": "markdown",
   "id": "7aaeb895-4a77-4345-b2e2-8c34cccf7dc4",
   "metadata": {},
   "source": [
    "# SIMULIRANO KALJENJE"
   ]
  },
  {
   "cell_type": "code",
   "execution_count": 1,
   "id": "20281e0b-8d41-4c25-8856-c30cd4b71424",
   "metadata": {},
   "outputs": [],
   "source": [
    "import random\n",
    "import math\n",
    "\n",
    "def initial_solution(A):\n",
    "    return random.sample(A, len(A))\n",
    "\n",
    "# broj trojki koje zadovoljavaju uslov za datu permutaciju solutions\n",
    "def count_triplets(solution, C):\n",
    "    count = 0\n",
    "    for (a, b, c) in C:\n",
    "        index_a = solution.index(a)\n",
    "        index_b = solution.index(b)\n",
    "        index_c = solution.index(c)\n",
    "        if (index_a < index_b < index_c) or (index_c < index_b < index_a):\n",
    "            count += 1\n",
    "    return count\n",
    "\n",
    "def generate_neighbor(solution):\n",
    "    # generisemo jednu susednu permutaciju da bi dopustili i prihvatanje losijih resenja\n",
    "    # kako bi izbegli zaglavljivanje u lokalnim optimumima (kao kod lokalne pretrage)\n",
    "    neighbor = solution[:]\n",
    "    i, j = random.sample(range(len(solution)), 2)\n",
    "    neighbor[i], neighbor[j] = neighbor[j], neighbor[i]\n",
    "    return neighbor\n",
    "\n",
    "def simulated_annealing_max_betweenness(A, C, initial_temperature=100, cooling_rate=0.95, stopping_temperature=1e-6, max_iterations=1000):\n",
    "    current_solution = initial_solution(A)\n",
    "    current_score = count_triplets(current_solution, C)\n",
    "    best_solution = current_solution\n",
    "    best_score = current_score\n",
    "    temperature = initial_temperature\n",
    "    \n",
    "    for iteration in range(max_iterations):\n",
    "        if temperature < stopping_temperature:\n",
    "            print(\"temperatura\")\n",
    "            break\n",
    "        \n",
    "        neighbor = generate_neighbor(current_solution)\n",
    "        neighbor_score = count_triplets(neighbor, C)\n",
    "        \n",
    "        delta_score = neighbor_score - current_score\n",
    "\n",
    "        # ako je delta score negativan i visoka temperatura \n",
    "        #     -> prihvatice se i to resenje (iako je losije)\n",
    "        # kako temperatura opada -> manja verovatnoca da cemo da prihvatamo i losija resenja\n",
    "        #     -> prihvatace se uglavnom samo ona resenja sa delta_score > 0\n",
    "                                                    # Metropolisov kriterijum\n",
    "        if delta_score > 0 or random.uniform(0, 1) < math.exp(delta_score / temperature):\n",
    "            current_solution = neighbor\n",
    "            current_score = neighbor_score\n",
    "        \n",
    "        if current_score > best_score:\n",
    "            best_solution = current_solution\n",
    "            best_score = current_score\n",
    "        \n",
    "        temperature *= cooling_rate\n",
    "    \n",
    "    return best_solution, best_score"
   ]
  },
  {
   "cell_type": "markdown",
   "id": "24955f5c-1d12-48ee-bb2c-84ba348581b5",
   "metadata": {},
   "source": [
    "Kada je temperatura visoka, Metropolisov kriterijum je veći, što znači da je veća verovatnoća prihvatanja lošijeg rešenja. Kako temperatura opada tokom vremena, verovatnoća prihvatanja lošijeg rešenja takođe opada, što omogućava algoritmu da se postepeno fokusira na poboljšavanje kvaliteta rešenja."
   ]
  },
  {
   "cell_type": "code",
   "execution_count": null,
   "id": "c587f7e9-b7b0-4845-a9a3-57cf8205e144",
   "metadata": {},
   "outputs": [],
   "source": []
  },
  {
   "cell_type": "code",
   "execution_count": 26,
   "id": "08f8277e-cd49-4d27-9dd7-3e4f701b9e41",
   "metadata": {},
   "outputs": [],
   "source": [
    "import math\n",
    "import random\n",
    "\n",
    "def initial_solution(A):\n",
    "    return random.sample(A, len(A))\n",
    "\n",
    "def count_triplets(solution, C):\n",
    "    count = 0\n",
    "    for (a, b, c) in C:\n",
    "        index_a = solution.index(a)\n",
    "        index_b = solution.index(b)\n",
    "        index_c = solution.index(c)\n",
    "        if (index_a < index_b < index_c) or (index_c < index_b < index_a):\n",
    "            count += 1\n",
    "    return count\n",
    "\n",
    "def generate_neighbor(solution):\n",
    "    neighbor = solution[:]\n",
    "    i, j = random.sample(range(len(solution)), 2)\n",
    "    neighbor[i], neighbor[j] = neighbor[j], neighbor[i]\n",
    "    return neighbor\n",
    "\n",
    "# Primeri strategija hlađenja temperature\n",
    "def linear_cooling(initial_temperature, iterations, cooling_rate):\n",
    "    return initial_temperature * cooling_rate\n",
    "\n",
    "def geometric_cooling(initial_temperature, iteration, cooling_rate):\n",
    "    return initial_temperature * cooling_rate ** iteration\n",
    "\n",
    "def sqrt_cooling(initial_temperature, iteration):\n",
    "    return initial_temperature / math.sqrt(iteration + 1)\n",
    "\n",
    "def log_cooling(initial_temperature, iteration):\n",
    "    return initial_temperature / math.log(iteration + 2)\n",
    "\n",
    "def simulated_annealing(A, C, cooling_strategy, initial_temperature=100, stopping_temperature=1e-6, max_iterations=1000, **kwargs):\n",
    "    current_solution = initial_solution(A)\n",
    "    current_score = count_triplets(current_solution, C)\n",
    "    best_solution = current_solution\n",
    "    best_score = current_score\n",
    "    temperature = initial_temperature\n",
    "    \n",
    "    for iteration in range(max_iterations):\n",
    "        if temperature < stopping_temperature:\n",
    "            break\n",
    "        \n",
    "        neighbor = generate_neighbor(current_solution)\n",
    "        neighbor_score = count_triplets(neighbor, C)\n",
    "        \n",
    "        delta_score = neighbor_score - current_score\n",
    "\n",
    "        if delta_score > 0 or random.uniform(0, 1) < math.exp(delta_score / temperature):\n",
    "            current_solution = neighbor\n",
    "            current_score = neighbor_score\n",
    "        \n",
    "        if current_score > best_score:\n",
    "            best_solution = current_solution\n",
    "            best_score = current_score\n",
    "        \n",
    "        temperature = cooling_strategy(initial_temperature, iteration, **kwargs)\n",
    "    \n",
    "    return best_solution, best_score"
   ]
  },
  {
   "cell_type": "code",
   "execution_count": null,
   "id": "ce1fbe46-0c04-40a8-bfe5-ccd7511d8b57",
   "metadata": {},
   "outputs": [],
   "source": []
  },
  {
   "cell_type": "code",
   "execution_count": 3,
   "id": "272132fa-a38a-4ad9-bece-e66ffaf9e135",
   "metadata": {},
   "outputs": [],
   "source": [
    "A = [1, 2, 3, 4, 5]\n",
    "C = [(1, 2, 3), (2, 4, 5), (1, 3, 5)]"
   ]
  },
  {
   "cell_type": "code",
   "execution_count": 27,
   "id": "95995fbc-de06-4aac-a8ec-62ba2967920f",
   "metadata": {},
   "outputs": [],
   "source": [
    "A = [1, 2, 3, 4, 5, 6, 7, 8, 9]\n",
    "C = [\n",
    "    (2, 1, 3), (2, 1, 4), (1, 2, 4), (4, 2, 1), (1, 2, 3),\n",
    "    (3, 2, 4), (1, 4, 2), (5, 2, 3), (3, 1, 5), (4, 5, 2),\n",
    "    (6, 3, 2), (4, 6, 1), (7, 2, 6), (3, 7, 1), (8, 1, 2),\n",
    "    (2, 3, 8), (9, 2, 1), (1, 9, 3)\n",
    "]"
   ]
  },
  {
   "cell_type": "code",
   "execution_count": 28,
   "id": "f62732ca-a1cd-4a84-8686-ab2a870b9412",
   "metadata": {},
   "outputs": [
    {
     "name": "stdout",
     "output_type": "stream",
     "text": [
      "Linearno hladjenje - Najbolje resenje: [8, 3, 7, 9, 1, 2, 4, 5, 6]\n",
      "Najbolji rezultat: 11\n",
      "Geometrijsko hladjenje - Najbolje resenje: [8, 3, 7, 9, 1, 2, 5, 6, 4]\n",
      "Najbolji rezultat: 13\n",
      "Hladjenje kvadratnim korenom - Najbolje resenje: [8, 3, 7, 1, 2, 6, 9, 5, 4]\n",
      "Najbolji rezultat: 13\n",
      "Logaritamsko hladjenje - Najbolje resenje: [8, 3, 1, 6, 2, 7, 4, 9, 5]\n",
      "Najbolji rezultat: 11\n"
     ]
    }
   ],
   "source": [
    "# Linearno hladjenje\n",
    "best_solution, best_score = simulated_annealing(A, C, linear_cooling, cooling_rate = 0.95)\n",
    "print(\"Linearno hladjenje - Najbolje resenje:\", best_solution)\n",
    "print(\"Najbolji rezultat:\", best_score)\n",
    "\n",
    "# Geometrijsko hladjenje\n",
    "best_solution, best_score = simulated_annealing(A, C, geometric_cooling, cooling_rate=0.95)\n",
    "print(\"Geometrijsko hladjenje - Najbolje resenje:\", best_solution)\n",
    "print(\"Najbolji rezultat:\", best_score)\n",
    "\n",
    "# Hladjenje kvadratnim korenom\n",
    "best_solution, best_score = simulated_annealing(A, C, sqrt_cooling)\n",
    "print(\"Hladjenje kvadratnim korenom - Najbolje resenje:\", best_solution)\n",
    "print(\"Najbolji rezultat:\", best_score)\n",
    "\n",
    "# Logaritamsko hladjenje\n",
    "best_solution, best_score = simulated_annealing(A, C, log_cooling)\n",
    "print(\"Logaritamsko hladjenje - Najbolje resenje:\", best_solution)\n",
    "print(\"Najbolji rezultat:\", best_score)"
   ]
  },
  {
   "cell_type": "code",
   "execution_count": 29,
   "id": "e203f575-82b7-4d19-b22e-0da6dbafa39f",
   "metadata": {},
   "outputs": [],
   "source": [
    "def adaptive_cooling(initial_temperature, iteration, acceptance_rate, target_acceptance_rate=0.5):\n",
    "    if acceptance_rate > target_acceptance_rate:\n",
    "        return initial_temperature / math.log(iteration + 2)\n",
    "    else:\n",
    "        return initial_temperature * 0.95\n",
    "\n",
    "def simulated_annealing_adaptive(A, C, initial_temperature=100, stopping_temperature=1e-6, max_iterations=1000):\n",
    "    current_solution = initial_solution(A)\n",
    "    current_score = count_triplets(current_solution, C)\n",
    "    best_solution = current_solution\n",
    "    best_score = current_score\n",
    "    temperature = initial_temperature\n",
    "    acceptance_count = 0\n",
    "    total_count = 0\n",
    "    \n",
    "    for iteration in range(max_iterations):\n",
    "        if temperature < stopping_temperature:\n",
    "            break\n",
    "        \n",
    "        neighbor = generate_neighbor(current_solution)\n",
    "        neighbor_score = count_triplets(neighbor, C)\n",
    "        \n",
    "        delta_score = neighbor_score - current_score\n",
    "\n",
    "        if delta_score > 0 or random.uniform(0, 1) < math.exp(delta_score / temperature):\n",
    "            current_solution = neighbor\n",
    "            current_score = neighbor_score\n",
    "            acceptance_count += 1\n",
    "        \n",
    "        total_count += 1\n",
    "        acceptance_rate = acceptance_count / total_count\n",
    "        temperature = adaptive_cooling(initial_temperature, iteration, acceptance_rate)\n",
    "    \n",
    "    return best_solution, best_score\n"
   ]
  },
  {
   "cell_type": "code",
   "execution_count": 34,
   "id": "7721d237-230d-4747-bf19-d88550b7ee5c",
   "metadata": {
    "scrolled": true
   },
   "outputs": [
    {
     "name": "stdout",
     "output_type": "stream",
     "text": [
      "Adaptivno hladjenje - Najbolje resenje: [8, 3, 7, 1, 2, 9, 5, 6, 4]\n",
      "Najbolji rezultat: 13\n"
     ]
    }
   ],
   "source": [
    "# Adaptivno hladjenje\n",
    "best_solution, best_score = simulated_annealing(A, C, adaptive_cooling, acceptance_rate=0.6)\n",
    "print(\"Adaptivno hladjenje - Najbolje resenje:\", best_solution)\n",
    "print(\"Najbolji rezultat:\", best_score)"
   ]
  },
  {
   "cell_type": "code",
   "execution_count": null,
   "id": "7a893835-48e6-4567-a026-bb281c246345",
   "metadata": {},
   "outputs": [],
   "source": []
  },
  {
   "cell_type": "code",
   "execution_count": 8,
   "id": "8a7977e8-a009-4a45-ae00-e0bb9819d29a",
   "metadata": {},
   "outputs": [
    {
     "name": "stdout",
     "output_type": "stream",
     "text": [
      "temperatura\n",
      "Najbolje rešenje: [8, 11, 5, 6, 14, 3, 1, 10, 9, 7, 12, 13, 2, 4, 15]\n",
      "Broj trojki koje zadovoljavaju uslove: 3\n"
     ]
    }
   ],
   "source": [
    "A = list(range(1, 16))\n",
    "C = [(2, 1, 3), (2, 1, 4), (1, 2, 4), (4, 2, 1), (1, 2, 3)]\n",
    "solution, score = simulated_annealing_max_betweenness(A, C)\n",
    "print(\"Najbolje rešenje:\", solution)\n",
    "print(\"Broj trojki koje zadovoljavaju uslove:\", score)\n"
   ]
  },
  {
   "cell_type": "code",
   "execution_count": null,
   "id": "4595a7fc-88d4-4fda-a7b5-2757469f4bbc",
   "metadata": {},
   "outputs": [],
   "source": []
  },
  {
   "cell_type": "code",
   "execution_count": 9,
   "id": "453a6fed-4103-49d1-ae22-57cd16cd0ca3",
   "metadata": {},
   "outputs": [
    {
     "name": "stdout",
     "output_type": "stream",
     "text": [
      "temperatura\n",
      "Najbolje rešenje: [4, 5, 6, 2, 1, 8, 9, 7, 3]\n",
      "Broj trojki koje zadovoljavaju uslove: 12\n"
     ]
    }
   ],
   "source": [
    "A = [1, 2, 3, 4, 5, 6, 7, 8, 9]\n",
    "C = [\n",
    "    (2, 1, 3), (2, 1, 4), (1, 2, 4), (4, 2, 1), (1, 2, 3),\n",
    "    (3, 2, 4), (1, 4, 2), (5, 2, 3), (3, 1, 5), (4, 5, 2),\n",
    "    (6, 3, 2), (4, 6, 1), (7, 2, 6), (3, 7, 1), (8, 1, 2),\n",
    "    (2, 3, 8), (9, 2, 1), (1, 9, 3)\n",
    "]\n",
    "\n",
    "solution, score = simulated_annealing_max_betweenness(A, C)\n",
    "print(\"Najbolje rešenje:\", solution)\n",
    "print(\"Broj trojki koje zadovoljavaju uslove:\", score)\n"
   ]
  },
  {
   "cell_type": "code",
   "execution_count": null,
   "id": "31c5c99c-b257-41a0-a509-184f6331bb0f",
   "metadata": {},
   "outputs": [],
   "source": []
  },
  {
   "cell_type": "code",
   "execution_count": 10,
   "id": "37aecb4f-273e-4bc6-acc0-b6fd4c6afaf4",
   "metadata": {},
   "outputs": [
    {
     "name": "stdout",
     "output_type": "stream",
     "text": [
      "temperatura\n",
      "Najbolje rešenje: [4, 6, 5, 2, 1, 7, 3]\n",
      "Broj trojki koje zadovoljavaju uslove: 10\n"
     ]
    }
   ],
   "source": [
    "# Skup A sa 7 elemenata\n",
    "A = [1, 2, 3, 4, 5, 6, 7]\n",
    "\n",
    "# Kolekcija C sa 14 trojki\n",
    "C = [\n",
    "    (2, 1, 3), (2, 1, 4), (1, 2, 4), (4, 2, 1), (1, 2, 3),\n",
    "    (3, 2, 4), (1, 4, 2), (5, 2, 3), (3, 1, 5), (4, 5, 2),\n",
    "    (6, 3, 2), (4, 6, 1), (7, 2, 6), (3, 7, 1)\n",
    "]\n",
    "\n",
    "\n",
    "solution, score = simulated_annealing_max_betweenness(A, C)\n",
    "print(\"Najbolje rešenje:\", solution)\n",
    "print(\"Broj trojki koje zadovoljavaju uslove:\", score)\n"
   ]
  },
  {
   "cell_type": "code",
   "execution_count": null,
   "id": "96e90a31-d472-4a95-804e-6ce01fe4ffb2",
   "metadata": {},
   "outputs": [],
   "source": []
  },
  {
   "cell_type": "code",
   "execution_count": 11,
   "id": "2887b3ea-3d2e-44af-8d95-137dbe1a467a",
   "metadata": {},
   "outputs": [],
   "source": [
    "# Generisanje skupa A sa 100 elemenata\n",
    "A = list(range(1, 101))\n",
    "C = [(random.choice(A), random.choice(A), random.choice(A)) for _ in range(200)]"
   ]
  },
  {
   "cell_type": "code",
   "execution_count": 12,
   "id": "bbc77924-7d85-4dc6-9d6f-b3a55736b7cc",
   "metadata": {},
   "outputs": [
    {
     "name": "stdout",
     "output_type": "stream",
     "text": [
      "temperatura\n",
      "Najbolje rešenje: [15, 10, 8, 96, 29, 90, 1, 41, 9, 33, 67, 75, 36, 25, 81, 73, 7, 61, 3, 56, 53, 54, 76, 79, 48, 17, 34, 49, 99, 74, 70, 95, 40, 13, 100, 65, 18, 97, 50, 57, 31, 63, 35, 62, 89, 44, 24, 16, 2, 26, 58, 93, 94, 32, 87, 66, 77, 52, 72, 38, 23, 84, 69, 42, 47, 4, 88, 46, 98, 86, 59, 14, 12, 6, 68, 78, 27, 22, 28, 60, 19, 30, 64, 55, 51, 91, 5, 85, 71, 43, 11, 37, 20, 92, 45, 39, 80, 82, 83, 21]\n",
      "Broj trojki koje zadovoljavaju uslove: 122\n"
     ]
    }
   ],
   "source": [
    "# izgenerisan skup A sa 100 elemenata\n",
    "A = [1, 2, 3, 4, 5, 6, 7, 8, 9, 10, 11, 12, 13, 14, 15, 16, 17, 18, 19, 20, 21, 22, 23, 24, 25, 26, 27, 28, 29, 30, 31, 32, 33, 34, 35, 36, 37, 38, 39, 40, 41, 42, 43, 44, 45, 46, 47, 48, 49, 50, 51, 52, 53, 54, 55, 56, 57, 58, 59, 60, 61, 62, 63, 64, 65, 66, 67, 68, 69, 70, 71, 72, 73, 74, 75, 76, 77, 78, 79, 80, 81, 82, 83, 84, 85, 86, 87, 88, 89, 90, 91, 92, 93, 94, 95, 96, 97, 98, 99, 100]\n",
    "C = [(60, 2, 24), (60, 61, 23), (54, 10, 11), (15, 76, 23), (89, 39, 69), (75, 20, 90), (52, 56, 94), (72, 28, 69), (72, 4, 14), (15, 44, 91), (5, 76, 95), (19, 4, 61), (52, 66, 44), (71, 27, 62), (58, 3, 90), (34, 79, 96), (20, 73, 67), (55, 82, 52), (62, 90, 90), (89, 38, 21), (13, 94, 2), (74, 55, 41), (72, 15, 83), (21, 70, 94), (25, 66, 23), (29, 20, 96), (3, 54, 88), (1, 54, 6), (44, 13, 34), (13, 61, 69), (31, 72, 58), (38, 66, 65), (34, 73, 1), (21, 13, 29), (100, 78, 65), (20, 37, 54), (44, 23, 42), (49, 34, 45), (41, 7, 34), (39, 14, 69), (38, 63, 15), (79, 38, 44), (30, 62, 15), (66, 69, 80), (5, 72, 99), (78, 1, 69), (71, 30, 88), (31, 84, 10), (13, 47, 16), (77, 91, 55), (15, 7, 37), (17, 63, 32), (61, 32, 47), (30, 7, 35), (51, 34, 78), (20, 22, 93), (44, 8, 63), (4, 84, 9), (20, 12, 35), (85, 38, 58), (7, 51, 92), (36, 25, 58), (37, 25, 63), (17, 17, 9), (1, 70, 84), (15, 35, 19), (84, 67, 32), (9, 49, 85), (81, 91, 99), (78, 1, 10), (85, 71, 5), (85, 31, 48), (90, 49, 69), (28, 24, 58), (18, 79, 39), (52, 70, 7), (28, 61, 76), (54, 77, 78), (85, 72, 49), (62, 62, 85), (65, 40, 17), (92, 5, 23), (55, 65, 82), (69, 52, 81), (91, 21, 54), (33, 90, 100), (80, 93, 84), (51, 51, 52), (21, 99, 96), (47, 57, 40), (94, 40, 67), (38, 99, 41), (96, 37, 58), (30, 44, 49), (59, 98, 61), (8, 25, 53), (39, 32, 76), (70, 64, 56), (14, 68, 81), (37, 16, 53), (34, 52, 58), (33, 76, 27), (45, 32, 42), (91, 13, 8), (96, 76, 66), (39, 59, 96), (64, 59, 63), (78, 12, 73), (18, 35, 12), (20, 90, 86), (21, 28, 46), (94, 63, 70), (13, 97, 71), (61, 96, 88), (76, 30, 87), (37, 43, 24), (77, 6, 66), (7, 2, 82), (67, 24, 78), (8, 56, 87), (76, 46, 52), (38, 37, 24), (95, 6, 68), (16, 31, 50), (48, 34, 45), (49, 51, 91), (15, 70, 91), (76, 34, 44), (31, 61, 24), (82, 37, 49), (61, 85, 74), (27, 34, 23), (37, 90, 58), (19, 78, 25), (8, 58, 72), (74, 91, 19), (52, 69, 86), (29, 89, 24), (62, 83, 21), (48, 23, 42), (16, 46, 25), (35, 54, 96), (2, 84, 12), (1, 69, 12), (83, 8, 47), (11, 94, 93), (53, 97, 4), (19, 45, 69), (91, 74, 79), (72, 92, 36), (54, 34, 3), (17, 40, 66), (63, 89, 92), (35, 26, 69), (77, 60, 37), (93, 74, 28), (49, 91, 55), (50, 1, 49), (80, 28, 90), (15, 56, 83), (7, 43, 83), (74, 91, 26), (11, 46, 7), (28, 86, 81), (2, 50, 81), (65, 47, 8), (56, 44, 6), (87, 71, 43), (82, 27, 77), (63, 40, 2), (12, 20, 75), (2, 60, 47), (1, 38, 23), (1, 13, 17), (7, 86, 1), (92, 91, 25), (100, 35, 5), (24, 17, 8), (38, 77, 56), (22, 5, 58), (9, 89, 73), (81, 100, 91), (93, 45, 28), (80, 77, 15), (61, 74, 59), (46, 88, 72), (43, 14, 44), (94, 36, 59), (16, 41, 25), (84, 33, 14), (4, 58, 7), (82, 97, 1), (75, 35, 20), (38, 26, 9), (7, 68, 20), (20, 91, 59), (80, 31, 8), (9, 75, 74), (4, 71, 100), (37, 32, 79)]\n",
    "\n",
    "solution, score = simulated_annealing_max_betweenness(A, C)\n",
    "print(\"Najbolje rešenje:\", solution)\n",
    "print(\"Broj trojki koje zadovoljavaju uslove:\", score)"
   ]
  },
  {
   "cell_type": "code",
   "execution_count": null,
   "id": "ec070a64-fcff-40ec-ae7b-dd634c6d327b",
   "metadata": {},
   "outputs": [],
   "source": []
  },
  {
   "cell_type": "code",
   "execution_count": null,
   "id": "a8c33915-424b-42c8-b45d-ad0f54771ea1",
   "metadata": {},
   "outputs": [],
   "source": []
  },
  {
   "cell_type": "code",
   "execution_count": null,
   "id": "023b6ea5-e108-40c7-bdb8-3780a907e37e",
   "metadata": {},
   "outputs": [],
   "source": []
  }
 ],
 "metadata": {
  "kernelspec": {
   "display_name": "Python 3 (ipykernel)",
   "language": "python",
   "name": "python3"
  },
  "language_info": {
   "codemirror_mode": {
    "name": "ipython",
    "version": 3
   },
   "file_extension": ".py",
   "mimetype": "text/x-python",
   "name": "python",
   "nbconvert_exporter": "python",
   "pygments_lexer": "ipython3",
   "version": "3.10.12"
  }
 },
 "nbformat": 4,
 "nbformat_minor": 5
}
