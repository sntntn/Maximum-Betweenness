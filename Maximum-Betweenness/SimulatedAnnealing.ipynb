{
 "cells": [
  {
   "cell_type": "markdown",
   "id": "7aaeb895-4a77-4345-b2e2-8c34cccf7dc4",
   "metadata": {},
   "source": [
    "# SIMULIRANO KALJENJE"
   ]
  },
  {
   "cell_type": "code",
   "execution_count": 112,
   "id": "20281e0b-8d41-4c25-8856-c30cd4b71424",
   "metadata": {},
   "outputs": [],
   "source": [
    "import random\n",
    "import math\n",
    "\n",
    "def initial_solution(A):\n",
    "    return random.sample(A, len(A))\n",
    "\n",
    "# broj trojki koje zadovoljavaju uslov za datu permutaciju solutions\n",
    "def count_triplets(solution, C):\n",
    "    count = 0\n",
    "    for (a, b, c) in C:\n",
    "        index_a = solution.index(a)\n",
    "        index_b = solution.index(b)\n",
    "        index_c = solution.index(c)\n",
    "        if (index_a < index_b < index_c) or (index_c < index_b < index_a):\n",
    "            count += 1\n",
    "    return count\n",
    "\n",
    "def generate_neighbor(solution):\n",
    "    # generisemo jednu susednu permutaciju da bi dopustili i prihvatanje losijih resenja\n",
    "    # kako bi izbegli zaglavljivanje u lokalnim optimumima (kao kod lokalne pretrage)\n",
    "    neighbor = solution[:]\n",
    "    i, j = random.sample(range(len(solution)), 2)\n",
    "    neighbor[i], neighbor[j] = neighbor[j], neighbor[i]\n",
    "    return neighbor\n",
    "\n",
    "def simulated_annealing_max_betweenness(A, C, initial_temperature=100, cooling_rate=0.95, stopping_temperature=1e-6, max_iterations=1000):\n",
    "    current_solution = initial_solution(A)\n",
    "    current_score = count_triplets(current_solution, C)\n",
    "    best_solution = current_solution\n",
    "    best_score = current_score\n",
    "    temperature = initial_temperature\n",
    "    \n",
    "    for iteration in range(max_iterations):\n",
    "        if temperature < stopping_temperature:\n",
    "            print(\"temperatura\")\n",
    "            break\n",
    "        \n",
    "        neighbor = generate_neighbor(current_solution)\n",
    "        neighbor_score = count_triplets(neighbor, C)\n",
    "        \n",
    "        delta_score = neighbor_score - current_score\n",
    "\n",
    "        # ako je delta score negativan i visoka temperatura \n",
    "        #     -> prihvatice se i to resenje (iako je losije)\n",
    "        # kako temperatura opada -> manja verovatnoca da cemo da prihvatamo i losija resenja\n",
    "        #     -> prihvatace se uglavnom samo ona resenja sa delta_score > 0\n",
    "                                                    # Metropolisov kriterijum\n",
    "        if delta_score > 0 or random.uniform(0, 1) < math.exp(delta_score / temperature):\n",
    "            current_solution = neighbor\n",
    "            current_score = neighbor_score\n",
    "        \n",
    "        if current_score > best_score:\n",
    "            best_solution = current_solution\n",
    "            best_score = current_score\n",
    "        \n",
    "        temperature *= cooling_rate\n",
    "    \n",
    "    return best_solution, best_score"
   ]
  },
  {
   "cell_type": "markdown",
   "id": "24955f5c-1d12-48ee-bb2c-84ba348581b5",
   "metadata": {},
   "source": [
    "Kada je temperatura visoka, Metropolisov kriterijum je veći, što znači da je veća verovatnoća prihvatanja lošijeg rešenja. Kako temperatura opada tokom vremena, verovatnoća prihvatanja lošijeg rešenja takođe opada, što omogućava algoritmu da se postepeno fokusira na poboljšavanje kvaliteta rešenja."
   ]
  },
  {
   "cell_type": "code",
   "execution_count": 111,
   "id": "8a7977e8-a009-4a45-ae00-e0bb9819d29a",
   "metadata": {},
   "outputs": [
    {
     "name": "stdout",
     "output_type": "stream",
     "text": [
      "temperatura\n",
      "Najbolje rešenje: [11, 3, 7, 5, 6, 12, 10, 8, 4, 2, 15, 14, 9, 1, 13]\n",
      "Broj trojki koje zadovoljavaju uslove: 3\n"
     ]
    }
   ],
   "source": [
    "A = list(range(1, 16))\n",
    "C = [(2, 1, 3), (2, 1, 4), (1, 2, 4), (4, 2, 1), (1, 2, 3)]\n",
    "solution, score = simulated_annealing_max_betweenness(A, C)\n",
    "print(\"Najbolje rešenje:\", solution)\n",
    "print(\"Broj trojki koje zadovoljavaju uslove:\", score)\n"
   ]
  },
  {
   "cell_type": "code",
   "execution_count": null,
   "id": "4595a7fc-88d4-4fda-a7b5-2757469f4bbc",
   "metadata": {},
   "outputs": [],
   "source": []
  },
  {
   "cell_type": "code",
   "execution_count": 103,
   "id": "453a6fed-4103-49d1-ae22-57cd16cd0ca3",
   "metadata": {},
   "outputs": [
    {
     "name": "stdout",
     "output_type": "stream",
     "text": [
      "temperatura\n",
      "Najbolje rešenje: [4, 9, 6, 5, 2, 1, 7, 3, 8]\n",
      "Broj trojki koje zadovoljavaju uslove: 13\n"
     ]
    }
   ],
   "source": [
    "A = [1, 2, 3, 4, 5, 6, 7, 8, 9]\n",
    "C = [\n",
    "    (2, 1, 3), (2, 1, 4), (1, 2, 4), (4, 2, 1), (1, 2, 3),\n",
    "    (3, 2, 4), (1, 4, 2), (5, 2, 3), (3, 1, 5), (4, 5, 2),\n",
    "    (6, 3, 2), (4, 6, 1), (7, 2, 6), (3, 7, 1), (8, 1, 2),\n",
    "    (2, 3, 8), (9, 2, 1), (1, 9, 3)\n",
    "]\n",
    "\n",
    "solution, score = simulated_annealing_max_betweenness(A, C)\n",
    "print(\"Najbolje rešenje:\", solution)\n",
    "print(\"Broj trojki koje zadovoljavaju uslove:\", score)\n"
   ]
  },
  {
   "cell_type": "code",
   "execution_count": null,
   "id": "31c5c99c-b257-41a0-a509-184f6331bb0f",
   "metadata": {},
   "outputs": [],
   "source": []
  },
  {
   "cell_type": "code",
   "execution_count": 51,
   "id": "37aecb4f-273e-4bc6-acc0-b6fd4c6afaf4",
   "metadata": {},
   "outputs": [
    {
     "name": "stdout",
     "output_type": "stream",
     "text": [
      "Najbolje rešenje: [4, 5, 6, 2, 1, 7, 3]\n",
      "Broj trojki koje zadovoljavaju uslove: 10\n"
     ]
    }
   ],
   "source": [
    "# Skup A sa 7 elemenata\n",
    "A = [1, 2, 3, 4, 5, 6, 7]\n",
    "\n",
    "# Kolekcija C sa 14 trojki\n",
    "C = [\n",
    "    (2, 1, 3), (2, 1, 4), (1, 2, 4), (4, 2, 1), (1, 2, 3),\n",
    "    (3, 2, 4), (1, 4, 2), (5, 2, 3), (3, 1, 5), (4, 5, 2),\n",
    "    (6, 3, 2), (4, 6, 1), (7, 2, 6), (3, 7, 1)\n",
    "]\n",
    "\n",
    "\n",
    "solution, score = simulated_annealing_max_betweenness(A, C)\n",
    "print(\"Najbolje rešenje:\", solution)\n",
    "print(\"Broj trojki koje zadovoljavaju uslove:\", score)\n"
   ]
  },
  {
   "cell_type": "code",
   "execution_count": null,
   "id": "96e90a31-d472-4a95-804e-6ce01fe4ffb2",
   "metadata": {},
   "outputs": [],
   "source": []
  },
  {
   "cell_type": "code",
   "execution_count": null,
   "id": "2887b3ea-3d2e-44af-8d95-137dbe1a467a",
   "metadata": {},
   "outputs": [],
   "source": []
  },
  {
   "cell_type": "code",
   "execution_count": null,
   "id": "bbc77924-7d85-4dc6-9d6f-b3a55736b7cc",
   "metadata": {},
   "outputs": [],
   "source": []
  }
 ],
 "metadata": {
  "kernelspec": {
   "display_name": "Python 3 (ipykernel)",
   "language": "python",
   "name": "python3"
  },
  "language_info": {
   "codemirror_mode": {
    "name": "ipython",
    "version": 3
   },
   "file_extension": ".py",
   "mimetype": "text/x-python",
   "name": "python",
   "nbconvert_exporter": "python",
   "pygments_lexer": "ipython3",
   "version": "3.10.12"
  }
 },
 "nbformat": 4,
 "nbformat_minor": 5
}
