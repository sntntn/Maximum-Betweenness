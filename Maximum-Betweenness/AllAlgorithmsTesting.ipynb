{
 "cells": [
  {
   "cell_type": "markdown",
   "id": "de6edee1-8b42-44ab-82ec-2bbb1a76fd9a",
   "metadata": {},
   "source": [
    "### Generisanje test primera"
   ]
  },
  {
   "cell_type": "code",
   "execution_count": 68,
   "id": "190debde-9ab5-47e5-8c3e-cc27fe37134c",
   "metadata": {},
   "outputs": [],
   "source": [
    "import random\n",
    "import time"
   ]
  },
  {
   "cell_type": "code",
   "execution_count": 2,
   "id": "9cd6aca4-09d7-4bda-8bc0-17afd27abc12",
   "metadata": {
    "scrolled": true
   },
   "outputs": [],
   "source": [
    "# Generisanje skupa A sa 5 elemenata i 4 trojke u skupu C\n",
    "A_5_4 = list(range(1, 6))\n",
    "C_5_4 = [tuple(random.sample(A_5_4, 3)) for _ in range(4)]"
   ]
  },
  {
   "cell_type": "code",
   "execution_count": 3,
   "id": "f93a5b3b-c86d-412c-9920-a2671f3573bf",
   "metadata": {},
   "outputs": [],
   "source": [
    "# Generisanje skupa A sa 7 elemenata i 14 trojki u skupu C\n",
    "A_7_14 = list(range(1, 8))\n",
    "C_7_14 = [tuple(random.sample(A_7_14, 3)) for _ in range(14)]"
   ]
  },
  {
   "cell_type": "code",
   "execution_count": 4,
   "id": "d81a7bd6-c677-4e47-ab27-b78865b66d09",
   "metadata": {},
   "outputs": [],
   "source": [
    "# Generisanje skupa A sa 10 elemenata i 20 trojki u skupu C\n",
    "A_10_20 = list(range(1, 11))\n",
    "C_10_20 = [tuple(random.sample(A_10_20, 3)) for _ in range(20)]"
   ]
  },
  {
   "cell_type": "code",
   "execution_count": 5,
   "id": "e02c2ee1-2606-4b8a-8e8c-5e38b079eece",
   "metadata": {},
   "outputs": [],
   "source": [
    "# Generisanje skupa A sa 25 elemenata i 50 trojki u skupu C\n",
    "A_25_50 = list(range(1, 26))\n",
    "C_25_50 = [tuple(random.sample(A_25_50, 3)) for _ in range(50)]"
   ]
  },
  {
   "cell_type": "code",
   "execution_count": 6,
   "id": "76569c90-ed84-4d83-be5a-53349d11b6e4",
   "metadata": {},
   "outputs": [],
   "source": [
    "# Generisanje skupa A sa 50 elemenata i 100 trojki u skupu C\n",
    "A_50_100 = list(range(1, 51))\n",
    "C_50_100 = [tuple(random.sample(A_50_100, 3)) for _ in range(100)]"
   ]
  },
  {
   "cell_type": "code",
   "execution_count": 7,
   "id": "bf4f7491-db96-4893-a380-790c8938e539",
   "metadata": {},
   "outputs": [],
   "source": [
    "# Generisanje skupa A sa 100 elemenata i 200 trojki u skupu C\n",
    "A_100_200 = list(range(1, 101))\n",
    "C_100_200 = [tuple(random.sample(A_100_200, 3)) for _ in range(200)]"
   ]
  },
  {
   "cell_type": "code",
   "execution_count": 31,
   "id": "a1deb031-4302-43ae-a67f-31711fa2b915",
   "metadata": {},
   "outputs": [],
   "source": [
    "# Generisanje skupa A sa 150 elemenata i 300 trojki u skupu C\n",
    "#A_150_300 = list(range(1, 151))\n",
    "#C_150_300 = [tuple(random.sample(A_150_300, 3)) for _ in range(300)]"
   ]
  },
  {
   "cell_type": "code",
   "execution_count": 82,
   "id": "f1d99d26-80b9-45e1-8210-376ab35f241b",
   "metadata": {},
   "outputs": [],
   "source": [
    "data_sets_BF = [(A_5_4, C_5_4), (A_7_14, C_7_14)]\n",
    "data_sets = [(A_5_4, C_5_4), (A_7_14, C_7_14), (A_10_20, C_10_20), (A_25_50, C_25_50), (A_50_100, C_50_100), (A_100_200, C_100_200)]"
   ]
  },
  {
   "cell_type": "markdown",
   "id": "488cb73e-4998-4493-9f36-868caf9cc1b7",
   "metadata": {},
   "source": [
    "#### ispis generisanih test primera"
   ]
  },
  {
   "cell_type": "code",
   "execution_count": 65,
   "id": "d1aa2df7-73bf-4638-bdce-e4f48a2dc357",
   "metadata": {
    "scrolled": true
   },
   "outputs": [
    {
     "name": "stdout",
     "output_type": "stream",
     "text": [
      "------------------------------------------------------------------------------------------------\n",
      ">>>5 elemenata 4 trojki\n",
      "---------------------------------\n",
      "[1, 2, 3, 4, 5]\n",
      "\n",
      "[(5, 3, 1), (3, 5, 2), (4, 5, 1), (5, 1, 3)]\n",
      "------------------------------------------------------------------------------------------------\n",
      ">>>7 elemenata 14 trojki\n",
      "---------------------------------\n",
      "[1, 2, 3, 4, 5, 6, 7]\n",
      "\n",
      "[(2, 5, 3), (1, 7, 4), (4, 1, 3), (2, 7, 4), (3, 6, 2), (3, 7, 5), (5, 2, 4), (4, 5, 6), (1, 7, 3), (1, 6, 4), (7, 2, 4), (5, 3, 6), (6, 4, 5), (2, 5, 7)]\n",
      "------------------------------------------------------------------------------------------------\n",
      ">>>10 elemenata 20 trojki\n",
      "---------------------------------\n",
      "[1, 2, 3, 4, 5, 6, 7, 8, 9, 10]\n",
      "\n",
      "[(7, 4, 2), (3, 4, 8), (8, 10, 4), (3, 10, 1), (3, 7, 10), (9, 10, 5), (4, 2, 1), (5, 6, 4), (2, 7, 6), (8, 9, 7), (3, 2, 10), (8, 9, 3), (8, 10, 7), (8, 7, 1), (5, 6, 8), (1, 5, 4), (6, 9, 1), (3, 2, 4), (7, 8, 4), (7, 10, 8)]\n",
      "------------------------------------------------------------------------------------------------\n",
      ">>>25 elemenata 50 trojki\n",
      "---------------------------------\n",
      "[1, 2, 3, 4, 5, 6, 7, 8, 9, 10, 11, 12, 13, 14, 15, 16, 17, 18, 19, 20, 21, 22, 23, 24, 25]\n",
      "\n",
      "[(20, 11, 9), (5, 4, 15), (17, 20, 5), (7, 14, 1), (19, 25, 16), (16, 22, 9), (9, 16, 17), (20, 2, 22), (3, 9, 21), (6, 20, 1), (8, 4, 13), (8, 24, 2), (4, 11, 19), (15, 17, 14), (7, 5, 1), (24, 20, 9), (15, 14, 20), (23, 18, 14), (3, 12, 7), (16, 10, 20), (5, 7, 4), (11, 16, 2), (25, 13, 12), (11, 24, 12), (4, 20, 21), (23, 1, 8), (15, 25, 1), (20, 23, 16), (2, 21, 11), (24, 6, 17), (5, 18, 16), (22, 3, 2), (6, 21, 15), (9, 18, 6), (10, 9, 18), (19, 12, 1), (1, 24, 6), (16, 22, 8), (18, 7, 8), (5, 2, 23), (10, 16, 21), (6, 22, 3), (20, 21, 4), (1, 21, 17), (2, 4, 5), (3, 13, 9), (10, 19, 18), (3, 15, 1), (15, 5, 14), (15, 11, 2)]\n",
      "------------------------------------------------------------------------------------------------\n",
      ">>>50 elemenata 100 trojki\n",
      "---------------------------------\n",
      "[1, 2, 3, 4, 5, 6, 7, 8, 9, 10, 11, 12, 13, 14, 15, 16, 17, 18, 19, 20, 21, 22, 23, 24, 25, 26, 27, 28, 29, 30, 31, 32, 33, 34, 35, 36, 37, 38, 39, 40, 41, 42, 43, 44, 45, 46, 47, 48, 49, 50]\n",
      "\n",
      "[(5, 23, 28), (11, 14, 29), (22, 49, 23), (40, 17, 19), (33, 37, 11), (16, 38, 18), (24, 19, 21), (2, 4, 33), (43, 34, 26), (1, 23, 19), (16, 20, 17), (50, 28, 39), (29, 48, 50), (4, 33, 49), (12, 44, 27), (29, 1, 15), (20, 45, 32), (43, 37, 25), (7, 22, 25), (12, 28, 5), (43, 46, 37), (26, 37, 41), (13, 10, 37), (35, 17, 33), (27, 25, 47), (23, 49, 7), (28, 16, 31), (42, 18, 8), (17, 45, 33), (15, 1, 11), (22, 43, 31), (32, 4, 14), (7, 11, 22), (17, 6, 22), (50, 6, 23), (30, 7, 23), (6, 35, 30), (49, 8, 46), (22, 1, 37), (1, 18, 30), (50, 2, 47), (31, 7, 39), (28, 49, 24), (45, 2, 8), (28, 1, 21), (30, 49, 10), (44, 9, 5), (47, 43, 31), (21, 38, 24), (18, 1, 5), (4, 31, 35), (27, 5, 50), (4, 49, 16), (8, 23, 24), (41, 35, 8), (37, 48, 46), (48, 16, 24), (7, 6, 27), (3, 20, 49), (6, 21, 37), (50, 9, 4), (31, 22, 1), (19, 29, 49), (11, 26, 22), (40, 12, 38), (10, 25, 41), (46, 37, 17), (32, 36, 16), (8, 19, 18), (48, 16, 13), (45, 31, 4), (18, 43, 46), (2, 27, 34), (43, 45, 42), (18, 43, 42), (39, 27, 6), (29, 9, 37), (34, 6, 46), (41, 8, 11), (39, 24, 41), (5, 47, 17), (50, 47, 25), (38, 14, 33), (6, 18, 50), (34, 4, 16), (40, 17, 28), (25, 27, 21), (40, 22, 24), (6, 16, 17), (26, 42, 1), (3, 21, 47), (34, 49, 8), (22, 28, 18), (17, 28, 8), (21, 17, 36), (4, 2, 46), (17, 24, 42), (2, 41, 46), (49, 16, 4), (31, 34, 14)]\n",
      "------------------------------------------------------------------------------------------------\n",
      ">>>100 elemenata 200 trojki\n",
      "---------------------------------\n",
      "[1, 2, 3, 4, 5, 6, 7, 8, 9, 10, 11, 12, 13, 14, 15, 16, 17, 18, 19, 20, 21, 22, 23, 24, 25, 26, 27, 28, 29, 30, 31, 32, 33, 34, 35, 36, 37, 38, 39, 40, 41, 42, 43, 44, 45, 46, 47, 48, 49, 50, 51, 52, 53, 54, 55, 56, 57, 58, 59, 60, 61, 62, 63, 64, 65, 66, 67, 68, 69, 70, 71, 72, 73, 74, 75, 76, 77, 78, 79, 80, 81, 82, 83, 84, 85, 86, 87, 88, 89, 90, 91, 92, 93, 94, 95, 96, 97, 98, 99, 100]\n",
      "\n",
      "[(86, 48, 59), (49, 61, 6), (61, 27, 33), (72, 64, 73), (22, 34, 71), (45, 67, 17), (75, 10, 53), (3, 17, 14), (100, 88, 43), (86, 70, 87), (21, 12, 49), (89, 45, 75), (76, 40, 67), (59, 42, 77), (88, 93, 11), (36, 34, 88), (32, 65, 23), (18, 7, 14), (17, 41, 59), (38, 31, 95), (57, 61, 44), (12, 28, 32), (1, 56, 84), (8, 11, 21), (21, 2, 53), (61, 92, 41), (89, 58, 24), (77, 91, 86), (62, 99, 79), (59, 6, 54), (56, 82, 25), (75, 23, 22), (18, 46, 42), (53, 29, 25), (2, 55, 27), (37, 49, 75), (54, 14, 75), (38, 31, 88), (99, 96, 36), (1, 81, 31), (17, 62, 28), (3, 70, 4), (76, 27, 75), (42, 58, 36), (3, 67, 15), (70, 39, 79), (62, 21, 25), (77, 100, 49), (48, 31, 5), (11, 93, 16), (57, 73, 65), (97, 100, 8), (89, 100, 94), (24, 3, 15), (36, 12, 9), (73, 54, 25), (72, 14, 52), (22, 76, 90), (38, 25, 47), (22, 32, 37), (92, 4, 78), (43, 74, 36), (38, 10, 7), (40, 72, 39), (43, 20, 4), (85, 84, 92), (48, 10, 29), (91, 10, 49), (91, 85, 23), (39, 41, 87), (16, 96, 56), (91, 100, 47), (35, 4, 68), (82, 70, 83), (84, 96, 93), (65, 13, 52), (59, 62, 77), (85, 98, 46), (69, 25, 98), (93, 37, 56), (39, 56, 62), (83, 77, 3), (93, 74, 66), (22, 69, 17), (100, 93, 32), (6, 66, 100), (40, 56, 53), (9, 93, 98), (13, 57, 53), (98, 47, 81), (12, 26, 73), (9, 18, 4), (21, 54, 77), (47, 48, 9), (33, 19, 48), (35, 5, 9), (66, 88, 31), (8, 59, 21), (48, 23, 22), (87, 54, 49), (77, 58, 82), (45, 69, 62), (45, 76, 54), (69, 25, 26), (72, 35, 63), (13, 77, 48), (36, 95, 2), (5, 15, 41), (65, 97, 75), (45, 81, 29), (12, 78, 91), (48, 4, 12), (75, 46, 97), (73, 96, 21), (95, 28, 58), (9, 97, 86), (35, 31, 19), (43, 94, 62), (17, 56, 72), (89, 21, 75), (85, 84, 42), (40, 5, 88), (84, 86, 65), (73, 48, 59), (96, 39, 85), (89, 99, 51), (29, 98, 76), (76, 10, 90), (69, 91, 31), (43, 38, 8), (83, 34, 100), (3, 63, 76), (37, 67, 21), (35, 79, 54), (5, 51, 66), (73, 76, 59), (91, 1, 31), (43, 4, 81), (12, 62, 71), (87, 67, 90), (34, 65, 14), (38, 72, 77), (40, 97, 19), (76, 33, 62), (43, 56, 2), (68, 73, 20), (61, 93, 65), (28, 97, 42), (87, 30, 8), (59, 84, 47), (5, 34, 28), (26, 77, 61), (90, 99, 87), (36, 37, 21), (43, 87, 17), (24, 40, 68), (4, 22, 87), (90, 96, 78), (35, 19, 87), (71, 37, 16), (50, 15, 43), (84, 69, 99), (54, 46, 93), (98, 77, 40), (37, 35, 88), (13, 66, 74), (70, 11, 53), (100, 95, 67), (62, 26, 22), (80, 17, 40), (28, 72, 12), (84, 7, 65), (12, 2, 88), (94, 32, 93), (75, 41, 2), (9, 58, 54), (56, 45, 35), (69, 8, 15), (13, 31, 71), (34, 17, 46), (5, 18, 86), (24, 97, 95), (95, 32, 2), (9, 65, 51), (8, 35, 17), (14, 52, 35), (71, 63, 41), (15, 73, 65), (36, 95, 56), (13, 87, 85), (27, 20, 100), (15, 19, 90), (83, 7, 82), (99, 74, 71), (63, 47, 78), (69, 58, 47), (86, 68, 78), (95, 43, 13), (93, 52, 37), (97, 58, 78)]\n"
     ]
    }
   ],
   "source": [
    "data_sets = [(A_5_4, C_5_4), (A_7_14, C_7_14), (A_10_20, C_10_20), (A_25_50, C_25_50), (A_50_100, C_50_100), (A_100_200, C_100_200)]\n",
    "\n",
    "for index, (A, C) in enumerate(data_sets, start=1):\n",
    "    print(\"------------------------------------------------------------------------------------------------\")\n",
    "    print(f\">>>{len(A)} elemenata {len(C)} trojki\")\n",
    "    print(\"---------------------------------\")\n",
    "    print(A)\n",
    "    print()\n",
    "    print(C)\n"
   ]
  },
  {
   "cell_type": "code",
   "execution_count": null,
   "id": "577a83c3-f212-4fca-9fee-5e3a4ebd0c89",
   "metadata": {},
   "outputs": [],
   "source": []
  },
  {
   "cell_type": "markdown",
   "id": "0a2a0019-f2ec-40f8-a4cf-2c9a750cd74f",
   "metadata": {},
   "source": [
    "# Ucitavanje algoritama"
   ]
  },
  {
   "cell_type": "code",
   "execution_count": 60,
   "id": "f463de6f-132e-4695-9084-04ae159ec059",
   "metadata": {},
   "outputs": [],
   "source": [
    "%run AllAlgorithms.ipynb"
   ]
  },
  {
   "cell_type": "markdown",
   "id": "5ea74c77-9118-44f9-a31b-70a603d88cb4",
   "metadata": {},
   "source": [
    "# Testiranje"
   ]
  },
  {
   "cell_type": "markdown",
   "id": "03958730-9bf8-4b78-a0a1-5a85b7d2a604",
   "metadata": {},
   "source": [
    "#### Brute-Force"
   ]
  },
  {
   "cell_type": "code",
   "execution_count": 89,
   "id": "514f91dc-7250-4366-86ff-a13469b6bf4a",
   "metadata": {},
   "outputs": [
    {
     "name": "stdout",
     "output_type": "stream",
     "text": [
      "----------------------------------\n",
      "|A| = 5 , |C| = 4\n",
      "Najbolje rešenje: 3\n",
      "Najbolji rezultat: [1, 4, 2, 5, 3]\n",
      "Vreme izvršavanja: 0.0 sekunde\n",
      "----------------------------------\n",
      "|A| = 7 , |C| = 14\n",
      "Najbolje rešenje: 10\n",
      "Najbolji rezultat: [2, 6, 1, 7, 5, 3, 4]\n",
      "Vreme izvršavanja: 0.039 sekunde\n"
     ]
    }
   ],
   "source": [
    "for (A,C) in data_sets_BF:\n",
    "    print(\"----------------------------------\")\n",
    "    print(f\"|A| = {len(A)} , |C| = {len(C)}\")\n",
    "    \n",
    "    start_time = time.time()\n",
    "    permutation, max_triplets = brute_force(A, C)\n",
    "    end_time = time.time()\n",
    "    execution_time = end_time - start_time \n",
    "    \n",
    "    print(\"Najbolje rešenje:\", permutation)\n",
    "    print(\"Najbolji rezultat:\", list(max_triplets))\n",
    "    print(\"Vreme izvršavanja:\", round(execution_time, 3), \"sekunde\")"
   ]
  },
  {
   "cell_type": "code",
   "execution_count": null,
   "id": "168a0c56-a365-4550-abe0-6951952b3162",
   "metadata": {},
   "outputs": [],
   "source": []
  },
  {
   "cell_type": "markdown",
   "id": "acadad4f-3565-4c0d-9020-971b5d33fa0e",
   "metadata": {},
   "source": [
    "#### Brute - Force BNB"
   ]
  },
  {
   "cell_type": "code",
   "execution_count": 88,
   "id": "a76d12ae-9109-4d08-a082-b3ebde794753",
   "metadata": {},
   "outputs": [
    {
     "name": "stdout",
     "output_type": "stream",
     "text": [
      "----------------------------------\n",
      "|A| = 5 , |C| = 4\n",
      "Najbolje rešenje: 3\n",
      "Najbolji rezultat: [1, 4, 2, 5, 3]\n",
      "Vreme izvršavanja: 0.001 sekunde\n",
      "----------------------------------\n",
      "|A| = 7 , |C| = 14\n",
      "Najbolje rešenje: 10\n",
      "Najbolji rezultat: [2, 6, 1, 7, 5, 3, 4]\n",
      "Vreme izvršavanja: 0.041 sekunde\n"
     ]
    }
   ],
   "source": [
    "for (A,C) in data_sets_BF:\n",
    "    print(\"----------------------------------\")\n",
    "    print(f\"|A| = {len(A)} , |C| = {len(C)}\")\n",
    "    \n",
    "    start_time = time.time()\n",
    "    permutation, max_triplets = brute_force_BNB(A, C)\n",
    "    end_time = time.time()\n",
    "    execution_time = end_time - start_time \n",
    "    \n",
    "    print(\"Najbolje rešenje:\", permutation)\n",
    "    print(\"Najbolji rezultat:\", list(max_triplets))\n",
    "    print(\"Vreme izvršavanja:\", round(execution_time, 3), \"sekunde\")"
   ]
  },
  {
   "cell_type": "markdown",
   "id": "c0e36b9c-7fec-4ceb-8981-b3a0ae0e69cd",
   "metadata": {},
   "source": [
    "#### Local search first improvement"
   ]
  },
  {
   "cell_type": "code",
   "execution_count": 80,
   "id": "9876b35d-fb4e-42ae-bb39-9b859dc8f183",
   "metadata": {},
   "outputs": [
    {
     "name": "stdout",
     "output_type": "stream",
     "text": [
      "----------------------------------\n",
      "|A| = 5 , |C| = 4\n",
      "Najbolje rešenje: [4, 5, 1, 3, 2]\n",
      "Najbolji rezultat: 2\n",
      "Vreme izvršavanja: 0.0 sekunde\n",
      "----------------------------------\n",
      "|A| = 7 , |C| = 14\n",
      "Najbolje rešenje: [1, 6, 7, 3, 5, 2, 4]\n",
      "Najbolji rezultat: 9\n",
      "Vreme izvršavanja: 0.0 sekunde\n",
      "----------------------------------\n",
      "|A| = 10 , |C| = 20\n",
      "Najbolje rešenje: [8, 1, 9, 10, 4, 6, 7, 2, 3, 5]\n",
      "Najbolji rezultat: 15\n",
      "Vreme izvršavanja: 0.002 sekunde\n",
      "----------------------------------\n",
      "|A| = 25 , |C| = 50\n",
      "Najbolje rešenje: [3, 8, 9, 1, 11, 22, 16, 14, 18, 5, 25, 24, 4, 13, 19, 10, 15, 21, 2, 23, 20, 12, 6, 17, 7]\n",
      "Najbolji rezultat: 36\n",
      "Vreme izvršavanja: 0.056 sekunde\n",
      "----------------------------------\n",
      "|A| = 50 , |C| = 100\n",
      "Najbolje rešenje: [50, 46, 26, 48, 12, 29, 8, 28, 16, 42, 5, 9, 3, 44, 30, 35, 6, 21, 31, 34, 38, 27, 14, 25, 2, 7, 19, 23, 36, 11, 13, 37, 20, 39, 49, 1, 45, 4, 43, 24, 15, 32, 22, 33, 10, 41, 47, 18, 17, 40]\n",
      "Najbolji rezultat: 71\n",
      "Vreme izvršavanja: 1.173 sekunde\n",
      "----------------------------------\n",
      "|A| = 100 , |C| = 200\n",
      "Najbolje rešenje: [52, 3, 61, 13, 77, 16, 57, 100, 36, 92, 66, 73, 48, 4, 54, 22, 69, 88, 80, 18, 46, 8, 95, 93, 53, 32, 91, 17, 25, 2, 37, 26, 89, 78, 20, 64, 55, 49, 76, 30, 87, 67, 96, 19, 68, 31, 11, 12, 21, 44, 58, 9, 50, 27, 5, 33, 62, 60, 94, 98, 10, 6, 82, 99, 56, 34, 47, 15, 42, 90, 79, 65, 41, 97, 45, 51, 23, 7, 14, 86, 84, 59, 39, 72, 38, 75, 74, 40, 35, 43, 81, 29, 28, 70, 85, 83, 1, 63, 71, 24]\n",
      "Najbolji rezultat: 157\n",
      "Vreme izvršavanja: 32.119 sekunde\n"
     ]
    }
   ],
   "source": [
    "for index, (A, C) in enumerate(data_sets, start=1):\n",
    "    print(\"----------------------------------\")\n",
    "    print(f\"|A| = {len(A)} , |C| = {len(C)}\")\n",
    "    \n",
    "    start_time = time.time()\n",
    "    permutation, max_triplets = local_search_first_improvement(A, C)\n",
    "    end_time = time.time()\n",
    "    execution_time = end_time - start_time \n",
    "    \n",
    "    print(\"Najbolje rešenje:\", permutation)\n",
    "    print(\"Najbolji rezultat:\", max_triplets)\n",
    "    print(\"Vreme izvršavanja:\", round(execution_time, 3), \"sekunde\")\n"
   ]
  },
  {
   "cell_type": "markdown",
   "id": "64b924c1-31ca-4dc3-9661-a2677a1c339f",
   "metadata": {},
   "source": [
    "#### Local search best improvement"
   ]
  },
  {
   "cell_type": "code",
   "execution_count": 79,
   "id": "a52b69d7-3d4f-4454-a732-9b1e443870d1",
   "metadata": {},
   "outputs": [
    {
     "name": "stdout",
     "output_type": "stream",
     "text": [
      "----------------------------------\n",
      "|A| = 5 , |C| = 4\n",
      "Najbolje rešenje: [4, 2, 5, 3, 1]\n",
      "Najbolji rezultat: 3\n",
      "Vreme izvršavanja: 0.0 sekunde\n",
      "----------------------------------\n",
      "|A| = 7 , |C| = 14\n",
      "Najbolje rešenje: [4, 3, 7, 1, 5, 6, 2]\n",
      "Najbolji rezultat: 8\n",
      "Vreme izvršavanja: 0.001 sekunde\n",
      "----------------------------------\n",
      "|A| = 10 , |C| = 20\n",
      "Najbolje rešenje: [8, 6, 9, 10, 7, 4, 2, 5, 3, 1]\n",
      "Najbolji rezultat: 17\n",
      "Vreme izvršavanja: 0.004 sekunde\n",
      "----------------------------------\n",
      "|A| = 25 , |C| = 50\n",
      "Najbolje rešenje: [15, 17, 21, 6, 8, 4, 7, 16, 12, 23, 22, 18, 24, 9, 14, 13, 3, 11, 2, 25, 20, 5, 19, 1, 10]\n",
      "Najbolji rezultat: 38\n",
      "Vreme izvršavanja: 0.104 sekunde\n",
      "----------------------------------\n",
      "|A| = 50 , |C| = 100\n",
      "Najbolje rešenje: [3, 32, 21, 19, 33, 17, 39, 4, 5, 24, 11, 26, 14, 23, 34, 31, 29, 1, 20, 9, 13, 36, 10, 49, 7, 15, 16, 6, 43, 37, 48, 22, 38, 47, 28, 25, 8, 2, 46, 45, 12, 35, 18, 50, 40, 30, 42, 41, 44, 27]\n",
      "Najbolji rezultat: 75\n",
      "Vreme izvršavanja: 1.624 sekunde\n",
      "----------------------------------\n",
      "|A| = 100 , |C| = 200\n",
      "Najbolje rešenje: [73, 92, 84, 43, 87, 22, 86, 69, 68, 76, 48, 38, 94, 30, 4, 75, 25, 26, 50, 40, 64, 44, 18, 21, 32, 54, 91, 46, 17, 13, 31, 82, 6, 56, 11, 61, 93, 41, 80, 78, 24, 88, 2, 58, 59, 67, 28, 60, 57, 66, 55, 10, 97, 51, 95, 100, 79, 99, 72, 74, 98, 85, 39, 12, 45, 96, 7, 8, 70, 49, 42, 34, 47, 81, 20, 27, 1, 65, 62, 16, 90, 63, 14, 3, 19, 29, 89, 52, 15, 77, 37, 71, 36, 83, 33, 9, 53, 5, 23, 35]\n",
      "Najbolji rezultat: 156\n",
      "Vreme izvršavanja: 48.443 sekunde\n"
     ]
    }
   ],
   "source": [
    "for index, (A, C) in enumerate(data_sets, start=1):\n",
    "    print(\"----------------------------------\")\n",
    "    print(f\"|A| = {len(A)} , |C| = {len(C)}\")\n",
    "    \n",
    "    start_time = time.time()\n",
    "    permutation, max_triplets = local_search_best_improvement(A, C)\n",
    "    end_time = time.time()\n",
    "    execution_time = end_time - start_time \n",
    "    \n",
    "    print(\"Najbolje rešenje:\", permutation)\n",
    "    print(\"Najbolji rezultat:\", max_triplets)\n",
    "    print(\"Vreme izvršavanja:\", round(execution_time, 3), \"sekunde\")\n"
   ]
  },
  {
   "cell_type": "markdown",
   "id": "4ac47297-b8d1-4b90-8591-e9db197c05ce",
   "metadata": {},
   "source": [
    "### Simultate annealing "
   ]
  },
  {
   "cell_type": "code",
   "execution_count": 78,
   "id": "7736a6d6-61e2-4976-886d-b4a51139a1d2",
   "metadata": {},
   "outputs": [
    {
     "name": "stdout",
     "output_type": "stream",
     "text": [
      "----------------------------------\n",
      "|A| = 5 , |C| = 4\n",
      "Najbolje rešenje: [4, 2, 5, 1, 3]\n",
      "Najbolji rezultat: 3\n",
      "Vreme izvršavanja: 0.008 sekunde\n",
      "----------------------------------\n",
      "|A| = 7 , |C| = 14\n",
      "Najbolje rešenje: [3, 1, 6, 7, 5, 2, 4]\n",
      "Najbolji rezultat: 10\n",
      "Vreme izvršavanja: 0.01 sekunde\n",
      "----------------------------------\n",
      "|A| = 10 , |C| = 20\n",
      "Najbolje rešenje: [3, 2, 4, 5, 7, 10, 6, 9, 8, 1]\n",
      "Najbolji rezultat: 16\n",
      "Vreme izvršavanja: 0.009 sekunde\n",
      "----------------------------------\n",
      "|A| = 25 , |C| = 50\n",
      "Najbolje rešenje: [15, 17, 4, 7, 12, 11, 5, 3, 21, 14, 6, 18, 13, 16, 22, 9, 2, 23, 25, 20, 24, 19, 10, 1, 8]\n",
      "Najbolji rezultat: 37\n",
      "Vreme izvršavanja: 0.027 sekunde\n",
      "----------------------------------\n",
      "|A| = 50 , |C| = 100\n",
      "Najbolje rešenje: [5, 14, 41, 15, 28, 25, 35, 1, 24, 22, 19, 29, 46, 42, 16, 8, 47, 11, 39, 30, 7, 26, 2, 49, 23, 45, 13, 27, 43, 31, 4, 38, 12, 10, 48, 9, 6, 36, 21, 37, 17, 18, 32, 20, 44, 50, 3, 33, 40, 34]\n",
      "Najbolji rezultat: 66\n",
      "Vreme izvršavanja: 0.044 sekunde\n",
      "----------------------------------\n",
      "|A| = 100 , |C| = 200\n",
      "Najbolje rešenje: [60, 91, 24, 85, 99, 53, 44, 29, 8, 59, 38, 76, 45, 10, 33, 49, 56, 9, 12, 15, 40, 2, 41, 5, 55, 100, 57, 66, 88, 84, 63, 90, 22, 48, 69, 43, 18, 74, 35, 67, 79, 98, 97, 11, 86, 17, 80, 20, 73, 62, 82, 7, 34, 58, 92, 61, 27, 54, 96, 25, 93, 89, 72, 32, 65, 19, 3, 70, 16, 4, 39, 30, 46, 64, 47, 42, 52, 31, 23, 75, 83, 51, 37, 6, 50, 71, 1, 95, 28, 87, 94, 81, 77, 78, 21, 26, 36, 13, 14, 68]\n",
      "Najbolji rezultat: 128\n",
      "Vreme izvršavanja: 0.118 sekunde\n"
     ]
    }
   ],
   "source": [
    "for index, (A, C) in enumerate(data_sets, start=1):\n",
    "    print(\"----------------------------------\")\n",
    "    print(f\"|A| = {len(A)} , |C| = {len(C)}\")\n",
    "    \n",
    "    start_time = time.time()\n",
    "    best_solution, best_score = simulated_annealing(A, C)\n",
    "    end_time = time.time()\n",
    "    execution_time = end_time - start_time \n",
    "    \n",
    "    print(\"Najbolje rešenje:\", best_solution)\n",
    "    print(\"Najbolji rezultat:\", best_score)\n",
    "    print(\"Vreme izvršavanja:\", round(execution_time, 3), \"sekunde\")\n"
   ]
  },
  {
   "cell_type": "markdown",
   "id": "7dfed298-90f1-4380-a3a2-80621d6968e2",
   "metadata": {},
   "source": [
    "#### geometric cooling"
   ]
  },
  {
   "cell_type": "code",
   "execution_count": 77,
   "id": "d5db22ea-2041-442d-a656-c5b0e5b6e856",
   "metadata": {},
   "outputs": [
    {
     "name": "stdout",
     "output_type": "stream",
     "text": [
      "----------------------------------\n",
      "|A| = 5 , |C| = 4\n",
      "Geometrijsko hlađenje - Najbolje rešenje: [4, 2, 5, 3, 1]\n",
      "Najbolji rezultat: 3\n",
      "Vreme izvršavanja: 0.01 sekunde\n",
      "----------------------------------\n",
      "|A| = 7 , |C| = 14\n",
      "Geometrijsko hlađenje - Najbolje rešenje: [3, 1, 7, 6, 5, 2, 4]\n",
      "Najbolji rezultat: 10\n",
      "Vreme izvršavanja: 0.007 sekunde\n",
      "----------------------------------\n",
      "|A| = 10 , |C| = 20\n",
      "Geometrijsko hlađenje - Najbolje rešenje: [5, 6, 8, 10, 9, 7, 4, 2, 1, 3]\n",
      "Najbolji rezultat: 17\n",
      "Vreme izvršavanja: 0.008 sekunde\n",
      "----------------------------------\n",
      "|A| = 25 , |C| = 50\n",
      "Geometrijsko hlađenje - Najbolje rešenje: [7, 9, 19, 15, 11, 21, 25, 5, 14, 13, 18, 12, 6, 20, 10, 4, 24, 23, 1, 16, 17, 2, 3, 22, 8]\n",
      "Najbolji rezultat: 33\n",
      "Vreme izvršavanja: 0.016 sekunde\n",
      "----------------------------------\n",
      "|A| = 50 , |C| = 100\n",
      "Geometrijsko hlađenje - Najbolje rešenje: [13, 34, 8, 27, 25, 22, 32, 5, 26, 38, 3, 39, 11, 9, 23, 4, 20, 10, 42, 14, 33, 44, 35, 28, 1, 49, 24, 36, 30, 47, 45, 29, 6, 2, 12, 16, 41, 43, 15, 7, 19, 17, 21, 37, 48, 18, 50, 40, 31, 46]\n",
      "Najbolji rezultat: 65\n",
      "Vreme izvršavanja: 0.048 sekunde\n",
      "----------------------------------\n",
      "|A| = 100 , |C| = 200\n",
      "Geometrijsko hlađenje - Najbolje rešenje: [8, 36, 12, 37, 48, 22, 50, 63, 2, 76, 28, 6, 23, 61, 33, 95, 62, 85, 31, 10, 40, 30, 38, 15, 98, 47, 3, 89, 56, 86, 68, 55, 97, 77, 45, 100, 58, 53, 16, 67, 99, 35, 34, 5, 94, 57, 39, 93, 73, 11, 19, 83, 44, 81, 88, 26, 4, 74, 64, 17, 69, 54, 52, 24, 18, 80, 70, 7, 29, 78, 71, 20, 49, 46, 42, 9, 87, 65, 84, 96, 51, 60, 1, 91, 92, 14, 43, 21, 27, 59, 25, 82, 72, 79, 41, 75, 32, 90, 13, 66]\n",
      "Najbolji rezultat: 122\n",
      "Vreme izvršavanja: 0.118 sekunde\n"
     ]
    }
   ],
   "source": [
    "for index, (A, C) in enumerate(data_sets, start=1):\n",
    "    print(\"----------------------------------\")\n",
    "    print(f\"|A| = {len(A)} , |C| = {len(C)}\")\n",
    "    \n",
    "    start_time = time.time()\n",
    "    best_solution, best_score = simulated_annealing_cooling_strategy(A, C, geometric_cooling, cooling_rate=0.95)\n",
    "    end_time = time.time()\n",
    "    execution_time = end_time - start_time \n",
    "    \n",
    "    print(\"Geometrijsko hlađenje - Najbolje rešenje:\", best_solution)\n",
    "    print(\"Najbolji rezultat:\", best_score)\n",
    "    print(\"Vreme izvršavanja:\", round(execution_time, 3), \"sekunde\")\n"
   ]
  },
  {
   "cell_type": "markdown",
   "id": "d5692138-cdc8-4a4a-aac3-38b75a74d2b1",
   "metadata": {},
   "source": [
    "#### SQRT hladjenje"
   ]
  },
  {
   "cell_type": "code",
   "execution_count": 76,
   "id": "98821e45-941d-4c01-8350-230683d5961c",
   "metadata": {},
   "outputs": [
    {
     "name": "stdout",
     "output_type": "stream",
     "text": [
      "----------------------------------\n",
      "|A| = 5 , |C| = 4\n",
      "SQRT hlađenje - Najbolje rešenje: [2, 4, 5, 1, 3]\n",
      "Najbolji rezultat: 3\n",
      "Vreme izvršavanja: 0.013 sekunde\n",
      "----------------------------------\n",
      "|A| = 7 , |C| = 14\n",
      "SQRT hlađenje - Najbolje rešenje: [3, 1, 7, 6, 5, 2, 4]\n",
      "Najbolji rezultat: 10\n",
      "Vreme izvršavanja: 0.023 sekunde\n",
      "----------------------------------\n",
      "|A| = 10 , |C| = 20\n",
      "SQRT hlađenje - Najbolje rešenje: [3, 1, 5, 2, 7, 4, 10, 9, 8, 6]\n",
      "Najbolji rezultat: 15\n",
      "Vreme izvršavanja: 0.019 sekunde\n",
      "----------------------------------\n",
      "|A| = 25 , |C| = 50\n",
      "SQRT hlađenje - Najbolje rešenje: [8, 24, 6, 1, 12, 20, 11, 25, 13, 14, 5, 21, 7, 18, 4, 19, 17, 2, 10, 23, 15, 22, 9, 16, 3]\n",
      "Najbolji rezultat: 32\n",
      "Vreme izvršavanja: 0.044 sekunde\n",
      "----------------------------------\n",
      "|A| = 50 , |C| = 100\n",
      "SQRT hlađenje - Najbolje rešenje: [4, 48, 19, 28, 10, 32, 46, 38, 47, 23, 33, 43, 7, 16, 22, 13, 29, 40, 37, 39, 45, 6, 26, 42, 9, 25, 31, 12, 15, 50, 34, 49, 20, 18, 44, 1, 41, 8, 24, 30, 17, 35, 2, 14, 36, 11, 5, 27, 21, 3]\n",
      "Najbolji rezultat: 47\n",
      "Vreme izvršavanja: 0.098 sekunde\n",
      "----------------------------------\n",
      "|A| = 100 , |C| = 200\n",
      "SQRT hlađenje - Najbolje rešenje: [93, 85, 70, 52, 72, 5, 9, 24, 97, 37, 79, 40, 84, 23, 50, 1, 75, 17, 13, 69, 59, 22, 87, 15, 58, 78, 42, 33, 34, 30, 99, 19, 44, 63, 25, 81, 88, 98, 36, 60, 61, 32, 71, 80, 21, 3, 51, 10, 11, 62, 41, 68, 14, 28, 2, 86, 46, 66, 56, 91, 96, 35, 18, 94, 7, 100, 76, 6, 31, 74, 38, 12, 64, 26, 65, 54, 8, 48, 57, 49, 39, 90, 73, 20, 92, 43, 95, 4, 82, 47, 53, 83, 55, 67, 89, 45, 29, 16, 27, 77]\n",
      "Najbolji rezultat: 90\n",
      "Vreme izvršavanja: 0.343 sekunde\n"
     ]
    }
   ],
   "source": [
    "for index, (A, C) in enumerate(data_sets, start=1):\n",
    "    print(\"----------------------------------\")\n",
    "    print(f\"|A| = {len(A)} , |C| = {len(C)}\")\n",
    "    \n",
    "    start_time = time.time()\n",
    "    best_solution, best_score = simulated_annealing_cooling_strategy(A, C, sqrt_cooling)\n",
    "    end_time = time.time()\n",
    "    execution_time = end_time - start_time \n",
    "    \n",
    "    print(\"SQRT hlađenje - Najbolje rešenje:\", best_solution)\n",
    "    print(\"Najbolji rezultat:\", best_score)\n",
    "    print(\"Vreme izvršavanja:\", round(execution_time, 3), \"sekunde\")\n"
   ]
  },
  {
   "cell_type": "markdown",
   "id": "5376901c-8a22-46cd-95f0-ac26c087ec34",
   "metadata": {},
   "source": [
    "#### Logaritamsko hladjenje"
   ]
  },
  {
   "cell_type": "code",
   "execution_count": 75,
   "id": "26c63898-98c5-49d7-a7d2-5a3bf5665a72",
   "metadata": {},
   "outputs": [
    {
     "name": "stdout",
     "output_type": "stream",
     "text": [
      "----------------------------------\n",
      "|A| = 5 , |C| = 4\n",
      "Logaritamsko hlađenje - Najbolje rešenje: [2, 4, 5, 3, 1]\n",
      "Najbolji rezultat: 3\n",
      "Vreme izvršavanja: 0.011 sekunde\n",
      "----------------------------------\n",
      "|A| = 7 , |C| = 14\n",
      "Logaritamsko hlađenje - Najbolje rešenje: [4, 2, 5, 7, 6, 1, 3]\n",
      "Najbolji rezultat: 10\n",
      "Vreme izvršavanja: 0.018 sekunde\n",
      "----------------------------------\n",
      "|A| = 10 , |C| = 20\n",
      "Logaritamsko hlađenje - Najbolje rešenje: [5, 3, 1, 2, 7, 6, 4, 10, 9, 8]\n",
      "Najbolji rezultat: 15\n",
      "Vreme izvršavanja: 0.016 sekunde\n",
      "----------------------------------\n",
      "|A| = 25 , |C| = 50\n",
      "Logaritamsko hlađenje - Najbolje rešenje: [1, 8, 12, 21, 22, 24, 15, 6, 11, 5, 14, 7, 13, 19, 20, 25, 3, 4, 2, 10, 9, 18, 23, 17, 16]\n",
      "Najbolji rezultat: 28\n",
      "Vreme izvršavanja: 0.042 sekunde\n",
      "----------------------------------\n",
      "|A| = 50 , |C| = 100\n",
      "Logaritamsko hlađenje - Najbolje rešenje: [44, 23, 31, 41, 26, 32, 22, 11, 34, 38, 21, 4, 42, 9, 25, 29, 10, 47, 1, 40, 50, 6, 24, 37, 45, 14, 35, 16, 5, 27, 49, 15, 19, 17, 48, 2, 43, 46, 12, 7, 30, 36, 18, 20, 3, 33, 28, 13, 8, 39]\n",
      "Najbolji rezultat: 50\n",
      "Vreme izvršavanja: 0.098 sekunde\n",
      "----------------------------------\n",
      "|A| = 100 , |C| = 200\n",
      "Logaritamsko hlađenje - Najbolje rešenje: [39, 89, 49, 25, 63, 78, 31, 75, 76, 44, 100, 95, 12, 51, 55, 72, 41, 85, 2, 57, 42, 28, 10, 23, 99, 14, 50, 82, 9, 36, 32, 56, 86, 60, 47, 97, 15, 94, 77, 81, 54, 88, 92, 80, 65, 21, 46, 91, 45, 58, 13, 1, 67, 7, 48, 17, 20, 26, 79, 68, 3, 30, 66, 93, 40, 18, 43, 5, 61, 11, 71, 98, 19, 38, 34, 90, 16, 69, 87, 29, 74, 24, 52, 70, 83, 35, 37, 53, 84, 22, 59, 6, 4, 8, 62, 96, 33, 73, 64, 27]\n",
      "Najbolji rezultat: 86\n",
      "Vreme izvršavanja: 0.336 sekunde\n"
     ]
    }
   ],
   "source": [
    "for index, (A, C) in enumerate(data_sets, start=1):\n",
    "    print(\"----------------------------------\")\n",
    "    print(f\"|A| = {len(A)} , |C| = {len(C)}\")\n",
    "    \n",
    "    start_time = time.time()\n",
    "    best_solution, best_score = simulated_annealing_cooling_strategy(A, C, log_cooling)\n",
    "    end_time = time.time()\n",
    "    execution_time = end_time - start_time \n",
    "    \n",
    "    print(\"Logaritamsko hlađenje - Najbolje rešenje:\", best_solution)\n",
    "    print(\"Najbolji rezultat:\", best_score)\n",
    "    print(\"Vreme izvršavanja:\", round(execution_time, 3), \"sekunde\")\n"
   ]
  },
  {
   "cell_type": "markdown",
   "id": "13989bc5-94a0-4bd2-9e4f-616d476d0e09",
   "metadata": {},
   "source": [
    "#### Adaptive"
   ]
  },
  {
   "cell_type": "code",
   "execution_count": 74,
   "id": "e1980a52-57f6-4774-8961-121232476e1a",
   "metadata": {},
   "outputs": [
    {
     "name": "stdout",
     "output_type": "stream",
     "text": [
      "----------------------------------\n",
      "|A| = 5 , |C| = 4\n",
      "Najbolje rešenje: [5, 3, 4, 2, 1]\n",
      "Najbolji rezultat: 1\n",
      "Vreme izvršavanja: 0.012 sekunde\n",
      "----------------------------------\n",
      "|A| = 7 , |C| = 14\n",
      "Najbolje rešenje: [6, 2, 7, 3, 1, 5, 4]\n",
      "Najbolji rezultat: 4\n",
      "Vreme izvršavanja: 0.017 sekunde\n",
      "----------------------------------\n",
      "|A| = 10 , |C| = 20\n",
      "Najbolje rešenje: [6, 2, 8, 9, 4, 10, 5, 1, 3, 7]\n",
      "Najbolji rezultat: 9\n",
      "Vreme izvršavanja: 0.016 sekunde\n",
      "----------------------------------\n",
      "|A| = 25 , |C| = 50\n",
      "Najbolje rešenje: [22, 7, 20, 6, 10, 23, 8, 9, 1, 13, 21, 5, 15, 2, 17, 25, 3, 14, 24, 19, 18, 11, 12, 16, 4]\n",
      "Najbolji rezultat: 12\n",
      "Vreme izvršavanja: 0.043 sekunde\n",
      "----------------------------------\n",
      "|A| = 50 , |C| = 100\n",
      "Najbolje rešenje: [42, 27, 25, 29, 33, 38, 43, 1, 9, 47, 50, 34, 18, 21, 41, 11, 2, 39, 3, 32, 17, 19, 14, 20, 44, 45, 22, 28, 46, 16, 35, 13, 49, 15, 31, 5, 8, 40, 10, 4, 26, 6, 24, 36, 30, 23, 12, 37, 48, 7]\n",
      "Najbolji rezultat: 33\n",
      "Vreme izvršavanja: 0.101 sekunde\n",
      "----------------------------------\n",
      "|A| = 100 , |C| = 200\n",
      "Najbolje rešenje: [88, 72, 17, 89, 51, 63, 67, 80, 7, 70, 69, 16, 82, 77, 20, 31, 96, 24, 46, 28, 19, 57, 68, 79, 100, 92, 97, 42, 11, 22, 12, 66, 54, 32, 78, 59, 81, 35, 64, 83, 29, 49, 5, 98, 4, 8, 25, 95, 37, 85, 27, 56, 76, 65, 34, 38, 13, 62, 15, 44, 41, 90, 26, 23, 1, 60, 47, 36, 6, 93, 73, 40, 94, 43, 99, 61, 10, 74, 18, 21, 33, 14, 30, 91, 9, 52, 71, 3, 2, 45, 53, 75, 86, 39, 84, 48, 55, 87, 50, 58]\n",
      "Najbolji rezultat: 60\n",
      "Vreme izvršavanja: 0.344 sekunde\n"
     ]
    }
   ],
   "source": [
    "for index, (A, C) in enumerate(data_sets, start=1):\n",
    "    print(\"----------------------------------\")\n",
    "    print(f\"|A| = {len(A)} , |C| = {len(C)}\")\n",
    "    \n",
    "    start_time = time.time()\n",
    "    best_solution, best_score = simulated_annealing_adaptive(A, C)\n",
    "    end_time = time.time()\n",
    "    execution_time = end_time - start_time \n",
    "    \n",
    "    print(\"Najbolje rešenje:\", best_solution)\n",
    "    print(\"Najbolji rezultat:\", best_score)\n",
    "    print(\"Vreme izvršavanja:\", round(execution_time, 3), \"sekunde\")\n"
   ]
  },
  {
   "cell_type": "markdown",
   "id": "886a92ac-37ad-4583-8961-24f3cb773569",
   "metadata": {},
   "source": [
    "### Genetic algorithm"
   ]
  },
  {
   "cell_type": "code",
   "execution_count": 73,
   "id": "40656767-085a-48c6-ab21-e4febd6737bc",
   "metadata": {},
   "outputs": [
    {
     "name": "stdout",
     "output_type": "stream",
     "text": [
      "----------------------------------\n",
      "|A| = 5 , |C| = 4\n",
      "Najbolje rešenje: [2, 4, 5, 3, 1]\n",
      "Najbolji rezultat: 3\n",
      "Vreme izvršavanja: 0.429 sekunde\n",
      "----------------------------------\n",
      "|A| = 7 , |C| = 14\n",
      "Najbolje rešenje: [4, 2, 5, 6, 7, 1, 3]\n",
      "Najbolji rezultat: 10\n",
      "Vreme izvršavanja: 0.772 sekunde\n",
      "----------------------------------\n",
      "|A| = 10 , |C| = 20\n",
      "Najbolje rešenje: [1, 3, 2, 7, 5, 9, 6, 4, 10, 8]\n",
      "Najbolji rezultat: 16\n",
      "Vreme izvršavanja: 1.134 sekunde\n",
      "----------------------------------\n",
      "|A| = 25 , |C| = 50\n",
      "Najbolje rešenje: [23, 10, 1, 16, 2, 14, 8, 25, 22, 9, 20, 21, 17, 11, 24, 13, 15, 4, 12, 19, 18, 3, 7, 5, 6]\n",
      "Najbolji rezultat: 27\n",
      "Vreme izvršavanja: 3.61 sekunde\n",
      "----------------------------------\n",
      "|A| = 50 , |C| = 100\n",
      "Najbolje rešenje: [39, 45, 25, 29, 21, 41, 14, 4, 50, 35, 3, 2, 22, 26, 5, 20, 42, 47, 9, 32, 40, 46, 33, 49, 13, 17, 30, 38, 28, 15, 24, 18, 44, 27, 10, 6, 34, 19, 48, 1, 7, 36, 37, 11, 8, 16, 23, 12, 43, 31]\n",
      "Najbolji rezultat: 47\n",
      "Vreme izvršavanja: 11.525 sekunde\n",
      "----------------------------------\n",
      "|A| = 100 , |C| = 200\n",
      "Najbolje rešenje: [36, 49, 27, 64, 50, 90, 59, 40, 93, 31, 72, 12, 5, 21, 39, 9, 78, 42, 14, 29, 62, 99, 85, 86, 32, 54, 34, 89, 56, 48, 43, 2, 30, 17, 15, 80, 68, 35, 45, 37, 57, 53, 51, 52, 91, 38, 10, 23, 41, 24, 74, 33, 92, 94, 58, 97, 46, 47, 81, 88, 20, 83, 4, 96, 75, 76, 60, 73, 71, 18, 8, 100, 66, 26, 79, 67, 28, 6, 13, 70, 11, 55, 69, 61, 77, 7, 44, 25, 98, 19, 63, 1, 22, 95, 84, 3, 16, 87, 65, 82]\n",
      "Najbolji rezultat: 84\n",
      "Vreme izvršavanja: 39.341 sekunde\n"
     ]
    }
   ],
   "source": [
    "for index, (A, C) in enumerate(data_sets, start=1):\n",
    "    print(\"----------------------------------\")\n",
    "    print(f\"|A| = {len(A)} , |C| = {len(C)}\")\n",
    "    \n",
    "    start_time = time.time()\n",
    "    best_solution, best_score = genetic_algorithm(A, C)\n",
    "    end_time = time.time()\n",
    "    execution_time = end_time - start_time \n",
    "    \n",
    "    print(\"Najbolje rešenje:\", best_solution)\n",
    "    print(\"Najbolji rezultat:\", best_score)\n",
    "    print(\"Vreme izvršavanja:\", round(execution_time, 3), \"sekunde\")\n"
   ]
  },
  {
   "cell_type": "code",
   "execution_count": null,
   "id": "eb8732ba-7e42-4dd6-80ce-24f2ce8912d2",
   "metadata": {},
   "outputs": [],
   "source": []
  },
  {
   "cell_type": "code",
   "execution_count": null,
   "id": "1cdd85b0-3e46-4a12-9270-b046a8239a41",
   "metadata": {},
   "outputs": [],
   "source": []
  },
  {
   "cell_type": "code",
   "execution_count": null,
   "id": "9d5d69aa-7680-423c-b707-49549161297e",
   "metadata": {},
   "outputs": [],
   "source": []
  },
  {
   "cell_type": "code",
   "execution_count": null,
   "id": "6e1bd22d-dc7e-4320-9feb-ab5b6b1f0287",
   "metadata": {},
   "outputs": [],
   "source": []
  },
  {
   "cell_type": "code",
   "execution_count": null,
   "id": "bdb7ef08-d799-451c-b276-8193968de57e",
   "metadata": {},
   "outputs": [],
   "source": []
  }
 ],
 "metadata": {
  "kernelspec": {
   "display_name": "Python 3 (ipykernel)",
   "language": "python",
   "name": "python3"
  },
  "language_info": {
   "codemirror_mode": {
    "name": "ipython",
    "version": 3
   },
   "file_extension": ".py",
   "mimetype": "text/x-python",
   "name": "python",
   "nbconvert_exporter": "python",
   "pygments_lexer": "ipython3",
   "version": "3.10.12"
  }
 },
 "nbformat": 4,
 "nbformat_minor": 5
}
