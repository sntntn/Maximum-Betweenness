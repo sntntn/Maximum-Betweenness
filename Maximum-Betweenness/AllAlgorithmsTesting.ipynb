{
 "cells": [
  {
   "cell_type": "markdown",
   "id": "de6edee1-8b42-44ab-82ec-2bbb1a76fd9a",
   "metadata": {},
   "source": [
    "### Generisanje test primera"
   ]
  },
  {
   "cell_type": "code",
   "execution_count": 130,
   "id": "190debde-9ab5-47e5-8c3e-cc27fe37134c",
   "metadata": {},
   "outputs": [],
   "source": [
    "import random\n",
    "import time"
   ]
  },
  {
   "cell_type": "code",
   "execution_count": 133,
   "id": "9cd6aca4-09d7-4bda-8bc0-17afd27abc12",
   "metadata": {
    "scrolled": true
   },
   "outputs": [],
   "source": [
    "# Generisanje skupa A sa 5 elemenata i 4 trojke u skupu C\n",
    "A_5_4 = list(range(1, 6))\n",
    "C_5_4 = [tuple(random.sample(A_5_4, 3)) for _ in range(4)]\n",
    "\n",
    "# Generisanje skupa A sa 7 elemenata i 14 trojki u skupu C\n",
    "A_7_14 = list(range(1, 8))\n",
    "C_7_14 = [tuple(random.sample(A_7_14, 3)) for _ in range(14)]\n",
    "\n",
    "# Generisanje skupa A sa 10 elemenata i 20 trojki u skupu C\n",
    "A_10_20 = list(range(1, 11))\n",
    "C_10_20 = [tuple(random.sample(A_10_20, 3)) for _ in range(20)]\n",
    "\n",
    "# Generisanje skupa A sa 25 elemenata i 50 trojki u skupu C\n",
    "A_25_50 = list(range(1, 26))\n",
    "C_25_50 = [tuple(random.sample(A_25_50, 3)) for _ in range(50)]\n",
    "\n",
    "# Generisanje skupa A sa 50 elemenata i 100 trojki u skupu C\n",
    "A_50_100 = list(range(1, 51))\n",
    "C_50_100 = [tuple(random.sample(A_50_100, 3)) for _ in range(100)]\n",
    "\n",
    "# Generisanje skupa A sa 100 elemenata i 200 trojki u skupu C\n",
    "A_100_200 = list(range(1, 101))\n",
    "C_100_200 = [tuple(random.sample(A_100_200, 3)) for _ in range(200)]"
   ]
  },
  {
   "cell_type": "code",
   "execution_count": 31,
   "id": "a1deb031-4302-43ae-a67f-31711fa2b915",
   "metadata": {},
   "outputs": [],
   "source": [
    "# Generisanje skupa A sa 150 elemenata i 300 trojki u skupu C\n",
    "#A_150_300 = list(range(1, 151))\n",
    "#C_150_300 = [tuple(random.sample(A_150_300, 3)) for _ in range(300)]"
   ]
  },
  {
   "cell_type": "code",
   "execution_count": 134,
   "id": "f1d99d26-80b9-45e1-8210-376ab35f241b",
   "metadata": {},
   "outputs": [],
   "source": [
    "data_sets_BF = [(A_5_4, C_5_4), (A_7_14, C_7_14), (A_10_20, C_10_20)]\n",
    "data_sets = [(A_5_4, C_5_4), (A_7_14, C_7_14), (A_10_20, C_10_20), (A_25_50, C_25_50), (A_50_100, C_50_100), (A_100_200, C_100_200)]"
   ]
  },
  {
   "cell_type": "markdown",
   "id": "488cb73e-4998-4493-9f36-868caf9cc1b7",
   "metadata": {
    "jp-MarkdownHeadingCollapsed": true
   },
   "source": [
    "#### ispis generisanih test primera"
   ]
  },
  {
   "cell_type": "code",
   "execution_count": 129,
   "id": "d1aa2df7-73bf-4638-bdce-e4f48a2dc357",
   "metadata": {
    "scrolled": true
   },
   "outputs": [
    {
     "name": "stdout",
     "output_type": "stream",
     "text": [
      "------------------------------------------------------------------------------------------------\n",
      ">>>5 elemenata 4 trojki\n",
      "---------------------------------\n",
      "[1, 2, 3, 4, 5]\n",
      "\n",
      "[(5, 3, 1), (3, 5, 2), (4, 5, 1), (5, 1, 3)]\n",
      "------------------------------------------------------------------------------------------------\n",
      ">>>7 elemenata 14 trojki\n",
      "---------------------------------\n",
      "[1, 2, 3, 4, 5, 6, 7]\n",
      "\n",
      "[(2, 5, 3), (1, 7, 4), (4, 1, 3), (2, 7, 4), (3, 6, 2), (3, 7, 5), (5, 2, 4), (4, 5, 6), (1, 7, 3), (1, 6, 4), (7, 2, 4), (5, 3, 6), (6, 4, 5), (2, 5, 7)]\n",
      "------------------------------------------------------------------------------------------------\n",
      ">>>10 elemenata 20 trojki\n",
      "---------------------------------\n",
      "[1, 2, 3, 4, 5, 6, 7, 8, 9, 10]\n",
      "\n",
      "[(7, 4, 2), (3, 4, 8), (8, 10, 4), (3, 10, 1), (3, 7, 10), (9, 10, 5), (4, 2, 1), (5, 6, 4), (2, 7, 6), (8, 9, 7), (3, 2, 10), (8, 9, 3), (8, 10, 7), (8, 7, 1), (5, 6, 8), (1, 5, 4), (6, 9, 1), (3, 2, 4), (7, 8, 4), (7, 10, 8)]\n",
      "------------------------------------------------------------------------------------------------\n",
      ">>>25 elemenata 50 trojki\n",
      "---------------------------------\n",
      "[1, 2, 3, 4, 5, 6, 7, 8, 9, 10, 11, 12, 13, 14, 15, 16, 17, 18, 19, 20, 21, 22, 23, 24, 25]\n",
      "\n",
      "[(20, 11, 9), (5, 4, 15), (17, 20, 5), (7, 14, 1), (19, 25, 16), (16, 22, 9), (9, 16, 17), (20, 2, 22), (3, 9, 21), (6, 20, 1), (8, 4, 13), (8, 24, 2), (4, 11, 19), (15, 17, 14), (7, 5, 1), (24, 20, 9), (15, 14, 20), (23, 18, 14), (3, 12, 7), (16, 10, 20), (5, 7, 4), (11, 16, 2), (25, 13, 12), (11, 24, 12), (4, 20, 21), (23, 1, 8), (15, 25, 1), (20, 23, 16), (2, 21, 11), (24, 6, 17), (5, 18, 16), (22, 3, 2), (6, 21, 15), (9, 18, 6), (10, 9, 18), (19, 12, 1), (1, 24, 6), (16, 22, 8), (18, 7, 8), (5, 2, 23), (10, 16, 21), (6, 22, 3), (20, 21, 4), (1, 21, 17), (2, 4, 5), (3, 13, 9), (10, 19, 18), (3, 15, 1), (15, 5, 14), (15, 11, 2)]\n",
      "------------------------------------------------------------------------------------------------\n",
      ">>>50 elemenata 100 trojki\n",
      "---------------------------------\n",
      "[1, 2, 3, 4, 5, 6, 7, 8, 9, 10, 11, 12, 13, 14, 15, 16, 17, 18, 19, 20, 21, 22, 23, 24, 25, 26, 27, 28, 29, 30, 31, 32, 33, 34, 35, 36, 37, 38, 39, 40, 41, 42, 43, 44, 45, 46, 47, 48, 49, 50]\n",
      "\n",
      "[(5, 23, 28), (11, 14, 29), (22, 49, 23), (40, 17, 19), (33, 37, 11), (16, 38, 18), (24, 19, 21), (2, 4, 33), (43, 34, 26), (1, 23, 19), (16, 20, 17), (50, 28, 39), (29, 48, 50), (4, 33, 49), (12, 44, 27), (29, 1, 15), (20, 45, 32), (43, 37, 25), (7, 22, 25), (12, 28, 5), (43, 46, 37), (26, 37, 41), (13, 10, 37), (35, 17, 33), (27, 25, 47), (23, 49, 7), (28, 16, 31), (42, 18, 8), (17, 45, 33), (15, 1, 11), (22, 43, 31), (32, 4, 14), (7, 11, 22), (17, 6, 22), (50, 6, 23), (30, 7, 23), (6, 35, 30), (49, 8, 46), (22, 1, 37), (1, 18, 30), (50, 2, 47), (31, 7, 39), (28, 49, 24), (45, 2, 8), (28, 1, 21), (30, 49, 10), (44, 9, 5), (47, 43, 31), (21, 38, 24), (18, 1, 5), (4, 31, 35), (27, 5, 50), (4, 49, 16), (8, 23, 24), (41, 35, 8), (37, 48, 46), (48, 16, 24), (7, 6, 27), (3, 20, 49), (6, 21, 37), (50, 9, 4), (31, 22, 1), (19, 29, 49), (11, 26, 22), (40, 12, 38), (10, 25, 41), (46, 37, 17), (32, 36, 16), (8, 19, 18), (48, 16, 13), (45, 31, 4), (18, 43, 46), (2, 27, 34), (43, 45, 42), (18, 43, 42), (39, 27, 6), (29, 9, 37), (34, 6, 46), (41, 8, 11), (39, 24, 41), (5, 47, 17), (50, 47, 25), (38, 14, 33), (6, 18, 50), (34, 4, 16), (40, 17, 28), (25, 27, 21), (40, 22, 24), (6, 16, 17), (26, 42, 1), (3, 21, 47), (34, 49, 8), (22, 28, 18), (17, 28, 8), (21, 17, 36), (4, 2, 46), (17, 24, 42), (2, 41, 46), (49, 16, 4), (31, 34, 14)]\n",
      "------------------------------------------------------------------------------------------------\n",
      ">>>100 elemenata 200 trojki\n",
      "---------------------------------\n",
      "[1, 2, 3, 4, 5, 6, 7, 8, 9, 10, 11, 12, 13, 14, 15, 16, 17, 18, 19, 20, 21, 22, 23, 24, 25, 26, 27, 28, 29, 30, 31, 32, 33, 34, 35, 36, 37, 38, 39, 40, 41, 42, 43, 44, 45, 46, 47, 48, 49, 50, 51, 52, 53, 54, 55, 56, 57, 58, 59, 60, 61, 62, 63, 64, 65, 66, 67, 68, 69, 70, 71, 72, 73, 74, 75, 76, 77, 78, 79, 80, 81, 82, 83, 84, 85, 86, 87, 88, 89, 90, 91, 92, 93, 94, 95, 96, 97, 98, 99, 100]\n",
      "\n",
      "[(86, 48, 59), (49, 61, 6), (61, 27, 33), (72, 64, 73), (22, 34, 71), (45, 67, 17), (75, 10, 53), (3, 17, 14), (100, 88, 43), (86, 70, 87), (21, 12, 49), (89, 45, 75), (76, 40, 67), (59, 42, 77), (88, 93, 11), (36, 34, 88), (32, 65, 23), (18, 7, 14), (17, 41, 59), (38, 31, 95), (57, 61, 44), (12, 28, 32), (1, 56, 84), (8, 11, 21), (21, 2, 53), (61, 92, 41), (89, 58, 24), (77, 91, 86), (62, 99, 79), (59, 6, 54), (56, 82, 25), (75, 23, 22), (18, 46, 42), (53, 29, 25), (2, 55, 27), (37, 49, 75), (54, 14, 75), (38, 31, 88), (99, 96, 36), (1, 81, 31), (17, 62, 28), (3, 70, 4), (76, 27, 75), (42, 58, 36), (3, 67, 15), (70, 39, 79), (62, 21, 25), (77, 100, 49), (48, 31, 5), (11, 93, 16), (57, 73, 65), (97, 100, 8), (89, 100, 94), (24, 3, 15), (36, 12, 9), (73, 54, 25), (72, 14, 52), (22, 76, 90), (38, 25, 47), (22, 32, 37), (92, 4, 78), (43, 74, 36), (38, 10, 7), (40, 72, 39), (43, 20, 4), (85, 84, 92), (48, 10, 29), (91, 10, 49), (91, 85, 23), (39, 41, 87), (16, 96, 56), (91, 100, 47), (35, 4, 68), (82, 70, 83), (84, 96, 93), (65, 13, 52), (59, 62, 77), (85, 98, 46), (69, 25, 98), (93, 37, 56), (39, 56, 62), (83, 77, 3), (93, 74, 66), (22, 69, 17), (100, 93, 32), (6, 66, 100), (40, 56, 53), (9, 93, 98), (13, 57, 53), (98, 47, 81), (12, 26, 73), (9, 18, 4), (21, 54, 77), (47, 48, 9), (33, 19, 48), (35, 5, 9), (66, 88, 31), (8, 59, 21), (48, 23, 22), (87, 54, 49), (77, 58, 82), (45, 69, 62), (45, 76, 54), (69, 25, 26), (72, 35, 63), (13, 77, 48), (36, 95, 2), (5, 15, 41), (65, 97, 75), (45, 81, 29), (12, 78, 91), (48, 4, 12), (75, 46, 97), (73, 96, 21), (95, 28, 58), (9, 97, 86), (35, 31, 19), (43, 94, 62), (17, 56, 72), (89, 21, 75), (85, 84, 42), (40, 5, 88), (84, 86, 65), (73, 48, 59), (96, 39, 85), (89, 99, 51), (29, 98, 76), (76, 10, 90), (69, 91, 31), (43, 38, 8), (83, 34, 100), (3, 63, 76), (37, 67, 21), (35, 79, 54), (5, 51, 66), (73, 76, 59), (91, 1, 31), (43, 4, 81), (12, 62, 71), (87, 67, 90), (34, 65, 14), (38, 72, 77), (40, 97, 19), (76, 33, 62), (43, 56, 2), (68, 73, 20), (61, 93, 65), (28, 97, 42), (87, 30, 8), (59, 84, 47), (5, 34, 28), (26, 77, 61), (90, 99, 87), (36, 37, 21), (43, 87, 17), (24, 40, 68), (4, 22, 87), (90, 96, 78), (35, 19, 87), (71, 37, 16), (50, 15, 43), (84, 69, 99), (54, 46, 93), (98, 77, 40), (37, 35, 88), (13, 66, 74), (70, 11, 53), (100, 95, 67), (62, 26, 22), (80, 17, 40), (28, 72, 12), (84, 7, 65), (12, 2, 88), (94, 32, 93), (75, 41, 2), (9, 58, 54), (56, 45, 35), (69, 8, 15), (13, 31, 71), (34, 17, 46), (5, 18, 86), (24, 97, 95), (95, 32, 2), (9, 65, 51), (8, 35, 17), (14, 52, 35), (71, 63, 41), (15, 73, 65), (36, 95, 56), (13, 87, 85), (27, 20, 100), (15, 19, 90), (83, 7, 82), (99, 74, 71), (63, 47, 78), (69, 58, 47), (86, 68, 78), (95, 43, 13), (93, 52, 37), (97, 58, 78)]\n"
     ]
    }
   ],
   "source": [
    "for index, (A, C) in enumerate(data_sets, start=1):\n",
    "    print(\"------------------------------------------------------------------------------------------------\")\n",
    "    print(f\">>>{len(A)} elemenata {len(C)} trojki\")\n",
    "    print(\"---------------------------------\")\n",
    "    print(A)\n",
    "    print()\n",
    "    print(C)\n"
   ]
  },
  {
   "cell_type": "code",
   "execution_count": null,
   "id": "577a83c3-f212-4fca-9fee-5e3a4ebd0c89",
   "metadata": {},
   "outputs": [],
   "source": []
  },
  {
   "cell_type": "markdown",
   "id": "0a2a0019-f2ec-40f8-a4cf-2c9a750cd74f",
   "metadata": {},
   "source": [
    "# Ucitavanje algoritama"
   ]
  },
  {
   "cell_type": "code",
   "execution_count": 167,
   "id": "f463de6f-132e-4695-9084-04ae159ec059",
   "metadata": {},
   "outputs": [],
   "source": [
    "%run AllAlgorithms.ipynb"
   ]
  },
  {
   "cell_type": "markdown",
   "id": "5ea74c77-9118-44f9-a31b-70a603d88cb4",
   "metadata": {},
   "source": [
    "# Testiranje"
   ]
  },
  {
   "cell_type": "markdown",
   "id": "03958730-9bf8-4b78-a0a1-5a85b7d2a604",
   "metadata": {},
   "source": [
    "#### Brute-Force"
   ]
  },
  {
   "cell_type": "code",
   "execution_count": 136,
   "id": "514f91dc-7250-4366-86ff-a13469b6bf4a",
   "metadata": {},
   "outputs": [
    {
     "name": "stdout",
     "output_type": "stream",
     "text": [
      "----------------------------------\n",
      "|A| = 5 , |C| = 4\n",
      "Najbolje rešenje: 3\n",
      "Najbolji rezultat: [1, 2, 3, 4, 5]\n",
      "Vreme izvršavanja: 0.0 sekunde\n",
      "----------------------------------\n",
      "|A| = 7 , |C| = 14\n",
      "Najbolje rešenje: 10\n",
      "Najbolji rezultat: [1, 2, 3, 4, 7, 5, 6]\n",
      "Vreme izvršavanja: 0.038 sekunde\n",
      "----------------------------------\n",
      "|A| = 10 , |C| = 20\n",
      "Najbolje rešenje: 14\n",
      "Najbolji rezultat: [4, 6, 5, 7, 8, 10, 9, 1, 3, 2]\n",
      "Vreme izvršavanja: 18.811 sekunde\n"
     ]
    }
   ],
   "source": [
    "for (A,C) in data_sets_BF:\n",
    "    print(\"----------------------------------\")\n",
    "    print(f\"|A| = {len(A)} , |C| = {len(C)}\")\n",
    "    \n",
    "    start_time = time.time()\n",
    "    permutation, max_triplets = brute_force(A, C)\n",
    "    end_time = time.time()\n",
    "    execution_time = end_time - start_time \n",
    "    \n",
    "    print(\"Najbolje rešenje:\", permutation)\n",
    "    print(\"Najbolji rezultat:\", list(max_triplets))\n",
    "    print(\"Vreme izvršavanja:\", round(execution_time, 3), \"sekunde\")"
   ]
  },
  {
   "cell_type": "markdown",
   "id": "acadad4f-3565-4c0d-9020-971b5d33fa0e",
   "metadata": {},
   "source": [
    "#### Brute - Force BNB"
   ]
  },
  {
   "cell_type": "code",
   "execution_count": 137,
   "id": "a76d12ae-9109-4d08-a082-b3ebde794753",
   "metadata": {},
   "outputs": [
    {
     "name": "stdout",
     "output_type": "stream",
     "text": [
      "----------------------------------\n",
      "|A| = 5 , |C| = 4\n",
      "Najbolje rešenje: 3\n",
      "Najbolji rezultat: [1, 2, 3, 4, 5]\n",
      "Vreme izvršavanja: 0.001 sekunde\n",
      "----------------------------------\n",
      "|A| = 7 , |C| = 14\n",
      "Najbolje rešenje: 10\n",
      "Najbolji rezultat: [1, 2, 3, 4, 7, 5, 6]\n",
      "Vreme izvršavanja: 0.033 sekunde\n",
      "----------------------------------\n",
      "|A| = 10 , |C| = 20\n",
      "Najbolje rešenje: 14\n",
      "Najbolji rezultat: [4, 6, 5, 7, 8, 10, 9, 1, 3, 2]\n",
      "Vreme izvršavanja: 15.096 sekunde\n"
     ]
    }
   ],
   "source": [
    "for (A,C) in data_sets_BF:\n",
    "    print(\"----------------------------------\")\n",
    "    print(f\"|A| = {len(A)} , |C| = {len(C)}\")\n",
    "    \n",
    "    start_time = time.time()\n",
    "    permutation, max_triplets = brute_force_BNB(A, C)\n",
    "    end_time = time.time()\n",
    "    execution_time = end_time - start_time \n",
    "    \n",
    "    print(\"Najbolje rešenje:\", permutation)\n",
    "    print(\"Najbolji rezultat:\", list(max_triplets))\n",
    "    print(\"Vreme izvršavanja:\", round(execution_time, 3), \"sekunde\")"
   ]
  },
  {
   "cell_type": "markdown",
   "id": "c0e36b9c-7fec-4ceb-8981-b3a0ae0e69cd",
   "metadata": {},
   "source": [
    "#### Local search first improvement"
   ]
  },
  {
   "cell_type": "code",
   "execution_count": 147,
   "id": "9876b35d-fb4e-42ae-bb39-9b859dc8f183",
   "metadata": {},
   "outputs": [
    {
     "name": "stdout",
     "output_type": "stream",
     "text": [
      "----------------------------------\n",
      "|A| = 5 , |C| = 4\n",
      "Najbolje rešenje: [2, 3, 5, 4, 1]\n",
      "Najbolji rezultat: 3\n",
      "Vreme izvršavanja: 0.0 sekunde\n",
      "----------------------------------\n",
      "|A| = 7 , |C| = 14\n",
      "Najbolje rešenje: [5, 7, 6, 4, 3, 2, 1]\n",
      "Najbolji rezultat: 10\n",
      "Vreme izvršavanja: 0.001 sekunde\n",
      "----------------------------------\n",
      "|A| = 10 , |C| = 20\n",
      "Najbolje rešenje: [10, 4, 2, 9, 5, 6, 7, 3, 1, 8]\n",
      "Najbolji rezultat: 11\n",
      "Vreme izvršavanja: 0.003 sekunde\n",
      "----------------------------------\n",
      "|A| = 25 , |C| = 50\n",
      "Najbolje rešenje: [6, 22, 25, 17, 11, 15, 12, 1, 13, 5, 4, 18, 9, 16, 20, 23, 24, 14, 8, 19, 21, 3, 7, 10, 2]\n",
      "Najbolji rezultat: 38\n",
      "Vreme izvršavanja: 0.068 sekunde\n",
      "----------------------------------\n",
      "|A| = 50 , |C| = 100\n",
      "Najbolje rešenje: [25, 24, 47, 49, 40, 42, 36, 16, 20, 29, 31, 30, 6, 44, 9, 48, 11, 50, 33, 41, 8, 23, 43, 28, 3, 26, 2, 35, 37, 45, 19, 14, 22, 34, 38, 39, 12, 15, 10, 13, 17, 21, 4, 46, 18, 32, 5, 27, 1, 7]\n",
      "Najbolji rezultat: 81\n",
      "Vreme izvršavanja: 1.766 sekunde\n",
      "----------------------------------\n",
      "|A| = 100 , |C| = 200\n",
      "Najbolje rešenje: [42, 18, 83, 1, 39, 22, 27, 11, 86, 88, 85, 52, 20, 92, 33, 80, 74, 84, 98, 34, 59, 79, 63, 67, 89, 30, 53, 2, 40, 76, 48, 3, 82, 99, 100, 12, 19, 54, 68, 50, 23, 65, 17, 37, 31, 5, 15, 72, 93, 35, 71, 78, 70, 49, 58, 6, 90, 16, 97, 24, 77, 66, 87, 57, 28, 75, 41, 43, 9, 7, 32, 56, 91, 36, 29, 60, 55, 69, 61, 81, 46, 13, 95, 47, 26, 4, 62, 73, 38, 51, 8, 44, 45, 25, 96, 10, 21, 94, 14, 64]\n",
      "Najbolji rezultat: 155\n",
      "Vreme izvršavanja: 34.654 sekunde\n"
     ]
    }
   ],
   "source": [
    "for (A, C) in data_sets:\n",
    "    print(\"----------------------------------\")\n",
    "    print(f\"|A| = {len(A)} , |C| = {len(C)}\")\n",
    "    \n",
    "    start_time = time.time()\n",
    "    permutation, max_triplets = local_search_first_improvement(A, C)\n",
    "    end_time = time.time()\n",
    "    execution_time = end_time - start_time \n",
    "    \n",
    "    print(\"Najbolje rešenje:\", permutation)\n",
    "    print(\"Najbolji rezultat:\", max_triplets)\n",
    "    print(\"Vreme izvršavanja:\", round(execution_time, 3), \"sekunde\")\n"
   ]
  },
  {
   "cell_type": "markdown",
   "id": "64b924c1-31ca-4dc3-9661-a2677a1c339f",
   "metadata": {},
   "source": [
    "#### Local search best improvement"
   ]
  },
  {
   "cell_type": "code",
   "execution_count": 148,
   "id": "a52b69d7-3d4f-4454-a732-9b1e443870d1",
   "metadata": {},
   "outputs": [
    {
     "name": "stdout",
     "output_type": "stream",
     "text": [
      "----------------------------------\n",
      "|A| = 5 , |C| = 4\n",
      "Najbolje rešenje: [1, 2, 4, 3, 5]\n",
      "Najbolji rezultat: 3\n",
      "Vreme izvršavanja: 0.005 sekunde\n",
      "----------------------------------\n",
      "|A| = 7 , |C| = 14\n",
      "Najbolje rešenje: [5, 7, 6, 3, 4, 2, 1]\n",
      "Najbolji rezultat: 10\n",
      "Vreme izvršavanja: 0.001 sekunde\n",
      "----------------------------------\n",
      "|A| = 10 , |C| = 20\n",
      "Najbolje rešenje: [7, 3, 2, 1, 5, 6, 8, 4, 9, 10]\n",
      "Najbolji rezultat: 12\n",
      "Vreme izvršavanja: 0.003 sekunde\n",
      "----------------------------------\n",
      "|A| = 25 , |C| = 50\n",
      "Najbolje rešenje: [1, 2, 6, 5, 24, 10, 18, 11, 16, 14, 8, 20, 22, 13, 15, 12, 23, 19, 4, 17, 25, 3, 7, 21, 9]\n",
      "Najbolji rezultat: 36\n",
      "Vreme izvršavanja: 0.101 sekunde\n",
      "----------------------------------\n",
      "|A| = 50 , |C| = 100\n",
      "Najbolje rešenje: [49, 46, 15, 4, 24, 32, 48, 41, 11, 45, 42, 26, 28, 36, 33, 30, 23, 19, 13, 35, 43, 2, 37, 9, 22, 38, 17, 20, 50, 39, 34, 47, 3, 40, 21, 16, 6, 10, 5, 14, 25, 31, 1, 27, 18, 7, 8, 44, 12, 29]\n",
      "Najbolji rezultat: 78\n",
      "Vreme izvršavanja: 2.829 sekunde\n",
      "----------------------------------\n",
      "|A| = 100 , |C| = 200\n",
      "Najbolje rešenje: [34, 62, 95, 64, 50, 61, 5, 11, 48, 15, 55, 9, 53, 13, 78, 57, 39, 79, 46, 69, 25, 49, 63, 10, 70, 51, 45, 82, 91, 93, 29, 44, 14, 68, 7, 24, 23, 41, 36, 94, 66, 97, 73, 90, 30, 37, 71, 100, 1, 38, 27, 8, 85, 16, 89, 31, 56, 43, 26, 65, 12, 75, 19, 99, 86, 33, 47, 92, 17, 77, 52, 6, 3, 54, 83, 42, 28, 76, 58, 59, 40, 88, 2, 35, 60, 84, 67, 80, 87, 18, 96, 21, 4, 74, 98, 20, 81, 32, 72, 22]\n",
      "Najbolji rezultat: 159\n",
      "Vreme izvršavanja: 57.877 sekunde\n"
     ]
    }
   ],
   "source": [
    "for (A, C) in data_sets:\n",
    "    print(\"----------------------------------\")\n",
    "    print(f\"|A| = {len(A)} , |C| = {len(C)}\")\n",
    "    \n",
    "    start_time = time.time()\n",
    "    permutation, max_triplets = local_search_best_improvement(A, C)\n",
    "    end_time = time.time()\n",
    "    execution_time = end_time - start_time \n",
    "    \n",
    "    print(\"Najbolje rešenje:\", permutation)\n",
    "    print(\"Najbolji rezultat:\", max_triplets)\n",
    "    print(\"Vreme izvršavanja:\", round(execution_time, 3), \"sekunde\")\n"
   ]
  },
  {
   "cell_type": "markdown",
   "id": "4ac47297-b8d1-4b90-8591-e9db197c05ce",
   "metadata": {},
   "source": [
    "### Simultate annealing "
   ]
  },
  {
   "cell_type": "code",
   "execution_count": 141,
   "id": "7736a6d6-61e2-4976-886d-b4a51139a1d2",
   "metadata": {},
   "outputs": [
    {
     "name": "stdout",
     "output_type": "stream",
     "text": [
      "----------------------------------\n",
      "|A| = 5 , |C| = 4\n",
      "Najbolje rešenje: [5, 3, 4, 2, 1]\n",
      "Najbolji rezultat: 3\n",
      "Vreme izvršavanja: 0.019 sekunde\n",
      "----------------------------------\n",
      "|A| = 7 , |C| = 14\n",
      "Najbolje rešenje: [5, 3, 6, 7, 4, 2, 1]\n",
      "Najbolji rezultat: 10\n",
      "Vreme izvršavanja: 0.018 sekunde\n",
      "----------------------------------\n",
      "|A| = 10 , |C| = 20\n",
      "Najbolje rešenje: [2, 5, 6, 7, 4, 3, 1, 9, 10, 8]\n",
      "Najbolji rezultat: 14\n",
      "Vreme izvršavanja: 0.016 sekunde\n",
      "----------------------------------\n",
      "|A| = 25 , |C| = 50\n",
      "Najbolje rešenje: [6, 16, 11, 22, 14, 24, 12, 25, 13, 17, 5, 1, 2, 10, 18, 8, 20, 9, 23, 15, 4, 3, 19, 7, 21]\n",
      "Najbolji rezultat: 38\n",
      "Vreme izvršavanja: 0.036 sekunde\n",
      "----------------------------------\n",
      "|A| = 50 , |C| = 100\n",
      "Najbolje rešenje: [30, 12, 7, 13, 40, 11, 20, 17, 19, 5, 21, 2, 29, 39, 8, 28, 32, 3, 38, 23, 15, 6, 41, 18, 44, 43, 10, 50, 4, 25, 1, 48, 16, 36, 31, 47, 46, 37, 33, 9, 22, 26, 34, 42, 35, 45, 14, 24, 49, 27]\n",
      "Najbolji rezultat: 73\n",
      "Vreme izvršavanja: 0.103 sekunde\n",
      "----------------------------------\n",
      "|A| = 100 , |C| = 200\n",
      "Najbolje rešenje: [76, 22, 56, 53, 15, 60, 49, 12, 83, 81, 97, 40, 27, 25, 1, 50, 31, 65, 2, 18, 58, 61, 88, 42, 91, 84, 75, 17, 67, 79, 45, 21, 96, 8, 64, 89, 85, 6, 98, 16, 51, 3, 77, 4, 47, 72, 95, 38, 59, 26, 100, 37, 66, 41, 32, 68, 34, 70, 90, 33, 9, 74, 35, 82, 20, 94, 80, 7, 29, 36, 23, 30, 39, 63, 28, 11, 71, 54, 93, 87, 73, 92, 14, 69, 44, 5, 52, 78, 24, 43, 10, 48, 13, 57, 99, 62, 55, 46, 86, 19]\n",
      "Najbolji rezultat: 139\n",
      "Vreme izvršavanja: 0.354 sekunde\n"
     ]
    }
   ],
   "source": [
    "for (A, C) in data_sets:\n",
    "    print(\"----------------------------------\")\n",
    "    print(f\"|A| = {len(A)} , |C| = {len(C)}\")\n",
    "    \n",
    "    start_time = time.time()\n",
    "    best_solution, best_score = simulated_annealing(A, C, initial_temperature=300,cooling_rate=0.99)\n",
    "    end_time = time.time()\n",
    "    execution_time = end_time - start_time \n",
    "    \n",
    "    print(\"Najbolje rešenje:\", best_solution)\n",
    "    print(\"Najbolji rezultat:\", best_score)\n",
    "    print(\"Vreme izvršavanja:\", round(execution_time, 3), \"sekunde\")\n"
   ]
  },
  {
   "cell_type": "markdown",
   "id": "7dfed298-90f1-4380-a3a2-80621d6968e2",
   "metadata": {},
   "source": [
    "#### geometric cooling"
   ]
  },
  {
   "cell_type": "code",
   "execution_count": 142,
   "id": "d5db22ea-2041-442d-a656-c5b0e5b6e856",
   "metadata": {},
   "outputs": [
    {
     "name": "stdout",
     "output_type": "stream",
     "text": [
      "----------------------------------\n",
      "|A| = 5 , |C| = 4\n",
      "Geometrijsko hlađenje - Najbolje rešenje: [1, 4, 5, 3, 2]\n",
      "Najbolji rezultat: 3\n",
      "Vreme izvršavanja: 0.023 sekunde\n",
      "----------------------------------\n",
      "|A| = 7 , |C| = 14\n",
      "Geometrijsko hlađenje - Najbolje rešenje: [5, 6, 7, 4, 3, 2, 1]\n",
      "Najbolji rezultat: 10\n",
      "Vreme izvršavanja: 0.013 sekunde\n",
      "----------------------------------\n",
      "|A| = 10 , |C| = 20\n",
      "Geometrijsko hlađenje - Najbolje rešenje: [8, 10, 9, 1, 4, 3, 7, 6, 5, 2]\n",
      "Najbolji rezultat: 14\n",
      "Vreme izvršavanja: 0.015 sekunde\n",
      "----------------------------------\n",
      "|A| = 25 , |C| = 50\n",
      "Geometrijsko hlađenje - Najbolje rešenje: [1, 21, 24, 8, 19, 7, 18, 4, 10, 9, 23, 12, 3, 20, 15, 11, 2, 17, 22, 5, 13, 14, 6, 16, 25]\n",
      "Najbolji rezultat: 41\n",
      "Vreme izvršavanja: 0.047 sekunde\n",
      "----------------------------------\n",
      "|A| = 50 , |C| = 100\n",
      "Geometrijsko hlađenje - Najbolje rešenje: [16, 18, 1, 45, 50, 8, 49, 32, 28, 34, 41, 19, 7, 26, 5, 3, 36, 13, 11, 23, 15, 42, 6, 43, 33, 38, 21, 48, 17, 39, 44, 47, 22, 35, 37, 29, 27, 2, 31, 10, 20, 4, 25, 46, 24, 40, 12, 9, 30, 14]\n",
      "Najbolji rezultat: 70\n",
      "Vreme izvršavanja: 0.096 sekunde\n",
      "----------------------------------\n",
      "|A| = 100 , |C| = 200\n",
      "Geometrijsko hlađenje - Najbolje rešenje: [24, 95, 69, 4, 74, 82, 48, 97, 47, 10, 22, 55, 9, 41, 63, 66, 13, 57, 86, 56, 61, 52, 64, 5, 73, 53, 77, 30, 7, 11, 19, 98, 81, 85, 99, 51, 90, 23, 35, 60, 18, 45, 46, 28, 92, 72, 20, 17, 39, 79, 21, 80, 12, 65, 49, 33, 1, 67, 84, 54, 29, 89, 76, 78, 42, 27, 37, 16, 58, 3, 25, 100, 8, 96, 83, 62, 94, 2, 6, 34, 70, 93, 50, 88, 38, 32, 87, 44, 71, 36, 40, 91, 26, 43, 14, 31, 59, 15, 75, 68]\n",
      "Najbolji rezultat: 135\n",
      "Vreme izvršavanja: 0.342 sekunde\n"
     ]
    }
   ],
   "source": [
    "for (A, C) in data_sets:\n",
    "    print(\"----------------------------------\")\n",
    "    print(f\"|A| = {len(A)} , |C| = {len(C)}\")\n",
    "    \n",
    "    start_time = time.time()\n",
    "    best_solution, best_score = simulated_annealing_cooling_strategy(A, C, geometric_cooling, initial_temperature=300,cooling_rate=0.99)\n",
    "    end_time = time.time()\n",
    "    execution_time = end_time - start_time \n",
    "    \n",
    "    print(\"Geometrijsko hlađenje - Najbolje rešenje:\", best_solution)\n",
    "    print(\"Najbolji rezultat:\", best_score)\n",
    "    print(\"Vreme izvršavanja:\", round(execution_time, 3), \"sekunde\")\n"
   ]
  },
  {
   "cell_type": "markdown",
   "id": "d5692138-cdc8-4a4a-aac3-38b75a74d2b1",
   "metadata": {},
   "source": [
    "#### SQRT hladjenje"
   ]
  },
  {
   "cell_type": "code",
   "execution_count": 143,
   "id": "98821e45-941d-4c01-8350-230683d5961c",
   "metadata": {},
   "outputs": [
    {
     "name": "stdout",
     "output_type": "stream",
     "text": [
      "----------------------------------\n",
      "|A| = 5 , |C| = 4\n",
      "SQRT hlađenje - Najbolje rešenje: [2, 3, 5, 4, 1]\n",
      "Najbolji rezultat: 3\n",
      "Vreme izvršavanja: 0.084 sekunde\n",
      "----------------------------------\n",
      "|A| = 7 , |C| = 14\n",
      "SQRT hlađenje - Najbolje rešenje: [1, 2, 4, 3, 6, 7, 5]\n",
      "Najbolji rezultat: 10\n",
      "Vreme izvršavanja: 0.088 sekunde\n",
      "----------------------------------\n",
      "|A| = 10 , |C| = 20\n",
      "SQRT hlađenje - Najbolje rešenje: [10, 8, 9, 1, 3, 2, 7, 4, 5, 6]\n",
      "Najbolji rezultat: 13\n",
      "Vreme izvršavanja: 0.135 sekunde\n",
      "----------------------------------\n",
      "|A| = 25 , |C| = 50\n",
      "SQRT hlađenje - Najbolje rešenje: [16, 17, 21, 19, 8, 7, 23, 14, 20, 3, 22, 11, 24, 4, 13, 10, 9, 18, 5, 2, 15, 12, 1, 25, 6]\n",
      "Najbolji rezultat: 39\n",
      "Vreme izvršavanja: 0.349 sekunde\n",
      "----------------------------------\n",
      "|A| = 50 , |C| = 100\n",
      "SQRT hlađenje - Najbolje rešenje: [1, 39, 9, 8, 16, 3, 36, 40, 26, 15, 21, 20, 5, 48, 50, 28, 2, 37, 25, 35, 10, 6, 32, 34, 38, 33, 43, 11, 41, 45, 44, 30, 42, 23, 49, 19, 31, 17, 12, 47, 18, 27, 4, 14, 24, 22, 46, 29, 7, 13]\n",
      "Najbolji rezultat: 67\n",
      "Vreme izvršavanja: 1.047 sekunde\n",
      "----------------------------------\n",
      "|A| = 100 , |C| = 200\n",
      "SQRT hlađenje - Najbolje rešenje: [87, 5, 48, 92, 50, 13, 4, 18, 31, 61, 11, 53, 76, 39, 37, 65, 55, 17, 45, 3, 68, 83, 29, 88, 22, 23, 12, 98, 75, 40, 21, 97, 1, 32, 56, 100, 41, 16, 27, 7, 84, 64, 33, 66, 67, 51, 36, 52, 95, 81, 85, 42, 20, 70, 78, 59, 80, 9, 93, 35, 79, 10, 60, 54, 74, 15, 6, 99, 26, 57, 58, 71, 89, 34, 73, 63, 19, 14, 82, 2, 86, 69, 30, 24, 38, 96, 28, 8, 44, 91, 49, 47, 77, 43, 72, 62, 25, 46, 94, 90]\n",
      "Najbolji rezultat: 124\n",
      "Vreme izvršavanja: 3.607 sekunde\n"
     ]
    }
   ],
   "source": [
    "for (A, C) in data_sets:\n",
    "    print(\"----------------------------------\")\n",
    "    print(f\"|A| = {len(A)} , |C| = {len(C)}\")\n",
    "    \n",
    "    start_time = time.time()\n",
    "    best_solution, best_score = simulated_annealing_cooling_strategy(A, C, sqrt_cooling, initial_temperature=100,cooling_rate=0.999, max_iterations=10000)\n",
    "    end_time = time.time()\n",
    "    execution_time = end_time - start_time \n",
    "    \n",
    "    print(\"SQRT hlađenje - Najbolje rešenje:\", best_solution)\n",
    "    print(\"Najbolji rezultat:\", best_score)\n",
    "    print(\"Vreme izvršavanja:\", round(execution_time, 3), \"sekunde\")\n"
   ]
  },
  {
   "cell_type": "markdown",
   "id": "5376901c-8a22-46cd-95f0-ac26c087ec34",
   "metadata": {},
   "source": [
    "#### Logaritamsko hladjenje"
   ]
  },
  {
   "cell_type": "code",
   "execution_count": 144,
   "id": "26c63898-98c5-49d7-a7d2-5a3bf5665a72",
   "metadata": {},
   "outputs": [
    {
     "name": "stdout",
     "output_type": "stream",
     "text": [
      "----------------------------------\n",
      "|A| = 5 , |C| = 4\n",
      "Logaritamsko hlađenje - Najbolje rešenje: [1, 2, 3, 4, 5]\n",
      "Najbolji rezultat: 3\n",
      "Vreme izvršavanja: 0.13 sekunde\n",
      "----------------------------------\n",
      "|A| = 7 , |C| = 14\n",
      "Logaritamsko hlađenje - Najbolje rešenje: [5, 7, 6, 3, 4, 2, 1]\n",
      "Najbolji rezultat: 10\n",
      "Vreme izvršavanja: 0.089 sekunde\n",
      "----------------------------------\n",
      "|A| = 10 , |C| = 20\n",
      "Logaritamsko hlađenje - Najbolje rešenje: [8, 10, 9, 4, 7, 1, 6, 5, 3, 2]\n",
      "Najbolji rezultat: 12\n",
      "Vreme izvršavanja: 0.13 sekunde\n",
      "----------------------------------\n",
      "|A| = 25 , |C| = 50\n",
      "Logaritamsko hlađenje - Najbolje rešenje: [11, 16, 21, 6, 25, 17, 22, 4, 12, 20, 5, 19, 10, 23, 2, 18, 13, 24, 3, 9, 7, 8, 14, 15, 1]\n",
      "Najbolji rezultat: 29\n",
      "Vreme izvršavanja: 0.345 sekunde\n",
      "----------------------------------\n",
      "|A| = 50 , |C| = 100\n",
      "Logaritamsko hlađenje - Najbolje rešenje: [9, 13, 46, 2, 41, 1, 50, 31, 35, 22, 23, 14, 34, 16, 19, 32, 8, 38, 17, 6, 25, 27, 28, 4, 43, 42, 36, 15, 49, 5, 48, 7, 10, 29, 39, 20, 26, 33, 37, 11, 45, 44, 30, 24, 3, 12, 40, 21, 47, 18]\n",
      "Najbolji rezultat: 54\n",
      "Vreme izvršavanja: 1.051 sekunde\n",
      "----------------------------------\n",
      "|A| = 100 , |C| = 200\n",
      "Logaritamsko hlađenje - Najbolje rešenje: [17, 80, 53, 14, 71, 49, 91, 44, 38, 32, 84, 45, 94, 22, 11, 69, 34, 60, 52, 46, 42, 73, 35, 66, 70, 63, 20, 90, 82, 19, 4, 39, 85, 29, 36, 61, 26, 62, 16, 27, 55, 5, 3, 78, 37, 98, 57, 33, 50, 79, 100, 81, 23, 99, 76, 67, 83, 31, 2, 75, 54, 51, 93, 77, 21, 86, 72, 6, 30, 25, 18, 97, 89, 87, 12, 10, 65, 9, 88, 58, 59, 74, 28, 7, 64, 24, 15, 8, 92, 56, 68, 1, 13, 40, 47, 43, 96, 95, 48, 41]\n",
      "Najbolji rezultat: 102\n",
      "Vreme izvršavanja: 3.553 sekunde\n"
     ]
    }
   ],
   "source": [
    "for (A, C) in data_sets:\n",
    "    print(\"----------------------------------\")\n",
    "    print(f\"|A| = {len(A)} , |C| = {len(C)}\")\n",
    "    \n",
    "    start_time = time.time()\n",
    "    best_solution, best_score = simulated_annealing_cooling_strategy(A, C, log_cooling, initial_temperature=100,cooling_rate=1, max_iterations=10000)\n",
    "    end_time = time.time()\n",
    "    execution_time = end_time - start_time \n",
    "    \n",
    "    print(\"Logaritamsko hlađenje - Najbolje rešenje:\", best_solution)\n",
    "    print(\"Najbolji rezultat:\", best_score)\n",
    "    print(\"Vreme izvršavanja:\", round(execution_time, 3), \"sekunde\")\n"
   ]
  },
  {
   "cell_type": "markdown",
   "id": "13989bc5-94a0-4bd2-9e4f-616d476d0e09",
   "metadata": {},
   "source": [
    "#### Adaptive"
   ]
  },
  {
   "cell_type": "code",
   "execution_count": 145,
   "id": "e1980a52-57f6-4774-8961-121232476e1a",
   "metadata": {},
   "outputs": [
    {
     "name": "stdout",
     "output_type": "stream",
     "text": [
      "----------------------------------\n",
      "|A| = 5 , |C| = 4\n",
      "Najbolje rešenje: [1, 3, 2, 4, 5]\n",
      "Najbolji rezultat: 2\n",
      "Vreme izvršavanja: 0.02 sekunde\n",
      "----------------------------------\n",
      "|A| = 7 , |C| = 14\n",
      "Najbolje rešenje: [6, 2, 4, 3, 5, 7, 1]\n",
      "Najbolji rezultat: 3\n",
      "Vreme izvršavanja: 0.024 sekunde\n",
      "----------------------------------\n",
      "|A| = 10 , |C| = 20\n",
      "Najbolje rešenje: [5, 10, 9, 6, 1, 7, 2, 4, 8, 3]\n",
      "Najbolji rezultat: 8\n",
      "Vreme izvršavanja: 0.015 sekunde\n",
      "----------------------------------\n",
      "|A| = 25 , |C| = 50\n",
      "Najbolje rešenje: [10, 22, 24, 1, 25, 15, 3, 17, 20, 5, 6, 21, 4, 7, 9, 13, 14, 23, 8, 19, 16, 2, 18, 11, 12]\n",
      "Najbolji rezultat: 17\n",
      "Vreme izvršavanja: 0.039 sekunde\n",
      "----------------------------------\n",
      "|A| = 50 , |C| = 100\n",
      "Najbolje rešenje: [40, 37, 48, 10, 12, 29, 18, 6, 41, 20, 45, 27, 26, 33, 31, 25, 1, 5, 7, 23, 43, 17, 35, 16, 47, 28, 13, 34, 49, 11, 2, 36, 3, 46, 42, 38, 50, 44, 24, 32, 9, 4, 8, 15, 39, 19, 30, 21, 22, 14]\n",
      "Najbolji rezultat: 28\n",
      "Vreme izvršavanja: 0.097 sekunde\n",
      "----------------------------------\n",
      "|A| = 100 , |C| = 200\n",
      "Najbolje rešenje: [99, 98, 90, 27, 17, 8, 70, 93, 100, 6, 61, 36, 32, 58, 35, 72, 47, 77, 85, 29, 44, 22, 89, 64, 63, 46, 37, 30, 4, 20, 10, 31, 14, 50, 26, 60, 57, 88, 41, 13, 18, 49, 62, 67, 24, 23, 40, 86, 38, 71, 73, 1, 16, 84, 97, 81, 33, 94, 82, 69, 5, 87, 95, 11, 52, 15, 45, 34, 68, 51, 2, 12, 59, 76, 43, 66, 83, 92, 56, 9, 21, 42, 96, 91, 25, 54, 3, 75, 79, 28, 19, 53, 78, 39, 48, 80, 55, 65, 74, 7]\n",
      "Najbolji rezultat: 65\n",
      "Vreme izvršavanja: 0.338 sekunde\n"
     ]
    }
   ],
   "source": [
    "for (A, C) in data_sets:\n",
    "    print(\"----------------------------------\")\n",
    "    print(f\"|A| = {len(A)} , |C| = {len(C)}\")\n",
    "    \n",
    "    start_time = time.time()\n",
    "    best_solution, best_score = simulated_annealing_adaptive(A, C)\n",
    "    end_time = time.time()\n",
    "    execution_time = end_time - start_time \n",
    "    \n",
    "    print(\"Najbolje rešenje:\", best_solution)\n",
    "    print(\"Najbolji rezultat:\", best_score)\n",
    "    print(\"Vreme izvršavanja:\", round(execution_time, 3), \"sekunde\")\n"
   ]
  },
  {
   "cell_type": "markdown",
   "id": "707d5194-5bca-451f-9d55-7b64facf43b3",
   "metadata": {},
   "source": [
    "#### with intensitive search and heuristic"
   ]
  },
  {
   "cell_type": "code",
   "execution_count": 168,
   "id": "64703b9b-4e13-49f5-9db7-0225e4f4c603",
   "metadata": {},
   "outputs": [
    {
     "name": "stdout",
     "output_type": "stream",
     "text": [
      "----------------------------------\n",
      "|A| = 5 , |C| = 4\n",
      "Najbolje rešenje: [4, 5, 3, 2, 1]\n",
      "Najbolji rezultat: 3\n",
      "Vreme izvršavanja: 0.033 sekunde\n",
      "----------------------------------\n",
      "|A| = 7 , |C| = 14\n",
      "Najbolje rešenje: [5, 3, 6, 4, 2, 1, 7]\n",
      "Najbolji rezultat: 10\n",
      "Vreme izvršavanja: 0.039 sekunde\n",
      "----------------------------------\n",
      "|A| = 10 , |C| = 20\n",
      "Najbolje rešenje: [6, 5, 2, 4, 7, 3, 1, 9, 10, 8]\n",
      "Najbolji rezultat: 14\n",
      "Vreme izvršavanja: 0.049 sekunde\n",
      "----------------------------------\n",
      "|A| = 25 , |C| = 50\n",
      "Najbolje rešenje: [1, 14, 24, 5, 8, 7, 20, 2, 13, 12, 23, 11, 10, 3, 6, 15, 9, 22, 19, 17, 21, 16, 4, 18, 25]\n",
      "Najbolji rezultat: 39\n",
      "Vreme izvršavanja: 0.132 sekunde\n",
      "----------------------------------\n",
      "|A| = 50 , |C| = 100\n",
      "Najbolje rešenje: [1, 12, 10, 7, 42, 27, 35, 14, 31, 47, 25, 6, 41, 39, 13, 21, 8, 48, 33, 50, 20, 22, 43, 17, 19, 34, 44, 38, 23, 36, 29, 24, 5, 37, 26, 3, 32, 45, 11, 28, 40, 2, 4, 9, 15, 49, 46, 30, 16, 18]\n",
      "Najbolji rezultat: 86\n",
      "Vreme izvršavanja: 0.423 sekunde\n",
      "----------------------------------\n",
      "|A| = 100 , |C| = 200\n",
      "Najbolje rešenje: [14, 30, 55, 94, 42, 82, 76, 45, 90, 11, 72, 60, 40, 19, 74, 4, 95, 46, 23, 89, 54, 97, 53, 51, 63, 39, 80, 6, 81, 96, 65, 71, 83, 84, 17, 25, 85, 3, 47, 93, 75, 67, 7, 28, 21, 13, 37, 70, 92, 33, 2, 52, 35, 34, 29, 62, 100, 24, 15, 68, 91, 16, 77, 57, 87, 1, 59, 66, 98, 20, 38, 8, 44, 36, 86, 69, 27, 26, 79, 64, 48, 50, 5, 61, 41, 32, 56, 31, 73, 99, 10, 9, 88, 18, 58, 12, 78, 22, 49, 43]\n",
      "Najbolji rezultat: 162\n",
      "Vreme izvršavanja: 1.425 sekunde\n"
     ]
    }
   ],
   "source": [
    "initial_temperature = 100\n",
    "cooling_rate = 0.95\n",
    "stopping_temperature = 1e-6\n",
    "max_iterations = 1000\n",
    "num_neighbors_to_generate = 10\n",
    "\n",
    "for index, (A, C) in enumerate(data_sets, start=1):\n",
    "    print(\"----------------------------------\")\n",
    "    print(f\"|A| = {len(A)} , |C| = {len(C)}\")\n",
    "    \n",
    "    start_time = time.time()\n",
    "    best_solution, best_score = simulated_annealing_with_intensive_search(A, C, initial_temperature, cooling_rate, stopping_temperature, max_iterations, num_neighbors_to_generate)\n",
    "    end_time = time.time()\n",
    "    execution_time = end_time - start_time \n",
    "    \n",
    "    print(\"Najbolje rešenje:\", best_solution)\n",
    "    print(\"Najbolji rezultat:\", best_score)\n",
    "    print(\"Vreme izvršavanja:\", round(execution_time, 3), \"sekunde\")"
   ]
  },
  {
   "cell_type": "markdown",
   "id": "886a92ac-37ad-4583-8961-24f3cb773569",
   "metadata": {},
   "source": [
    "### Genetic algorithm"
   ]
  },
  {
   "cell_type": "code",
   "execution_count": 146,
   "id": "40656767-085a-48c6-ab21-e4febd6737bc",
   "metadata": {},
   "outputs": [
    {
     "name": "stdout",
     "output_type": "stream",
     "text": [
      "----------------------------------\n",
      "|A| = 5 , |C| = 4\n",
      "Najbolje rešenje: [1, 2, 4, 3, 5]\n",
      "Najbolji rezultat: 3\n",
      "Vreme izvršavanja: 0.541 sekunde\n",
      "----------------------------------\n",
      "|A| = 7 , |C| = 14\n",
      "Najbolje rešenje: [5, 7, 6, 3, 4, 2, 1]\n",
      "Najbolji rezultat: 10\n",
      "Vreme izvršavanja: 0.896 sekunde\n",
      "----------------------------------\n",
      "|A| = 10 , |C| = 20\n",
      "Najbolje rešenje: [8, 10, 9, 1, 4, 3, 7, 2, 5, 6]\n",
      "Najbolji rezultat: 14\n",
      "Vreme izvršavanja: 1.258 sekunde\n",
      "----------------------------------\n",
      "|A| = 25 , |C| = 50\n",
      "Najbolje rešenje: [11, 12, 1, 14, 13, 25, 18, 4, 2, 15, 9, 24, 21, 23, 19, 17, 3, 7, 10, 20, 8, 22, 6, 16, 5]\n",
      "Najbolji rezultat: 29\n",
      "Vreme izvršavanja: 3.752 sekunde\n",
      "----------------------------------\n",
      "|A| = 50 , |C| = 100\n",
      "Najbolje rešenje: [42, 22, 16, 24, 17, 21, 40, 35, 11, 25, 7, 20, 49, 50, 36, 5, 47, 44, 3, 31, 38, 37, 4, 9, 8, 27, 13, 6, 34, 30, 10, 26, 39, 48, 28, 15, 29, 41, 33, 23, 43, 32, 45, 18, 12, 2, 19, 1, 46, 14]\n",
      "Najbolji rezultat: 55\n",
      "Vreme izvršavanja: 11.259 sekunde\n",
      "----------------------------------\n",
      "|A| = 100 , |C| = 200\n",
      "Najbolje rešenje: [53, 76, 90, 32, 52, 36, 19, 60, 72, 18, 21, 87, 57, 10, 29, 63, 35, 11, 43, 2, 74, 14, 65, 22, 91, 99, 70, 95, 94, 26, 38, 83, 41, 46, 50, 71, 28, 69, 51, 24, 39, 30, 5, 8, 100, 66, 78, 93, 80, 23, 9, 48, 7, 3, 34, 96, 59, 64, 4, 75, 17, 85, 44, 20, 1, 49, 56, 92, 79, 58, 98, 81, 40, 13, 37, 47, 73, 62, 88, 54, 89, 16, 45, 86, 82, 31, 77, 97, 12, 67, 68, 15, 33, 6, 42, 27, 84, 61, 55, 25]\n",
      "Najbolji rezultat: 86\n",
      "Vreme izvršavanja: 39.942 sekunde\n"
     ]
    }
   ],
   "source": [
    "for (A, C) in data_sets:\n",
    "    print(\"----------------------------------\")\n",
    "    print(f\"|A| = {len(A)} , |C| = {len(C)}\")\n",
    "    \n",
    "    start_time = time.time()\n",
    "    best_solution, best_score = genetic_algorithm(A, C)\n",
    "    end_time = time.time()\n",
    "    execution_time = end_time - start_time \n",
    "    \n",
    "    print(\"Najbolje rešenje:\", best_solution)\n",
    "    print(\"Najbolji rezultat:\", best_score)\n",
    "    print(\"Vreme izvršavanja:\", round(execution_time, 3), \"sekunde\")\n"
   ]
  },
  {
   "cell_type": "code",
   "execution_count": null,
   "id": "eb8732ba-7e42-4dd6-80ce-24f2ce8912d2",
   "metadata": {},
   "outputs": [],
   "source": []
  },
  {
   "cell_type": "code",
   "execution_count": null,
   "id": "1cdd85b0-3e46-4a12-9270-b046a8239a41",
   "metadata": {},
   "outputs": [],
   "source": []
  },
  {
   "cell_type": "code",
   "execution_count": null,
   "id": "9d5d69aa-7680-423c-b707-49549161297e",
   "metadata": {},
   "outputs": [],
   "source": []
  },
  {
   "cell_type": "code",
   "execution_count": null,
   "id": "6e1bd22d-dc7e-4320-9feb-ab5b6b1f0287",
   "metadata": {},
   "outputs": [],
   "source": []
  },
  {
   "cell_type": "code",
   "execution_count": null,
   "id": "bdb7ef08-d799-451c-b276-8193968de57e",
   "metadata": {},
   "outputs": [],
   "source": []
  }
 ],
 "metadata": {
  "kernelspec": {
   "display_name": "Python 3 (ipykernel)",
   "language": "python",
   "name": "python3"
  },
  "language_info": {
   "codemirror_mode": {
    "name": "ipython",
    "version": 3
   },
   "file_extension": ".py",
   "mimetype": "text/x-python",
   "name": "python",
   "nbconvert_exporter": "python",
   "pygments_lexer": "ipython3",
   "version": "3.10.12"
  }
 },
 "nbformat": 4,
 "nbformat_minor": 5
}
