{
 "cells": [
  {
   "cell_type": "markdown",
   "id": "de6edee1-8b42-44ab-82ec-2bbb1a76fd9a",
   "metadata": {},
   "source": [
    "### Generisanje test primera"
   ]
  },
  {
   "cell_type": "code",
   "execution_count": 68,
   "id": "190debde-9ab5-47e5-8c3e-cc27fe37134c",
   "metadata": {},
   "outputs": [],
   "source": [
    "import random\n",
    "import time"
   ]
  },
  {
   "cell_type": "code",
   "execution_count": 2,
   "id": "9cd6aca4-09d7-4bda-8bc0-17afd27abc12",
   "metadata": {
    "scrolled": true
   },
   "outputs": [],
   "source": [
    "# Generisanje skupa A sa 5 elemenata i 4 trojke u skupu C\n",
    "A_5_4 = list(range(1, 6))\n",
    "C_5_4 = [tuple(random.sample(A_5_4, 3)) for _ in range(4)]"
   ]
  },
  {
   "cell_type": "code",
   "execution_count": 3,
   "id": "f93a5b3b-c86d-412c-9920-a2671f3573bf",
   "metadata": {},
   "outputs": [],
   "source": [
    "# Generisanje skupa A sa 7 elemenata i 14 trojki u skupu C\n",
    "A_7_14 = list(range(1, 8))\n",
    "C_7_14 = [tuple(random.sample(A_7_14, 3)) for _ in range(14)]"
   ]
  },
  {
   "cell_type": "code",
   "execution_count": 4,
   "id": "d81a7bd6-c677-4e47-ab27-b78865b66d09",
   "metadata": {},
   "outputs": [],
   "source": [
    "# Generisanje skupa A sa 10 elemenata i 20 trojki u skupu C\n",
    "A_10_20 = list(range(1, 11))\n",
    "C_10_20 = [tuple(random.sample(A_10_20, 3)) for _ in range(20)]"
   ]
  },
  {
   "cell_type": "code",
   "execution_count": 5,
   "id": "e02c2ee1-2606-4b8a-8e8c-5e38b079eece",
   "metadata": {},
   "outputs": [],
   "source": [
    "# Generisanje skupa A sa 25 elemenata i 50 trojki u skupu C\n",
    "A_25_50 = list(range(1, 26))\n",
    "C_25_50 = [tuple(random.sample(A_25_50, 3)) for _ in range(50)]"
   ]
  },
  {
   "cell_type": "code",
   "execution_count": 6,
   "id": "76569c90-ed84-4d83-be5a-53349d11b6e4",
   "metadata": {},
   "outputs": [],
   "source": [
    "# Generisanje skupa A sa 50 elemenata i 100 trojki u skupu C\n",
    "A_50_100 = list(range(1, 51))\n",
    "C_50_100 = [tuple(random.sample(A_50_100, 3)) for _ in range(100)]"
   ]
  },
  {
   "cell_type": "code",
   "execution_count": 7,
   "id": "bf4f7491-db96-4893-a380-790c8938e539",
   "metadata": {},
   "outputs": [],
   "source": [
    "# Generisanje skupa A sa 100 elemenata i 200 trojki u skupu C\n",
    "A_100_200 = list(range(1, 101))\n",
    "C_100_200 = [tuple(random.sample(A_100_200, 3)) for _ in range(200)]"
   ]
  },
  {
   "cell_type": "code",
   "execution_count": 31,
   "id": "a1deb031-4302-43ae-a67f-31711fa2b915",
   "metadata": {},
   "outputs": [],
   "source": [
    "# Generisanje skupa A sa 150 elemenata i 300 trojki u skupu C\n",
    "#A_150_300 = list(range(1, 151))\n",
    "#C_150_300 = [tuple(random.sample(A_150_300, 3)) for _ in range(300)]"
   ]
  },
  {
   "cell_type": "code",
   "execution_count": 90,
   "id": "f1d99d26-80b9-45e1-8210-376ab35f241b",
   "metadata": {},
   "outputs": [],
   "source": [
    "data_sets_BF = [(A_5_4, C_5_4), (A_7_14, C_7_14), (A_10_20, C_10_20)]\n",
    "data_sets = [(A_5_4, C_5_4), (A_7_14, C_7_14), (A_10_20, C_10_20), (A_25_50, C_25_50), (A_50_100, C_50_100), (A_100_200, C_100_200)]"
   ]
  },
  {
   "cell_type": "markdown",
   "id": "488cb73e-4998-4493-9f36-868caf9cc1b7",
   "metadata": {},
   "source": [
    "#### ispis generisanih test primera"
   ]
  },
  {
   "cell_type": "code",
   "execution_count": 65,
   "id": "d1aa2df7-73bf-4638-bdce-e4f48a2dc357",
   "metadata": {
    "scrolled": true
   },
   "outputs": [
    {
     "name": "stdout",
     "output_type": "stream",
     "text": [
      "------------------------------------------------------------------------------------------------\n",
      ">>>5 elemenata 4 trojki\n",
      "---------------------------------\n",
      "[1, 2, 3, 4, 5]\n",
      "\n",
      "[(5, 3, 1), (3, 5, 2), (4, 5, 1), (5, 1, 3)]\n",
      "------------------------------------------------------------------------------------------------\n",
      ">>>7 elemenata 14 trojki\n",
      "---------------------------------\n",
      "[1, 2, 3, 4, 5, 6, 7]\n",
      "\n",
      "[(2, 5, 3), (1, 7, 4), (4, 1, 3), (2, 7, 4), (3, 6, 2), (3, 7, 5), (5, 2, 4), (4, 5, 6), (1, 7, 3), (1, 6, 4), (7, 2, 4), (5, 3, 6), (6, 4, 5), (2, 5, 7)]\n",
      "------------------------------------------------------------------------------------------------\n",
      ">>>10 elemenata 20 trojki\n",
      "---------------------------------\n",
      "[1, 2, 3, 4, 5, 6, 7, 8, 9, 10]\n",
      "\n",
      "[(7, 4, 2), (3, 4, 8), (8, 10, 4), (3, 10, 1), (3, 7, 10), (9, 10, 5), (4, 2, 1), (5, 6, 4), (2, 7, 6), (8, 9, 7), (3, 2, 10), (8, 9, 3), (8, 10, 7), (8, 7, 1), (5, 6, 8), (1, 5, 4), (6, 9, 1), (3, 2, 4), (7, 8, 4), (7, 10, 8)]\n",
      "------------------------------------------------------------------------------------------------\n",
      ">>>25 elemenata 50 trojki\n",
      "---------------------------------\n",
      "[1, 2, 3, 4, 5, 6, 7, 8, 9, 10, 11, 12, 13, 14, 15, 16, 17, 18, 19, 20, 21, 22, 23, 24, 25]\n",
      "\n",
      "[(20, 11, 9), (5, 4, 15), (17, 20, 5), (7, 14, 1), (19, 25, 16), (16, 22, 9), (9, 16, 17), (20, 2, 22), (3, 9, 21), (6, 20, 1), (8, 4, 13), (8, 24, 2), (4, 11, 19), (15, 17, 14), (7, 5, 1), (24, 20, 9), (15, 14, 20), (23, 18, 14), (3, 12, 7), (16, 10, 20), (5, 7, 4), (11, 16, 2), (25, 13, 12), (11, 24, 12), (4, 20, 21), (23, 1, 8), (15, 25, 1), (20, 23, 16), (2, 21, 11), (24, 6, 17), (5, 18, 16), (22, 3, 2), (6, 21, 15), (9, 18, 6), (10, 9, 18), (19, 12, 1), (1, 24, 6), (16, 22, 8), (18, 7, 8), (5, 2, 23), (10, 16, 21), (6, 22, 3), (20, 21, 4), (1, 21, 17), (2, 4, 5), (3, 13, 9), (10, 19, 18), (3, 15, 1), (15, 5, 14), (15, 11, 2)]\n",
      "------------------------------------------------------------------------------------------------\n",
      ">>>50 elemenata 100 trojki\n",
      "---------------------------------\n",
      "[1, 2, 3, 4, 5, 6, 7, 8, 9, 10, 11, 12, 13, 14, 15, 16, 17, 18, 19, 20, 21, 22, 23, 24, 25, 26, 27, 28, 29, 30, 31, 32, 33, 34, 35, 36, 37, 38, 39, 40, 41, 42, 43, 44, 45, 46, 47, 48, 49, 50]\n",
      "\n",
      "[(5, 23, 28), (11, 14, 29), (22, 49, 23), (40, 17, 19), (33, 37, 11), (16, 38, 18), (24, 19, 21), (2, 4, 33), (43, 34, 26), (1, 23, 19), (16, 20, 17), (50, 28, 39), (29, 48, 50), (4, 33, 49), (12, 44, 27), (29, 1, 15), (20, 45, 32), (43, 37, 25), (7, 22, 25), (12, 28, 5), (43, 46, 37), (26, 37, 41), (13, 10, 37), (35, 17, 33), (27, 25, 47), (23, 49, 7), (28, 16, 31), (42, 18, 8), (17, 45, 33), (15, 1, 11), (22, 43, 31), (32, 4, 14), (7, 11, 22), (17, 6, 22), (50, 6, 23), (30, 7, 23), (6, 35, 30), (49, 8, 46), (22, 1, 37), (1, 18, 30), (50, 2, 47), (31, 7, 39), (28, 49, 24), (45, 2, 8), (28, 1, 21), (30, 49, 10), (44, 9, 5), (47, 43, 31), (21, 38, 24), (18, 1, 5), (4, 31, 35), (27, 5, 50), (4, 49, 16), (8, 23, 24), (41, 35, 8), (37, 48, 46), (48, 16, 24), (7, 6, 27), (3, 20, 49), (6, 21, 37), (50, 9, 4), (31, 22, 1), (19, 29, 49), (11, 26, 22), (40, 12, 38), (10, 25, 41), (46, 37, 17), (32, 36, 16), (8, 19, 18), (48, 16, 13), (45, 31, 4), (18, 43, 46), (2, 27, 34), (43, 45, 42), (18, 43, 42), (39, 27, 6), (29, 9, 37), (34, 6, 46), (41, 8, 11), (39, 24, 41), (5, 47, 17), (50, 47, 25), (38, 14, 33), (6, 18, 50), (34, 4, 16), (40, 17, 28), (25, 27, 21), (40, 22, 24), (6, 16, 17), (26, 42, 1), (3, 21, 47), (34, 49, 8), (22, 28, 18), (17, 28, 8), (21, 17, 36), (4, 2, 46), (17, 24, 42), (2, 41, 46), (49, 16, 4), (31, 34, 14)]\n",
      "------------------------------------------------------------------------------------------------\n",
      ">>>100 elemenata 200 trojki\n",
      "---------------------------------\n",
      "[1, 2, 3, 4, 5, 6, 7, 8, 9, 10, 11, 12, 13, 14, 15, 16, 17, 18, 19, 20, 21, 22, 23, 24, 25, 26, 27, 28, 29, 30, 31, 32, 33, 34, 35, 36, 37, 38, 39, 40, 41, 42, 43, 44, 45, 46, 47, 48, 49, 50, 51, 52, 53, 54, 55, 56, 57, 58, 59, 60, 61, 62, 63, 64, 65, 66, 67, 68, 69, 70, 71, 72, 73, 74, 75, 76, 77, 78, 79, 80, 81, 82, 83, 84, 85, 86, 87, 88, 89, 90, 91, 92, 93, 94, 95, 96, 97, 98, 99, 100]\n",
      "\n",
      "[(86, 48, 59), (49, 61, 6), (61, 27, 33), (72, 64, 73), (22, 34, 71), (45, 67, 17), (75, 10, 53), (3, 17, 14), (100, 88, 43), (86, 70, 87), (21, 12, 49), (89, 45, 75), (76, 40, 67), (59, 42, 77), (88, 93, 11), (36, 34, 88), (32, 65, 23), (18, 7, 14), (17, 41, 59), (38, 31, 95), (57, 61, 44), (12, 28, 32), (1, 56, 84), (8, 11, 21), (21, 2, 53), (61, 92, 41), (89, 58, 24), (77, 91, 86), (62, 99, 79), (59, 6, 54), (56, 82, 25), (75, 23, 22), (18, 46, 42), (53, 29, 25), (2, 55, 27), (37, 49, 75), (54, 14, 75), (38, 31, 88), (99, 96, 36), (1, 81, 31), (17, 62, 28), (3, 70, 4), (76, 27, 75), (42, 58, 36), (3, 67, 15), (70, 39, 79), (62, 21, 25), (77, 100, 49), (48, 31, 5), (11, 93, 16), (57, 73, 65), (97, 100, 8), (89, 100, 94), (24, 3, 15), (36, 12, 9), (73, 54, 25), (72, 14, 52), (22, 76, 90), (38, 25, 47), (22, 32, 37), (92, 4, 78), (43, 74, 36), (38, 10, 7), (40, 72, 39), (43, 20, 4), (85, 84, 92), (48, 10, 29), (91, 10, 49), (91, 85, 23), (39, 41, 87), (16, 96, 56), (91, 100, 47), (35, 4, 68), (82, 70, 83), (84, 96, 93), (65, 13, 52), (59, 62, 77), (85, 98, 46), (69, 25, 98), (93, 37, 56), (39, 56, 62), (83, 77, 3), (93, 74, 66), (22, 69, 17), (100, 93, 32), (6, 66, 100), (40, 56, 53), (9, 93, 98), (13, 57, 53), (98, 47, 81), (12, 26, 73), (9, 18, 4), (21, 54, 77), (47, 48, 9), (33, 19, 48), (35, 5, 9), (66, 88, 31), (8, 59, 21), (48, 23, 22), (87, 54, 49), (77, 58, 82), (45, 69, 62), (45, 76, 54), (69, 25, 26), (72, 35, 63), (13, 77, 48), (36, 95, 2), (5, 15, 41), (65, 97, 75), (45, 81, 29), (12, 78, 91), (48, 4, 12), (75, 46, 97), (73, 96, 21), (95, 28, 58), (9, 97, 86), (35, 31, 19), (43, 94, 62), (17, 56, 72), (89, 21, 75), (85, 84, 42), (40, 5, 88), (84, 86, 65), (73, 48, 59), (96, 39, 85), (89, 99, 51), (29, 98, 76), (76, 10, 90), (69, 91, 31), (43, 38, 8), (83, 34, 100), (3, 63, 76), (37, 67, 21), (35, 79, 54), (5, 51, 66), (73, 76, 59), (91, 1, 31), (43, 4, 81), (12, 62, 71), (87, 67, 90), (34, 65, 14), (38, 72, 77), (40, 97, 19), (76, 33, 62), (43, 56, 2), (68, 73, 20), (61, 93, 65), (28, 97, 42), (87, 30, 8), (59, 84, 47), (5, 34, 28), (26, 77, 61), (90, 99, 87), (36, 37, 21), (43, 87, 17), (24, 40, 68), (4, 22, 87), (90, 96, 78), (35, 19, 87), (71, 37, 16), (50, 15, 43), (84, 69, 99), (54, 46, 93), (98, 77, 40), (37, 35, 88), (13, 66, 74), (70, 11, 53), (100, 95, 67), (62, 26, 22), (80, 17, 40), (28, 72, 12), (84, 7, 65), (12, 2, 88), (94, 32, 93), (75, 41, 2), (9, 58, 54), (56, 45, 35), (69, 8, 15), (13, 31, 71), (34, 17, 46), (5, 18, 86), (24, 97, 95), (95, 32, 2), (9, 65, 51), (8, 35, 17), (14, 52, 35), (71, 63, 41), (15, 73, 65), (36, 95, 56), (13, 87, 85), (27, 20, 100), (15, 19, 90), (83, 7, 82), (99, 74, 71), (63, 47, 78), (69, 58, 47), (86, 68, 78), (95, 43, 13), (93, 52, 37), (97, 58, 78)]\n"
     ]
    }
   ],
   "source": [
    "data_sets = [(A_5_4, C_5_4), (A_7_14, C_7_14), (A_10_20, C_10_20), (A_25_50, C_25_50), (A_50_100, C_50_100), (A_100_200, C_100_200)]\n",
    "\n",
    "for index, (A, C) in enumerate(data_sets, start=1):\n",
    "    print(\"------------------------------------------------------------------------------------------------\")\n",
    "    print(f\">>>{len(A)} elemenata {len(C)} trojki\")\n",
    "    print(\"---------------------------------\")\n",
    "    print(A)\n",
    "    print()\n",
    "    print(C)\n"
   ]
  },
  {
   "cell_type": "code",
   "execution_count": null,
   "id": "577a83c3-f212-4fca-9fee-5e3a4ebd0c89",
   "metadata": {},
   "outputs": [],
   "source": []
  },
  {
   "cell_type": "markdown",
   "id": "0a2a0019-f2ec-40f8-a4cf-2c9a750cd74f",
   "metadata": {},
   "source": [
    "# Ucitavanje algoritama"
   ]
  },
  {
   "cell_type": "code",
   "execution_count": 117,
   "id": "f463de6f-132e-4695-9084-04ae159ec059",
   "metadata": {},
   "outputs": [],
   "source": [
    "%run AllAlgorithms.ipynb"
   ]
  },
  {
   "cell_type": "markdown",
   "id": "5ea74c77-9118-44f9-a31b-70a603d88cb4",
   "metadata": {},
   "source": [
    "# Testiranje"
   ]
  },
  {
   "cell_type": "markdown",
   "id": "03958730-9bf8-4b78-a0a1-5a85b7d2a604",
   "metadata": {},
   "source": [
    "#### Brute-Force"
   ]
  },
  {
   "cell_type": "code",
   "execution_count": 89,
   "id": "514f91dc-7250-4366-86ff-a13469b6bf4a",
   "metadata": {},
   "outputs": [
    {
     "name": "stdout",
     "output_type": "stream",
     "text": [
      "----------------------------------\n",
      "|A| = 5 , |C| = 4\n",
      "Najbolje rešenje: 3\n",
      "Najbolji rezultat: [1, 4, 2, 5, 3]\n",
      "Vreme izvršavanja: 0.0 sekunde\n",
      "----------------------------------\n",
      "|A| = 7 , |C| = 14\n",
      "Najbolje rešenje: 10\n",
      "Najbolji rezultat: [2, 6, 1, 7, 5, 3, 4]\n",
      "Vreme izvršavanja: 0.039 sekunde\n"
     ]
    }
   ],
   "source": [
    "for (A,C) in data_sets_BF:\n",
    "    print(\"----------------------------------\")\n",
    "    print(f\"|A| = {len(A)} , |C| = {len(C)}\")\n",
    "    \n",
    "    start_time = time.time()\n",
    "    permutation, max_triplets = brute_force(A, C)\n",
    "    end_time = time.time()\n",
    "    execution_time = end_time - start_time \n",
    "    \n",
    "    print(\"Najbolje rešenje:\", permutation)\n",
    "    print(\"Najbolji rezultat:\", list(max_triplets))\n",
    "    print(\"Vreme izvršavanja:\", round(execution_time, 3), \"sekunde\")"
   ]
  },
  {
   "cell_type": "code",
   "execution_count": null,
   "id": "168a0c56-a365-4550-abe0-6951952b3162",
   "metadata": {},
   "outputs": [],
   "source": []
  },
  {
   "cell_type": "markdown",
   "id": "acadad4f-3565-4c0d-9020-971b5d33fa0e",
   "metadata": {},
   "source": [
    "#### Brute - Force BNB"
   ]
  },
  {
   "cell_type": "code",
   "execution_count": 88,
   "id": "a76d12ae-9109-4d08-a082-b3ebde794753",
   "metadata": {},
   "outputs": [
    {
     "name": "stdout",
     "output_type": "stream",
     "text": [
      "----------------------------------\n",
      "|A| = 5 , |C| = 4\n",
      "Najbolje rešenje: 3\n",
      "Najbolji rezultat: [1, 4, 2, 5, 3]\n",
      "Vreme izvršavanja: 0.001 sekunde\n",
      "----------------------------------\n",
      "|A| = 7 , |C| = 14\n",
      "Najbolje rešenje: 10\n",
      "Najbolji rezultat: [2, 6, 1, 7, 5, 3, 4]\n",
      "Vreme izvršavanja: 0.041 sekunde\n"
     ]
    }
   ],
   "source": [
    "for (A,C) in data_sets_BF:\n",
    "    print(\"----------------------------------\")\n",
    "    print(f\"|A| = {len(A)} , |C| = {len(C)}\")\n",
    "    \n",
    "    start_time = time.time()\n",
    "    permutation, max_triplets = brute_force_BNB(A, C)\n",
    "    end_time = time.time()\n",
    "    execution_time = end_time - start_time \n",
    "    \n",
    "    print(\"Najbolje rešenje:\", permutation)\n",
    "    print(\"Najbolji rezultat:\", list(max_triplets))\n",
    "    print(\"Vreme izvršavanja:\", round(execution_time, 3), \"sekunde\")"
   ]
  },
  {
   "cell_type": "markdown",
   "id": "c0e36b9c-7fec-4ceb-8981-b3a0ae0e69cd",
   "metadata": {},
   "source": [
    "#### Local search first improvement"
   ]
  },
  {
   "cell_type": "code",
   "execution_count": 80,
   "id": "9876b35d-fb4e-42ae-bb39-9b859dc8f183",
   "metadata": {},
   "outputs": [
    {
     "name": "stdout",
     "output_type": "stream",
     "text": [
      "----------------------------------\n",
      "|A| = 5 , |C| = 4\n",
      "Najbolje rešenje: [4, 5, 1, 3, 2]\n",
      "Najbolji rezultat: 2\n",
      "Vreme izvršavanja: 0.0 sekunde\n",
      "----------------------------------\n",
      "|A| = 7 , |C| = 14\n",
      "Najbolje rešenje: [1, 6, 7, 3, 5, 2, 4]\n",
      "Najbolji rezultat: 9\n",
      "Vreme izvršavanja: 0.0 sekunde\n",
      "----------------------------------\n",
      "|A| = 10 , |C| = 20\n",
      "Najbolje rešenje: [8, 1, 9, 10, 4, 6, 7, 2, 3, 5]\n",
      "Najbolji rezultat: 15\n",
      "Vreme izvršavanja: 0.002 sekunde\n",
      "----------------------------------\n",
      "|A| = 25 , |C| = 50\n",
      "Najbolje rešenje: [3, 8, 9, 1, 11, 22, 16, 14, 18, 5, 25, 24, 4, 13, 19, 10, 15, 21, 2, 23, 20, 12, 6, 17, 7]\n",
      "Najbolji rezultat: 36\n",
      "Vreme izvršavanja: 0.056 sekunde\n",
      "----------------------------------\n",
      "|A| = 50 , |C| = 100\n",
      "Najbolje rešenje: [50, 46, 26, 48, 12, 29, 8, 28, 16, 42, 5, 9, 3, 44, 30, 35, 6, 21, 31, 34, 38, 27, 14, 25, 2, 7, 19, 23, 36, 11, 13, 37, 20, 39, 49, 1, 45, 4, 43, 24, 15, 32, 22, 33, 10, 41, 47, 18, 17, 40]\n",
      "Najbolji rezultat: 71\n",
      "Vreme izvršavanja: 1.173 sekunde\n",
      "----------------------------------\n",
      "|A| = 100 , |C| = 200\n",
      "Najbolje rešenje: [52, 3, 61, 13, 77, 16, 57, 100, 36, 92, 66, 73, 48, 4, 54, 22, 69, 88, 80, 18, 46, 8, 95, 93, 53, 32, 91, 17, 25, 2, 37, 26, 89, 78, 20, 64, 55, 49, 76, 30, 87, 67, 96, 19, 68, 31, 11, 12, 21, 44, 58, 9, 50, 27, 5, 33, 62, 60, 94, 98, 10, 6, 82, 99, 56, 34, 47, 15, 42, 90, 79, 65, 41, 97, 45, 51, 23, 7, 14, 86, 84, 59, 39, 72, 38, 75, 74, 40, 35, 43, 81, 29, 28, 70, 85, 83, 1, 63, 71, 24]\n",
      "Najbolji rezultat: 157\n",
      "Vreme izvršavanja: 32.119 sekunde\n"
     ]
    }
   ],
   "source": [
    "for index, (A, C) in enumerate(data_sets, start=1):\n",
    "    print(\"----------------------------------\")\n",
    "    print(f\"|A| = {len(A)} , |C| = {len(C)}\")\n",
    "    \n",
    "    start_time = time.time()\n",
    "    permutation, max_triplets = local_search_first_improvement(A, C)\n",
    "    end_time = time.time()\n",
    "    execution_time = end_time - start_time \n",
    "    \n",
    "    print(\"Najbolje rešenje:\", permutation)\n",
    "    print(\"Najbolji rezultat:\", max_triplets)\n",
    "    print(\"Vreme izvršavanja:\", round(execution_time, 3), \"sekunde\")\n"
   ]
  },
  {
   "cell_type": "markdown",
   "id": "64b924c1-31ca-4dc3-9661-a2677a1c339f",
   "metadata": {},
   "source": [
    "#### Local search best improvement"
   ]
  },
  {
   "cell_type": "code",
   "execution_count": 79,
   "id": "a52b69d7-3d4f-4454-a732-9b1e443870d1",
   "metadata": {},
   "outputs": [
    {
     "name": "stdout",
     "output_type": "stream",
     "text": [
      "----------------------------------\n",
      "|A| = 5 , |C| = 4\n",
      "Najbolje rešenje: [4, 2, 5, 3, 1]\n",
      "Najbolji rezultat: 3\n",
      "Vreme izvršavanja: 0.0 sekunde\n",
      "----------------------------------\n",
      "|A| = 7 , |C| = 14\n",
      "Najbolje rešenje: [4, 3, 7, 1, 5, 6, 2]\n",
      "Najbolji rezultat: 8\n",
      "Vreme izvršavanja: 0.001 sekunde\n",
      "----------------------------------\n",
      "|A| = 10 , |C| = 20\n",
      "Najbolje rešenje: [8, 6, 9, 10, 7, 4, 2, 5, 3, 1]\n",
      "Najbolji rezultat: 17\n",
      "Vreme izvršavanja: 0.004 sekunde\n",
      "----------------------------------\n",
      "|A| = 25 , |C| = 50\n",
      "Najbolje rešenje: [15, 17, 21, 6, 8, 4, 7, 16, 12, 23, 22, 18, 24, 9, 14, 13, 3, 11, 2, 25, 20, 5, 19, 1, 10]\n",
      "Najbolji rezultat: 38\n",
      "Vreme izvršavanja: 0.104 sekunde\n",
      "----------------------------------\n",
      "|A| = 50 , |C| = 100\n",
      "Najbolje rešenje: [3, 32, 21, 19, 33, 17, 39, 4, 5, 24, 11, 26, 14, 23, 34, 31, 29, 1, 20, 9, 13, 36, 10, 49, 7, 15, 16, 6, 43, 37, 48, 22, 38, 47, 28, 25, 8, 2, 46, 45, 12, 35, 18, 50, 40, 30, 42, 41, 44, 27]\n",
      "Najbolji rezultat: 75\n",
      "Vreme izvršavanja: 1.624 sekunde\n",
      "----------------------------------\n",
      "|A| = 100 , |C| = 200\n",
      "Najbolje rešenje: [73, 92, 84, 43, 87, 22, 86, 69, 68, 76, 48, 38, 94, 30, 4, 75, 25, 26, 50, 40, 64, 44, 18, 21, 32, 54, 91, 46, 17, 13, 31, 82, 6, 56, 11, 61, 93, 41, 80, 78, 24, 88, 2, 58, 59, 67, 28, 60, 57, 66, 55, 10, 97, 51, 95, 100, 79, 99, 72, 74, 98, 85, 39, 12, 45, 96, 7, 8, 70, 49, 42, 34, 47, 81, 20, 27, 1, 65, 62, 16, 90, 63, 14, 3, 19, 29, 89, 52, 15, 77, 37, 71, 36, 83, 33, 9, 53, 5, 23, 35]\n",
      "Najbolji rezultat: 156\n",
      "Vreme izvršavanja: 48.443 sekunde\n"
     ]
    }
   ],
   "source": [
    "for index, (A, C) in enumerate(data_sets, start=1):\n",
    "    print(\"----------------------------------\")\n",
    "    print(f\"|A| = {len(A)} , |C| = {len(C)}\")\n",
    "    \n",
    "    start_time = time.time()\n",
    "    permutation, max_triplets = local_search_best_improvement(A, C)\n",
    "    end_time = time.time()\n",
    "    execution_time = end_time - start_time \n",
    "    \n",
    "    print(\"Najbolje rešenje:\", permutation)\n",
    "    print(\"Najbolji rezultat:\", max_triplets)\n",
    "    print(\"Vreme izvršavanja:\", round(execution_time, 3), \"sekunde\")\n"
   ]
  },
  {
   "cell_type": "markdown",
   "id": "4ac47297-b8d1-4b90-8591-e9db197c05ce",
   "metadata": {},
   "source": [
    "### Simultate annealing "
   ]
  },
  {
   "cell_type": "code",
   "execution_count": 110,
   "id": "7736a6d6-61e2-4976-886d-b4a51139a1d2",
   "metadata": {},
   "outputs": [
    {
     "name": "stdout",
     "output_type": "stream",
     "text": [
      "----------------------------------\n",
      "|A| = 5 , |C| = 4\n",
      "Najbolje rešenje: [4, 2, 5, 1, 3]\n",
      "Najbolji rezultat: 3\n",
      "Vreme izvršavanja: 0.009 sekunde\n",
      "----------------------------------\n",
      "|A| = 7 , |C| = 14\n",
      "Najbolje rešenje: [3, 1, 6, 7, 5, 2, 4]\n",
      "Najbolji rezultat: 10\n",
      "Vreme izvršavanja: 0.017 sekunde\n",
      "----------------------------------\n",
      "|A| = 10 , |C| = 20\n",
      "Najbolje rešenje: [4, 8, 6, 9, 10, 7, 2, 5, 1, 3]\n",
      "Najbolji rezultat: 16\n",
      "Vreme izvršavanja: 0.017 sekunde\n",
      "----------------------------------\n",
      "|A| = 25 , |C| = 50\n",
      "Najbolje rešenje: [2, 4, 7, 12, 3, 17, 16, 22, 9, 11, 13, 23, 15, 25, 18, 5, 19, 14, 21, 1, 24, 8, 10, 20, 6]\n",
      "Najbolji rezultat: 34\n",
      "Vreme izvršavanja: 0.039 sekunde\n",
      "----------------------------------\n",
      "|A| = 50 , |C| = 100\n",
      "Najbolje rešenje: [48, 35, 30, 46, 6, 10, 16, 20, 39, 3, 45, 21, 12, 11, 2, 7, 8, 19, 13, 18, 31, 43, 49, 37, 1, 27, 38, 28, 42, 34, 26, 50, 22, 25, 14, 36, 15, 23, 5, 9, 24, 29, 41, 4, 47, 17, 32, 40, 33, 44]\n",
      "Najbolji rezultat: 64\n",
      "Vreme izvršavanja: 0.097 sekunde\n",
      "----------------------------------\n",
      "|A| = 100 , |C| = 200\n",
      "Najbolje rešenje: [18, 71, 83, 28, 29, 34, 68, 65, 90, 62, 10, 69, 73, 66, 21, 87, 12, 24, 54, 38, 81, 51, 4, 86, 33, 6, 99, 76, 40, 85, 84, 13, 91, 94, 1, 97, 7, 70, 25, 19, 56, 45, 37, 96, 14, 27, 11, 79, 98, 63, 17, 46, 35, 2, 64, 55, 72, 50, 20, 67, 77, 74, 100, 52, 42, 9, 58, 82, 41, 3, 31, 57, 30, 92, 48, 93, 23, 5, 80, 59, 61, 8, 89, 36, 32, 39, 88, 47, 78, 60, 26, 15, 43, 22, 53, 44, 49, 16, 95, 75]\n",
      "Najbolji rezultat: 132\n",
      "Vreme izvršavanja: 0.333 sekunde\n"
     ]
    }
   ],
   "source": [
    "for index, (A, C) in enumerate(data_sets, start=1):\n",
    "    print(\"----------------------------------\")\n",
    "    print(f\"|A| = {len(A)} , |C| = {len(C)}\")\n",
    "    \n",
    "    start_time = time.time()\n",
    "    best_solution, best_score = simulated_annealing(A, C, initial_temperature=300,cooling_rate=0.99)\n",
    "    end_time = time.time()\n",
    "    execution_time = end_time - start_time \n",
    "    \n",
    "    print(\"Najbolje rešenje:\", best_solution)\n",
    "    print(\"Najbolji rezultat:\", best_score)\n",
    "    print(\"Vreme izvršavanja:\", round(execution_time, 3), \"sekunde\")\n"
   ]
  },
  {
   "cell_type": "markdown",
   "id": "7dfed298-90f1-4380-a3a2-80621d6968e2",
   "metadata": {},
   "source": [
    "#### geometric cooling"
   ]
  },
  {
   "cell_type": "code",
   "execution_count": 118,
   "id": "d5db22ea-2041-442d-a656-c5b0e5b6e856",
   "metadata": {},
   "outputs": [
    {
     "name": "stdout",
     "output_type": "stream",
     "text": [
      "----------------------------------\n",
      "|A| = 5 , |C| = 4\n",
      "Geometrijsko hlađenje - Najbolje rešenje: [1, 3, 5, 4, 2]\n",
      "Najbolji rezultat: 3\n",
      "Vreme izvršavanja: 0.011 sekunde\n",
      "----------------------------------\n",
      "|A| = 7 , |C| = 14\n",
      "Geometrijsko hlađenje - Najbolje rešenje: [3, 7, 1, 6, 5, 2, 4]\n",
      "Najbolji rezultat: 10\n",
      "Vreme izvršavanja: 0.018 sekunde\n",
      "----------------------------------\n",
      "|A| = 10 , |C| = 20\n",
      "Geometrijsko hlađenje - Najbolje rešenje: [8, 1, 9, 6, 10, 5, 7, 4, 2, 3]\n",
      "Najbolji rezultat: 16\n",
      "Vreme izvršavanja: 0.014 sekunde\n",
      "----------------------------------\n",
      "|A| = 25 , |C| = 50\n",
      "Geometrijsko hlađenje - Najbolje rešenje: [23, 10, 9, 1, 25, 13, 18, 15, 4, 11, 8, 22, 24, 16, 21, 2, 3, 6, 5, 17, 14, 12, 7, 19, 20]\n",
      "Najbolji rezultat: 35\n",
      "Vreme izvršavanja: 0.041 sekunde\n",
      "----------------------------------\n",
      "|A| = 50 , |C| = 100\n",
      "Geometrijsko hlađenje - Najbolje rešenje: [39, 27, 46, 41, 42, 32, 4, 15, 33, 29, 48, 40, 36, 17, 44, 28, 25, 23, 47, 6, 20, 21, 16, 35, 14, 45, 9, 8, 3, 13, 12, 10, 5, 43, 37, 49, 7, 19, 34, 1, 38, 18, 11, 31, 26, 30, 22, 2, 24, 50]\n",
      "Najbolji rezultat: 70\n",
      "Vreme izvršavanja: 0.099 sekunde\n",
      "----------------------------------\n",
      "|A| = 100 , |C| = 200\n",
      "Geometrijsko hlađenje - Najbolje rešenje: [16, 32, 38, 88, 9, 69, 25, 82, 91, 13, 87, 93, 65, 5, 6, 75, 63, 8, 61, 92, 68, 59, 35, 31, 49, 14, 41, 46, 51, 21, 76, 66, 43, 48, 96, 71, 44, 79, 45, 94, 10, 54, 80, 81, 17, 98, 100, 33, 3, 40, 42, 84, 62, 56, 58, 60, 52, 73, 29, 97, 34, 39, 24, 1, 28, 2, 47, 20, 74, 64, 70, 11, 95, 7, 18, 72, 99, 86, 55, 85, 67, 57, 15, 89, 53, 77, 37, 83, 36, 19, 30, 4, 12, 90, 78, 50, 23, 26, 27, 22]\n",
      "Najbolji rezultat: 139\n",
      "Vreme izvršavanja: 0.343 sekunde\n"
     ]
    }
   ],
   "source": [
    "for index, (A, C) in enumerate(data_sets, start=1):\n",
    "    print(\"----------------------------------\")\n",
    "    print(f\"|A| = {len(A)} , |C| = {len(C)}\")\n",
    "    \n",
    "    start_time = time.time()\n",
    "    best_solution, best_score = simulated_annealing_cooling_strategy(A, C, geometric_cooling, initial_temperature=300,cooling_rate=0.99)\n",
    "    end_time = time.time()\n",
    "    execution_time = end_time - start_time \n",
    "    \n",
    "    print(\"Geometrijsko hlađenje - Najbolje rešenje:\", best_solution)\n",
    "    print(\"Najbolji rezultat:\", best_score)\n",
    "    print(\"Vreme izvršavanja:\", round(execution_time, 3), \"sekunde\")\n"
   ]
  },
  {
   "cell_type": "markdown",
   "id": "d5692138-cdc8-4a4a-aac3-38b75a74d2b1",
   "metadata": {},
   "source": [
    "#### SQRT hladjenje"
   ]
  },
  {
   "cell_type": "code",
   "execution_count": 121,
   "id": "98821e45-941d-4c01-8350-230683d5961c",
   "metadata": {},
   "outputs": [
    {
     "name": "stdout",
     "output_type": "stream",
     "text": [
      "----------------------------------\n",
      "|A| = 5 , |C| = 4\n",
      "SQRT hlađenje - Najbolje rešenje: [4, 2, 5, 1, 3]\n",
      "Najbolji rezultat: 3\n",
      "Vreme izvršavanja: 0.078 sekunde\n",
      "----------------------------------\n",
      "|A| = 7 , |C| = 14\n",
      "SQRT hlađenje - Najbolje rešenje: [3, 1, 7, 6, 5, 2, 4]\n",
      "Najbolji rezultat: 10\n",
      "Vreme izvršavanja: 0.087 sekunde\n",
      "----------------------------------\n",
      "|A| = 10 , |C| = 20\n",
      "SQRT hlađenje - Najbolje rešenje: [4, 8, 6, 9, 10, 5, 7, 2, 3, 1]\n",
      "Najbolji rezultat: 16\n",
      "Vreme izvršavanja: 0.126 sekunde\n",
      "----------------------------------\n",
      "|A| = 25 , |C| = 50\n",
      "SQRT hlađenje - Najbolje rešenje: [5, 4, 1, 24, 8, 20, 14, 6, 2, 25, 22, 18, 21, 11, 7, 13, 12, 17, 19, 23, 15, 16, 9, 3, 10]\n",
      "Najbolji rezultat: 35\n",
      "Vreme izvršavanja: 0.343 sekunde\n",
      "----------------------------------\n",
      "|A| = 50 , |C| = 100\n",
      "SQRT hlađenje - Najbolje rešenje: [23, 10, 4, 31, 43, 24, 20, 7, 34, 22, 13, 19, 25, 5, 27, 47, 44, 29, 9, 14, 2, 38, 6, 26, 11, 45, 49, 16, 35, 48, 1, 41, 21, 39, 28, 3, 8, 17, 36, 37, 32, 18, 30, 12, 50, 46, 42, 33, 15, 40]\n",
      "Najbolji rezultat: 63\n",
      "Vreme izvršavanja: 1.036 sekunde\n",
      "----------------------------------\n",
      "|A| = 100 , |C| = 200\n",
      "SQRT hlađenje - Najbolje rešenje: [75, 8, 51, 16, 92, 86, 29, 35, 91, 79, 100, 95, 47, 4, 11, 3, 48, 59, 90, 23, 52, 14, 36, 13, 42, 41, 70, 62, 67, 10, 84, 40, 7, 20, 69, 65, 25, 46, 31, 73, 26, 18, 22, 77, 32, 57, 68, 17, 27, 94, 45, 97, 28, 63, 96, 64, 49, 54, 99, 82, 83, 85, 56, 34, 88, 66, 72, 78, 74, 1, 38, 37, 6, 98, 93, 24, 80, 39, 81, 19, 2, 30, 53, 71, 76, 50, 5, 61, 87, 15, 58, 33, 21, 12, 89, 60, 43, 9, 55, 44]\n",
      "Najbolji rezultat: 128\n",
      "Vreme izvršavanja: 3.522 sekunde\n"
     ]
    }
   ],
   "source": [
    "for index, (A, C) in enumerate(data_sets, start=1):\n",
    "    print(\"----------------------------------\")\n",
    "    print(f\"|A| = {len(A)} , |C| = {len(C)}\")\n",
    "    \n",
    "    start_time = time.time()\n",
    "    best_solution, best_score = simulated_annealing_cooling_strategy(A, C, sqrt_cooling, initial_temperature=100,cooling_rate=0.999, max_iterations=10000)\n",
    "    end_time = time.time()\n",
    "    execution_time = end_time - start_time \n",
    "    \n",
    "    print(\"SQRT hlađenje - Najbolje rešenje:\", best_solution)\n",
    "    print(\"Najbolji rezultat:\", best_score)\n",
    "    print(\"Vreme izvršavanja:\", round(execution_time, 3), \"sekunde\")\n"
   ]
  },
  {
   "cell_type": "markdown",
   "id": "5376901c-8a22-46cd-95f0-ac26c087ec34",
   "metadata": {},
   "source": [
    "#### Logaritamsko hladjenje"
   ]
  },
  {
   "cell_type": "code",
   "execution_count": 124,
   "id": "26c63898-98c5-49d7-a7d2-5a3bf5665a72",
   "metadata": {},
   "outputs": [
    {
     "name": "stdout",
     "output_type": "stream",
     "text": [
      "----------------------------------\n",
      "|A| = 5 , |C| = 4\n",
      "Logaritamsko hlađenje - Najbolje rešenje: [3, 1, 5, 2, 4]\n",
      "Najbolji rezultat: 3\n",
      "Vreme izvršavanja: 0.076 sekunde\n",
      "----------------------------------\n",
      "|A| = 7 , |C| = 14\n",
      "Logaritamsko hlađenje - Najbolje rešenje: [3, 1, 6, 7, 5, 2, 4]\n",
      "Najbolji rezultat: 10\n",
      "Vreme izvršavanja: 0.093 sekunde\n",
      "----------------------------------\n",
      "|A| = 10 , |C| = 20\n",
      "Logaritamsko hlađenje - Najbolje rešenje: [8, 6, 5, 10, 9, 7, 4, 2, 3, 1]\n",
      "Najbolji rezultat: 16\n",
      "Vreme izvršavanja: 0.128 sekunde\n",
      "----------------------------------\n",
      "|A| = 25 , |C| = 50\n",
      "Logaritamsko hlađenje - Najbolje rešenje: [17, 6, 25, 7, 16, 22, 8, 19, 4, 10, 23, 24, 2, 18, 20, 21, 11, 14, 5, 3, 13, 9, 12, 1, 15]\n",
      "Najbolji rezultat: 31\n",
      "Vreme izvršavanja: 0.336 sekunde\n",
      "----------------------------------\n",
      "|A| = 50 , |C| = 100\n",
      "Logaritamsko hlađenje - Najbolje rešenje: [26, 30, 39, 7, 47, 33, 9, 48, 19, 32, 17, 4, 11, 25, 14, 37, 18, 34, 49, 3, 40, 43, 35, 15, 20, 50, 38, 12, 44, 1, 36, 28, 27, 16, 5, 21, 22, 24, 42, 13, 8, 2, 41, 46, 10, 29, 6, 31, 45, 23]\n",
      "Najbolji rezultat: 53\n",
      "Vreme izvršavanja: 1.046 sekunde\n",
      "----------------------------------\n",
      "|A| = 100 , |C| = 200\n",
      "Logaritamsko hlađenje - Najbolje rešenje: [49, 81, 2, 63, 16, 93, 9, 5, 79, 42, 70, 14, 92, 46, 44, 89, 99, 60, 98, 64, 96, 80, 71, 31, 62, 67, 8, 73, 74, 17, 69, 58, 97, 66, 11, 90, 39, 47, 35, 25, 6, 21, 84, 41, 1, 26, 86, 48, 51, 68, 38, 83, 28, 34, 91, 4, 45, 43, 20, 52, 85, 37, 19, 95, 29, 57, 72, 30, 24, 12, 7, 78, 18, 23, 36, 3, 77, 54, 13, 10, 53, 33, 87, 75, 40, 15, 55, 22, 94, 56, 88, 100, 65, 50, 27, 61, 32, 59, 82, 76]\n",
      "Najbolji rezultat: 92\n",
      "Vreme izvršavanja: 3.368 sekunde\n"
     ]
    }
   ],
   "source": [
    "for index, (A, C) in enumerate(data_sets, start=1):\n",
    "    print(\"----------------------------------\")\n",
    "    print(f\"|A| = {len(A)} , |C| = {len(C)}\")\n",
    "    \n",
    "    start_time = time.time()\n",
    "    best_solution, best_score = simulated_annealing_cooling_strategy(A, C, log_cooling, initial_temperature=100,cooling_rate=1, max_iterations=10000)\n",
    "    end_time = time.time()\n",
    "    execution_time = end_time - start_time \n",
    "    \n",
    "    print(\"Logaritamsko hlađenje - Najbolje rešenje:\", best_solution)\n",
    "    print(\"Najbolji rezultat:\", best_score)\n",
    "    print(\"Vreme izvršavanja:\", round(execution_time, 3), \"sekunde\")\n"
   ]
  },
  {
   "cell_type": "markdown",
   "id": "13989bc5-94a0-4bd2-9e4f-616d476d0e09",
   "metadata": {},
   "source": [
    "#### Adaptive"
   ]
  },
  {
   "cell_type": "code",
   "execution_count": 128,
   "id": "e1980a52-57f6-4774-8961-121232476e1a",
   "metadata": {},
   "outputs": [
    {
     "name": "stdout",
     "output_type": "stream",
     "text": [
      "----------------------------------\n",
      "|A| = 5 , |C| = 4\n",
      "Najbolje rešenje: [4, 5, 1, 3, 2]\n",
      "Najbolji rezultat: 2\n",
      "Vreme izvršavanja: 0.013 sekunde\n",
      "----------------------------------\n",
      "|A| = 7 , |C| = 14\n",
      "Najbolje rešenje: [2, 6, 7, 3, 5, 1, 4]\n",
      "Najbolji rezultat: 5\n",
      "Vreme izvršavanja: 0.016 sekunde\n",
      "----------------------------------\n",
      "|A| = 10 , |C| = 20\n",
      "Najbolje rešenje: [5, 10, 9, 3, 8, 2, 1, 6, 7, 4]\n",
      "Najbolji rezultat: 3\n",
      "Vreme izvršavanja: 0.022 sekunde\n",
      "----------------------------------\n",
      "|A| = 25 , |C| = 50\n",
      "Najbolje rešenje: [5, 20, 8, 17, 3, 25, 6, 19, 14, 16, 2, 21, 22, 15, 9, 23, 12, 13, 24, 7, 18, 10, 1, 4, 11]\n",
      "Najbolji rezultat: 18\n",
      "Vreme izvršavanja: 0.042 sekunde\n",
      "----------------------------------\n",
      "|A| = 50 , |C| = 100\n",
      "Najbolje rešenje: [15, 39, 31, 27, 40, 11, 29, 4, 18, 8, 16, 7, 50, 25, 6, 49, 10, 48, 34, 5, 2, 14, 42, 13, 47, 41, 24, 38, 45, 37, 26, 43, 22, 30, 36, 19, 1, 46, 9, 28, 32, 35, 12, 21, 3, 44, 33, 17, 23, 20]\n",
      "Najbolji rezultat: 30\n",
      "Vreme izvršavanja: 0.096 sekunde\n",
      "----------------------------------\n",
      "|A| = 100 , |C| = 200\n",
      "Najbolje rešenje: [75, 78, 22, 64, 48, 11, 69, 37, 56, 15, 54, 68, 57, 80, 35, 100, 85, 41, 94, 96, 45, 29, 43, 31, 97, 33, 44, 61, 52, 23, 12, 47, 76, 93, 32, 53, 13, 65, 46, 59, 40, 66, 63, 42, 9, 71, 98, 5, 39, 49, 70, 73, 91, 55, 34, 67, 8, 28, 83, 84, 92, 14, 26, 20, 24, 81, 30, 4, 82, 21, 16, 72, 50, 77, 27, 36, 95, 2, 74, 86, 58, 19, 38, 79, 88, 1, 6, 89, 99, 10, 17, 51, 90, 3, 25, 87, 62, 18, 60, 7]\n",
      "Najbolji rezultat: 54\n",
      "Vreme izvršavanja: 0.334 sekunde\n"
     ]
    }
   ],
   "source": [
    "for index, (A, C) in enumerate(data_sets, start=1):\n",
    "    print(\"----------------------------------\")\n",
    "    print(f\"|A| = {len(A)} , |C| = {len(C)}\")\n",
    "    \n",
    "    start_time = time.time()\n",
    "    best_solution, best_score = simulated_annealing_adaptive(A, C)\n",
    "    end_time = time.time()\n",
    "    execution_time = end_time - start_time \n",
    "    \n",
    "    print(\"Najbolje rešenje:\", best_solution)\n",
    "    print(\"Najbolji rezultat:\", best_score)\n",
    "    print(\"Vreme izvršavanja:\", round(execution_time, 3), \"sekunde\")\n"
   ]
  },
  {
   "cell_type": "markdown",
   "id": "886a92ac-37ad-4583-8961-24f3cb773569",
   "metadata": {},
   "source": [
    "### Genetic algorithm"
   ]
  },
  {
   "cell_type": "code",
   "execution_count": 73,
   "id": "40656767-085a-48c6-ab21-e4febd6737bc",
   "metadata": {},
   "outputs": [
    {
     "name": "stdout",
     "output_type": "stream",
     "text": [
      "----------------------------------\n",
      "|A| = 5 , |C| = 4\n",
      "Najbolje rešenje: [2, 4, 5, 3, 1]\n",
      "Najbolji rezultat: 3\n",
      "Vreme izvršavanja: 0.429 sekunde\n",
      "----------------------------------\n",
      "|A| = 7 , |C| = 14\n",
      "Najbolje rešenje: [4, 2, 5, 6, 7, 1, 3]\n",
      "Najbolji rezultat: 10\n",
      "Vreme izvršavanja: 0.772 sekunde\n",
      "----------------------------------\n",
      "|A| = 10 , |C| = 20\n",
      "Najbolje rešenje: [1, 3, 2, 7, 5, 9, 6, 4, 10, 8]\n",
      "Najbolji rezultat: 16\n",
      "Vreme izvršavanja: 1.134 sekunde\n",
      "----------------------------------\n",
      "|A| = 25 , |C| = 50\n",
      "Najbolje rešenje: [23, 10, 1, 16, 2, 14, 8, 25, 22, 9, 20, 21, 17, 11, 24, 13, 15, 4, 12, 19, 18, 3, 7, 5, 6]\n",
      "Najbolji rezultat: 27\n",
      "Vreme izvršavanja: 3.61 sekunde\n",
      "----------------------------------\n",
      "|A| = 50 , |C| = 100\n",
      "Najbolje rešenje: [39, 45, 25, 29, 21, 41, 14, 4, 50, 35, 3, 2, 22, 26, 5, 20, 42, 47, 9, 32, 40, 46, 33, 49, 13, 17, 30, 38, 28, 15, 24, 18, 44, 27, 10, 6, 34, 19, 48, 1, 7, 36, 37, 11, 8, 16, 23, 12, 43, 31]\n",
      "Najbolji rezultat: 47\n",
      "Vreme izvršavanja: 11.525 sekunde\n",
      "----------------------------------\n",
      "|A| = 100 , |C| = 200\n",
      "Najbolje rešenje: [36, 49, 27, 64, 50, 90, 59, 40, 93, 31, 72, 12, 5, 21, 39, 9, 78, 42, 14, 29, 62, 99, 85, 86, 32, 54, 34, 89, 56, 48, 43, 2, 30, 17, 15, 80, 68, 35, 45, 37, 57, 53, 51, 52, 91, 38, 10, 23, 41, 24, 74, 33, 92, 94, 58, 97, 46, 47, 81, 88, 20, 83, 4, 96, 75, 76, 60, 73, 71, 18, 8, 100, 66, 26, 79, 67, 28, 6, 13, 70, 11, 55, 69, 61, 77, 7, 44, 25, 98, 19, 63, 1, 22, 95, 84, 3, 16, 87, 65, 82]\n",
      "Najbolji rezultat: 84\n",
      "Vreme izvršavanja: 39.341 sekunde\n"
     ]
    }
   ],
   "source": [
    "for index, (A, C) in enumerate(data_sets, start=1):\n",
    "    print(\"----------------------------------\")\n",
    "    print(f\"|A| = {len(A)} , |C| = {len(C)}\")\n",
    "    \n",
    "    start_time = time.time()\n",
    "    best_solution, best_score = genetic_algorithm(A, C)\n",
    "    end_time = time.time()\n",
    "    execution_time = end_time - start_time \n",
    "    \n",
    "    print(\"Najbolje rešenje:\", best_solution)\n",
    "    print(\"Najbolji rezultat:\", best_score)\n",
    "    print(\"Vreme izvršavanja:\", round(execution_time, 3), \"sekunde\")\n"
   ]
  },
  {
   "cell_type": "code",
   "execution_count": null,
   "id": "eb8732ba-7e42-4dd6-80ce-24f2ce8912d2",
   "metadata": {},
   "outputs": [],
   "source": []
  },
  {
   "cell_type": "code",
   "execution_count": null,
   "id": "1cdd85b0-3e46-4a12-9270-b046a8239a41",
   "metadata": {},
   "outputs": [],
   "source": []
  },
  {
   "cell_type": "code",
   "execution_count": null,
   "id": "9d5d69aa-7680-423c-b707-49549161297e",
   "metadata": {},
   "outputs": [],
   "source": []
  },
  {
   "cell_type": "code",
   "execution_count": null,
   "id": "6e1bd22d-dc7e-4320-9feb-ab5b6b1f0287",
   "metadata": {},
   "outputs": [],
   "source": []
  },
  {
   "cell_type": "code",
   "execution_count": null,
   "id": "bdb7ef08-d799-451c-b276-8193968de57e",
   "metadata": {},
   "outputs": [],
   "source": []
  }
 ],
 "metadata": {
  "kernelspec": {
   "display_name": "Python 3 (ipykernel)",
   "language": "python",
   "name": "python3"
  },
  "language_info": {
   "codemirror_mode": {
    "name": "ipython",
    "version": 3
   },
   "file_extension": ".py",
   "mimetype": "text/x-python",
   "name": "python",
   "nbconvert_exporter": "python",
   "pygments_lexer": "ipython3",
   "version": "3.10.12"
  }
 },
 "nbformat": 4,
 "nbformat_minor": 5
}
