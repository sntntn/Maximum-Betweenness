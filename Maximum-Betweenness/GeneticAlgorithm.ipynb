{
 "cells": [
  {
   "cell_type": "markdown",
   "id": "bdb87915-92b9-4671-8b48-5c2fe65848e4",
   "metadata": {},
   "source": [
    "# Genetic Algorithm"
   ]
  },
  {
   "cell_type": "code",
   "execution_count": 1,
   "id": "4a862fbd-84b2-4189-8ff0-45e893a9f986",
   "metadata": {},
   "outputs": [],
   "source": [
    "import random\n",
    "\n",
    "def initial_population(A, population_size):\n",
    "    return [random.sample(A, len(A)) for _ in range(population_size)]\n",
    "\n",
    "def count_triplets(solution, C):\n",
    "    count = 0\n",
    "    for (a, b, c) in C:\n",
    "        index_a = solution.index(a)\n",
    "        index_b = solution.index(b)\n",
    "        index_c = solution.index(c)\n",
    "        if (index_a < index_b < index_c) or (index_c < index_b < index_a):\n",
    "            count += 1\n",
    "    return count\n",
    "\n",
    "def crossover(parent1, parent2):\n",
    "    crossover_point = random.randint(1, len(parent1) - 1)\n",
    "    child1 = parent1[:crossover_point] + [gene for gene in parent2 if gene not in parent1[:crossover_point]]\n",
    "    child2 = parent2[:crossover_point] + [gene for gene in parent1 if gene not in parent2[:crossover_point]]\n",
    "    return child1, child2\n",
    "\n",
    "# mutacija nam je zamena 2 slucajno odabrana elementa\n",
    "def mutation(solution, mutation_rate):\n",
    "    if random.random() < mutation_rate:\n",
    "        i, j = random.sample(range(len(solution)), 2)\n",
    "        solution[i], solution[j] = solution[j], solution[i]\n",
    "    return solution\n",
    "\n",
    "def genetic_algorithm_max_betweenness(A, C, population_size=100, generations=1000, crossover_rate=0.8, mutation_rate=0.2):\n",
    "    population = initial_population(A, population_size)\n",
    "    \n",
    "    for generation in range(generations):\n",
    "        # Evaluacija populacije\n",
    "        scores = [count_triplets(solution, C) for solution in population]\n",
    "        \n",
    "        # Selekcija roditelja\n",
    "        selected_parents = random.choices(population, weights=scores, k=population_size)\n",
    "        \n",
    "        # Ukrstanje\n",
    "        new_population = []\n",
    "        for i in range(0, population_size, 2):\n",
    "            if random.random() < crossover_rate:\n",
    "                child1, child2 = crossover(selected_parents[i], selected_parents[i+1])\n",
    "                new_population.extend([child1, child2])\n",
    "            else:\n",
    "                new_population.extend([selected_parents[i], selected_parents[i+1]])\n",
    "        \n",
    "        # Mutacija\n",
    "        mutated_population = [mutation(solution, mutation_rate) for solution in new_population]\n",
    "        \n",
    "        population = mutated_population\n",
    "    \n",
    "    # Evaluacija konacne populacije\n",
    "    scores = [count_triplets(solution, C) for solution in population]\n",
    "    \n",
    "    best_solution_index = scores.index(max(scores))\n",
    "    best_solution = population[best_solution_index]\n",
    "    best_score = scores[best_solution_index]\n",
    "    \n",
    "    return best_solution, best_score"
   ]
  },
  {
   "cell_type": "code",
   "execution_count": 9,
   "id": "6115db00-f885-4494-a892-ca095b519d53",
   "metadata": {},
   "outputs": [
    {
     "name": "stdout",
     "output_type": "stream",
     "text": [
      "Najbolje rešenje: [4, 3, 13, 7, 15, 12, 10, 6, 14, 5, 11, 8, 2, 9, 1]\n",
      "Broj trojki koje zadovoljavaju uslove: 3\n"
     ]
    }
   ],
   "source": [
    "# Primer koriscenja\n",
    "A = list(range(1, 16))\n",
    "C = [(2, 1, 3), (2, 1, 4), (1, 2, 4), (4, 2, 1), (1, 2, 3)]\n",
    "solution, score = genetic_algorithm_max_betweenness(A, C)\n",
    "print(\"Najbolje rešenje:\", solution)\n",
    "print(\"Broj trojki koje zadovoljavaju uslove:\", score)\n"
   ]
  },
  {
   "cell_type": "code",
   "execution_count": null,
   "id": "fa9f7186-345d-43fc-a5f7-4d99dd810c50",
   "metadata": {},
   "outputs": [],
   "source": []
  },
  {
   "cell_type": "code",
   "execution_count": 7,
   "id": "3a7880c9-2b72-4b90-a1fb-8e65699ab94a",
   "metadata": {},
   "outputs": [
    {
     "name": "stdout",
     "output_type": "stream",
     "text": [
      "Najbolje rešenje: [4, 6, 5, 2, 1, 7, 3]\n",
      "Broj trojki koje zadovoljavaju uslove: 10\n"
     ]
    }
   ],
   "source": [
    "# Skup A sa 7 elemenata\n",
    "A = [1, 2, 3, 4, 5, 6, 7]\n",
    "\n",
    "# Kolekcija C sa 14 trojki\n",
    "C = [\n",
    "    (2, 1, 3), (2, 1, 4), (1, 2, 4), (4, 2, 1), (1, 2, 3),\n",
    "    (3, 2, 4), (1, 4, 2), (5, 2, 3), (3, 1, 5), (4, 5, 2),\n",
    "    (6, 3, 2), (4, 6, 1), (7, 2, 6), (3, 7, 1)\n",
    "]\n",
    "\n",
    "\n",
    "solution, score = genetic_algorithm_max_betweenness(A, C)\n",
    "print(\"Najbolje rešenje:\", solution)\n",
    "print(\"Broj trojki koje zadovoljavaju uslove:\", score)\n"
   ]
  },
  {
   "cell_type": "code",
   "execution_count": null,
   "id": "6c98227b-561e-4e91-b6db-5456c3d05ed2",
   "metadata": {},
   "outputs": [],
   "source": [
    "# Generisanje skupa A sa 100 elemenata\n",
    "A = list(range(1, 101))\n",
    "C = [(random.choice(A), random.choice(A), random.choice(A)) for _ in range(200)]\n",
    "\n",
    "solution, score = genetic_algorithm_max_betweenness(A, C)\n",
    "print(\"Najbolje rešenje:\", solution)\n",
    "print(\"Broj trojki koje zadovoljavaju uslove:\", score)\n"
   ]
  },
  {
   "cell_type": "code",
   "execution_count": null,
   "id": "916e6037-c3ee-4f1a-a609-20cf87d408cf",
   "metadata": {},
   "outputs": [],
   "source": []
  }
 ],
 "metadata": {
  "kernelspec": {
   "display_name": "Python 3 (ipykernel)",
   "language": "python",
   "name": "python3"
  },
  "language_info": {
   "codemirror_mode": {
    "name": "ipython",
    "version": 3
   },
   "file_extension": ".py",
   "mimetype": "text/x-python",
   "name": "python",
   "nbconvert_exporter": "python",
   "pygments_lexer": "ipython3",
   "version": "3.10.12"
  }
 },
 "nbformat": 4,
 "nbformat_minor": 5
}
