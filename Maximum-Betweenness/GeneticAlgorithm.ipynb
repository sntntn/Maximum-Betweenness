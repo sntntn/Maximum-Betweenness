{
 "cells": [
  {
   "cell_type": "markdown",
   "id": "bdb87915-92b9-4671-8b48-5c2fe65848e4",
   "metadata": {},
   "source": [
    "# Genetic Algorithm"
   ]
  },
  {
   "cell_type": "code",
   "execution_count": 1,
   "id": "4a862fbd-84b2-4189-8ff0-45e893a9f986",
   "metadata": {},
   "outputs": [],
   "source": [
    "import random\n",
    "\n",
    "def initial_population(A, population_size):\n",
    "    return [random.sample(A, len(A)) for _ in range(population_size)]\n",
    "\n",
    "def count_triplets(solution, C):\n",
    "    count = 0\n",
    "    for (a, b, c) in C:\n",
    "        index_a = solution.index(a)\n",
    "        index_b = solution.index(b)\n",
    "        index_c = solution.index(c)\n",
    "        if (index_a < index_b < index_c) or (index_c < index_b < index_a):\n",
    "            count += 1\n",
    "    return count\n",
    "\n",
    "def crossover(parent1, parent2):\n",
    "    crossover_point = random.randint(1, len(parent1) - 1)\n",
    "                                        # da bi osigurali da nema ponavljanja brojeva\n",
    "    child1 = parent1[:crossover_point] + [gene for gene in parent2 if gene not in parent1[:crossover_point]]\n",
    "    child2 = parent2[:crossover_point] + [gene for gene in parent1 if gene not in parent2[:crossover_point]]\n",
    "    return child1, child2\n",
    "\n",
    "# mutacija nam je zamena 2 slucajno odabrana elementa\n",
    "def mutation(solution, mutation_rate):\n",
    "    if random.random() < mutation_rate:\n",
    "        i, j = random.sample(range(len(solution)), 2)\n",
    "        solution[i], solution[j] = solution[j], solution[i]\n",
    "    return solution\n",
    "\n",
    "def genetic_algorithm_max_betweenness(A, C, population_size=100, generations=1000, crossover_rate=0.8, mutation_rate=0.2):\n",
    "    population = initial_population(A, population_size)\n",
    "    \n",
    "    for generation in range(generations):\n",
    "        # Evaluacija populacije\n",
    "        scores = [count_triplets(solution, C) for solution in population]\n",
    "        \n",
    "        # Selekcija roditelja\n",
    "        selected_parents = random.choices(population, weights=scores, k=population_size)\n",
    "        \n",
    "        # Ukrstanje\n",
    "        new_population = []\n",
    "        for i in range(0, population_size, 2):\n",
    "            if random.random() < crossover_rate:\n",
    "                child1, child2 = crossover(selected_parents[i], selected_parents[i+1])\n",
    "                new_population.extend([child1, child2])\n",
    "            else:\n",
    "                new_population.extend([selected_parents[i], selected_parents[i+1]])\n",
    "        \n",
    "        # Mutacija\n",
    "        mutated_population = [mutation(solution, mutation_rate) for solution in new_population]\n",
    "        \n",
    "        population = mutated_population\n",
    "    \n",
    "    # Evaluacija konacne populacije\n",
    "    scores = [count_triplets(solution, C) for solution in population]\n",
    "    \n",
    "    best_solution_index = scores.index(max(scores))\n",
    "    best_solution = population[best_solution_index]\n",
    "    best_score = scores[best_solution_index]\n",
    "    \n",
    "    return best_solution, best_score"
   ]
  },
  {
   "cell_type": "code",
   "execution_count": null,
   "id": "fa9f7186-345d-43fc-a5f7-4d99dd810c50",
   "metadata": {},
   "outputs": [],
   "source": []
  },
  {
   "cell_type": "code",
   "execution_count": 7,
   "id": "3a7880c9-2b72-4b90-a1fb-8e65699ab94a",
   "metadata": {},
   "outputs": [
    {
     "name": "stdout",
     "output_type": "stream",
     "text": [
      "Najbolje rešenje: [4, 6, 5, 2, 1, 7, 3]\n",
      "Broj trojki koje zadovoljavaju uslove: 10\n"
     ]
    }
   ],
   "source": [
    "# Skup A sa 7 elemenata\n",
    "A = [1, 2, 3, 4, 5, 6, 7]\n",
    "\n",
    "# Kolekcija C sa 14 trojki\n",
    "C = [\n",
    "    (2, 1, 3), (2, 1, 4), (1, 2, 4), (4, 2, 1), (1, 2, 3),\n",
    "    (3, 2, 4), (1, 4, 2), (5, 2, 3), (3, 1, 5), (4, 5, 2),\n",
    "    (6, 3, 2), (4, 6, 1), (7, 2, 6), (3, 7, 1)\n",
    "]\n",
    "\n",
    "\n",
    "solution, score = genetic_algorithm_max_betweenness(A, C)\n",
    "print(\"Najbolje rešenje:\", solution)\n",
    "print(\"Broj trojki koje zadovoljavaju uslove:\", score)\n"
   ]
  },
  {
   "cell_type": "code",
   "execution_count": 4,
   "id": "67865c27-19c2-4b54-84d0-ee7cf24e3f9d",
   "metadata": {},
   "outputs": [],
   "source": [
    "# Generisanje skupa A sa 100 elemenata\n",
    "A = list(range(1, 101))\n",
    "C = [(random.choice(A), random.choice(A), random.choice(A)) for _ in range(200)]"
   ]
  },
  {
   "cell_type": "code",
   "execution_count": 10,
   "id": "fd4d9a77-22a7-43b6-8efb-1a08f53e1de6",
   "metadata": {},
   "outputs": [],
   "source": [
    "A = [1, 2, 3, 4, 5, 6, 7, 8, 9, 10, 11, 12, 13, 14, 15, 16, 17, 18, 19, 20, 21, 22, 23, 24, 25, 26, 27, 28, 29, 30, 31, 32, 33, 34, 35, 36, 37, 38, 39, 40, 41, 42, 43, 44, 45, 46, 47, 48, 49, 50, 51, 52, 53, 54, 55, 56, 57, 58, 59, 60, 61, 62, 63, 64, 65, 66, 67, 68, 69, 70, 71, 72, 73, 74, 75, 76, 77, 78, 79, 80, 81, 82, 83, 84, 85, 86, 87, 88, 89, 90, 91, 92, 93, 94, 95, 96, 97, 98, 99, 100]\n",
    "C = [(60, 2, 24), (60, 61, 23), (54, 10, 11), (15, 76, 23), (89, 39, 69), (75, 20, 90), (52, 56, 94), (72, 28, 69), (72, 4, 14), (15, 44, 91), (5, 76, 95), (19, 4, 61), (52, 66, 44), (71, 27, 62), (58, 3, 90), (34, 79, 96), (20, 73, 67), (55, 82, 52), (62, 90, 90), (89, 38, 21), (13, 94, 2), (74, 55, 41), (72, 15, 83), (21, 70, 94), (25, 66, 23), (29, 20, 96), (3, 54, 88), (1, 54, 6), (44, 13, 34), (13, 61, 69), (31, 72, 58), (38, 66, 65), (34, 73, 1), (21, 13, 29), (100, 78, 65), (20, 37, 54), (44, 23, 42), (49, 34, 45), (41, 7, 34), (39, 14, 69), (38, 63, 15), (79, 38, 44), (30, 62, 15), (66, 69, 80), (5, 72, 99), (78, 1, 69), (71, 30, 88), (31, 84, 10), (13, 47, 16), (77, 91, 55), (15, 7, 37), (17, 63, 32), (61, 32, 47), (30, 7, 35), (51, 34, 78), (20, 22, 93), (44, 8, 63), (4, 84, 9), (20, 12, 35), (85, 38, 58), (7, 51, 92), (36, 25, 58), (37, 25, 63), (17, 17, 9), (1, 70, 84), (15, 35, 19), (84, 67, 32), (9, 49, 85), (81, 91, 99), (78, 1, 10), (85, 71, 5), (85, 31, 48), (90, 49, 69), (28, 24, 58), (18, 79, 39), (52, 70, 7), (28, 61, 76), (54, 77, 78), (85, 72, 49), (62, 62, 85), (65, 40, 17), (92, 5, 23), (55, 65, 82), (69, 52, 81), (91, 21, 54), (33, 90, 100), (80, 93, 84), (51, 51, 52), (21, 99, 96), (47, 57, 40), (94, 40, 67), (38, 99, 41), (96, 37, 58), (30, 44, 49), (59, 98, 61), (8, 25, 53), (39, 32, 76), (70, 64, 56), (14, 68, 81), (37, 16, 53), (34, 52, 58), (33, 76, 27), (45, 32, 42), (91, 13, 8), (96, 76, 66), (39, 59, 96), (64, 59, 63), (78, 12, 73), (18, 35, 12), (20, 90, 86), (21, 28, 46), (94, 63, 70), (13, 97, 71), (61, 96, 88), (76, 30, 87), (37, 43, 24), (77, 6, 66), (7, 2, 82), (67, 24, 78), (8, 56, 87), (76, 46, 52), (38, 37, 24), (95, 6, 68), (16, 31, 50), (48, 34, 45), (49, 51, 91), (15, 70, 91), (76, 34, 44), (31, 61, 24), (82, 37, 49), (61, 85, 74), (27, 34, 23), (37, 90, 58), (19, 78, 25), (8, 58, 72), (74, 91, 19), (52, 69, 86), (29, 89, 24), (62, 83, 21), (48, 23, 42), (16, 46, 25), (35, 54, 96), (2, 84, 12), (1, 69, 12), (83, 8, 47), (11, 94, 93), (53, 97, 4), (19, 45, 69), (91, 74, 79), (72, 92, 36), (54, 34, 3), (17, 40, 66), (63, 89, 92), (35, 26, 69), (77, 60, 37), (93, 74, 28), (49, 91, 55), (50, 1, 49), (80, 28, 90), (15, 56, 83), (7, 43, 83), (74, 91, 26), (11, 46, 7), (28, 86, 81), (2, 50, 81), (65, 47, 8), (56, 44, 6), (87, 71, 43), (82, 27, 77), (63, 40, 2), (12, 20, 75), (2, 60, 47), (1, 38, 23), (1, 13, 17), (7, 86, 1), (92, 91, 25), (100, 35, 5), (24, 17, 8), (38, 77, 56), (22, 5, 58), (9, 89, 73), (81, 100, 91), (93, 45, 28), (80, 77, 15), (61, 74, 59), (46, 88, 72), (43, 14, 44), (94, 36, 59), (16, 41, 25), (84, 33, 14), (4, 58, 7), (82, 97, 1), (75, 35, 20), (38, 26, 9), (7, 68, 20), (20, 91, 59), (80, 31, 8), (9, 75, 74), (4, 71, 100), (37, 32, 79)]"
   ]
  },
  {
   "cell_type": "code",
   "execution_count": 12,
   "id": "6c98227b-561e-4e91-b6db-5456c3d05ed2",
   "metadata": {},
   "outputs": [
    {
     "name": "stdout",
     "output_type": "stream",
     "text": [
      "Najbolje rešenje: [15, 27, 83, 60, 95, 48, 67, 92, 98, 75, 42, 9, 56, 84, 18, 49, 17, 81, 24, 11, 59, 10, 25, 21, 20, 76, 13, 100, 34, 55, 16, 12, 22, 50, 90, 33, 72, 78, 5, 61, 4, 32, 41, 45, 30, 35, 89, 19, 80, 73, 3, 28, 57, 86, 52, 96, 82, 44, 65, 51, 64, 47, 77, 40, 70, 69, 2, 36, 68, 43, 94, 1, 99, 14, 26, 38, 54, 31, 79, 6, 58, 97, 66, 7, 74, 23, 62, 85, 63, 87, 88, 37, 71, 93, 53, 46, 91, 8, 39, 29]\n",
      "Broj trojki koje zadovoljavaju uslove: 91\n"
     ]
    }
   ],
   "source": [
    "solution, score = genetic_algorithm_max_betweenness(A, C)\n",
    "print(\"Najbolje rešenje:\", solution)\n",
    "print(\"Broj trojki koje zadovoljavaju uslove:\", score)\n"
   ]
  },
  {
   "cell_type": "code",
   "execution_count": null,
   "id": "916e6037-c3ee-4f1a-a609-20cf87d408cf",
   "metadata": {},
   "outputs": [],
   "source": []
  }
 ],
 "metadata": {
  "kernelspec": {
   "display_name": "Python 3 (ipykernel)",
   "language": "python",
   "name": "python3"
  },
  "language_info": {
   "codemirror_mode": {
    "name": "ipython",
    "version": 3
   },
   "file_extension": ".py",
   "mimetype": "text/x-python",
   "name": "python",
   "nbconvert_exporter": "python",
   "pygments_lexer": "ipython3",
   "version": "3.10.12"
  }
 },
 "nbformat": 4,
 "nbformat_minor": 5
}
