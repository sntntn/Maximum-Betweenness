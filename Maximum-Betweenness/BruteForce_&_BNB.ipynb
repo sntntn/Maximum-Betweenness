{
 "cells": [
  {
   "cell_type": "code",
   "execution_count": null,
   "id": "06989b12-f943-49c4-95cf-52e8855d6d20",
   "metadata": {},
   "outputs": [],
   "source": []
  },
  {
   "cell_type": "markdown",
   "id": "ce914543-3fde-4a7e-9821-2448f59b39b9",
   "metadata": {},
   "source": [
    "# \"MAXIMUM BETWEENNESS\", \n",
    "Problem \"MAXIMUM BETWEENNESS\" je NP-težak problem sa kojim ću se u ovom projektu boriti korišćenjem sirovih tehnika optimizacije\n",
    "(kao što su metaheuristike, evolucionarni algoritmi, ili druge tehnike optimizacije).\n",
    "\n",
    "Zadatak glasi:\n",
    "\n",
    "Imamo skup A i kolekciju C uređenih trojki (a, b, c) različitih elemenata iz A. \n",
    "Cilj je pronaći jednoznačnu funkciju f koja preslikava elemente iz A u opseg od 1 do veličine skupa A, tako da se maksimalizuje broj trojki u kojima se poštuje određeni redosled (f(a)<f(b)<f(c) ili f(c)<f(b)<f(a)).\n",
    "\n",
    "U nastavku ću da razvijem optimizacione metode, kao što su genetski algoritmi, simulirano kaljenje, ili lokalnu pretragu.\n",
    "(Važno je da osiguram da moje metode mogu rukovati velikim skupovima podataka i da daju dobre rezultate).\n",
    "\n",
    "Brute-force algoritam treba da mi obezbedi uporednu analizu optimizacionih metoda. \n",
    "On bi trebalo da bude u stanju da efikasno obrađuje male instance problema i da daje optimalna rešenja kako bi se mogla proveriti ispravnost optimizacionih pristupa.\n"
   ]
  },
  {
   "cell_type": "markdown",
   "id": "f94329b5-2861-4364-96ce-8f28cb6d0602",
   "metadata": {},
   "source": [
    "Napravio sam sve permutacije naseg skupa A i smestio ih u \"permutations_f\"\n",
    "\n",
    "Tražim najbolju permutaciju \"perm\" iz skupa svih permutacija \"permutations_f\".\n",
    "Funkciju opisujem preko rečnika \"f\", koji ce redom moje elemente iz skupa A, slikati u našu permutaciju \"perm\".\n",
    "\n",
    "C nam je skup zadatih trojki za koje tražimo najbolju funkciju\n",
    "Najbolja funkcija je ona koja ima najviše f(a)<f(b)<f(c) ili f(c)<f(b)<f(a).\n",
    "Tako da mi zelimo da naša funkcija ima rečnik sa najboljom permutacijom"
   ]
  },
  {
   "cell_type": "markdown",
   "id": "a9b1a622-3946-425c-b010-a3a96a0506c2",
   "metadata": {},
   "source": [
    "# Gruba sila"
   ]
  },
  {
   "cell_type": "code",
   "execution_count": 1,
   "id": "68e1a723-fb70-4268-b6ca-98b5579faaf2",
   "metadata": {},
   "outputs": [],
   "source": [
    "from itertools import permutations\n",
    "\n",
    "def brute_force_max_betweenness(A, C):\n",
    "    max_betweenness = 0\n",
    "\n",
    "    # sve moguce funkcije preslikavanja f (predstavljene kao permutacije)\n",
    "    permutations_f = permutations(A)\n",
    "\n",
    "    brojac_iteracija=0\n",
    "    for perm in permutations_f:\n",
    "        # nasa trenutna funkcija f koju proveravamo -> ona nam pokazuje u sta se slika svaki element iz naseg skupa A\n",
    "        f = dict(zip(A, perm))\n",
    "        # print(f)\n",
    "\n",
    "        # ovo nam broji koliko je dobra nasa funkcija f  \n",
    "        current_betweenness = 0\n",
    "        # proveramo za svaku trojku iz skupa C\n",
    "        for (a, b, c) in C:\n",
    "            brojac_iteracija += 1\n",
    "            if (f[a] < f[b] < f[c]) or (f[c] < f[b] < f[a]):\n",
    "                current_betweenness += 1\n",
    "                \n",
    "        if(current_betweenness > max_betweenness):\n",
    "            max_betweenness = current_betweenness\n",
    "            max_f = f\n",
    "    \n",
    "\n",
    "    print('broj koraka u petlji: ',brojac_iteracija)\n",
    "    print(\"Nasa permutacija: \", max_f.values())\n",
    "    return max_betweenness\n"
   ]
  },
  {
   "cell_type": "code",
   "execution_count": 2,
   "id": "7f143fa1-c0c2-49cd-a2ac-2c4ba1ef3ae8",
   "metadata": {},
   "outputs": [
    {
     "name": "stdout",
     "output_type": "stream",
     "text": [
      "broj koraka u petlji:  72\n",
      "Nasa permutacija:  dict_values([1, 2, 3, 4])\n",
      "Maksimalan broj trojki: 3\n"
     ]
    }
   ],
   "source": [
    "A = [1, 2, 3, 4]\n",
    "C = [(1, 2, 3), (2, 3, 4), (1, 3, 4)]\n",
    "\n",
    "max_triplets = brute_force_max_betweenness(A, C)\n",
    "print(\"Maksimalan broj trojki:\", max_triplets)"
   ]
  },
  {
   "cell_type": "code",
   "execution_count": 3,
   "id": "d9117ccf-f7a3-4d21-8182-b05fb6e626b6",
   "metadata": {},
   "outputs": [
    {
     "name": "stdout",
     "output_type": "stream",
     "text": [
      "broj koraka u petlji:  168\n",
      "Nasa permutacija:  dict_values([2, 3, 1, 4])\n",
      "Maksimalan broj trojki: 4\n"
     ]
    }
   ],
   "source": [
    "A = [1, 2, 3, 4]\n",
    "C = [( 2, 1, 3), (2, 1, 4), (1, 2, 4), (4, 2, 1), (1, 2, 3), (3, 2, 4), (1, 4, 2)]\n",
    "\n",
    "max_triplets = brute_force_max_betweenness(A, C)\n",
    "print(\"Maksimalan broj trojki:\", max_triplets)"
   ]
  },
  {
   "cell_type": "code",
   "execution_count": null,
   "id": "0205e6ed-413d-4420-9adf-5ff634624ccf",
   "metadata": {},
   "outputs": [],
   "source": []
  },
  {
   "cell_type": "markdown",
   "id": "02c404a1-f191-4668-a793-a25a56cb0333",
   "metadata": {},
   "source": [
    "# BNB"
   ]
  },
  {
   "cell_type": "code",
   "execution_count": 4,
   "id": "34c192a6-732c-46b3-b927-388356d9ed9f",
   "metadata": {},
   "outputs": [],
   "source": [
    "from itertools import permutations\n",
    "\n",
    "def brute_force_max_betweenness_BNB(A, C):\n",
    "    max_betweenness = 0\n",
    "    C_size = len(C)\n",
    "\n",
    "    permutations_f = permutations(A)\n",
    "\n",
    "    brojac_iteracija=0\n",
    "    for perm in permutations_f:\n",
    "        f = dict(zip(A, perm))\n",
    "\n",
    "        current_betweenness = 0\n",
    "        i=0\n",
    "        for (a, b, c) in C:\n",
    "            i += 1\n",
    "            brojac_iteracija += 1\n",
    "            if (f[a] < f[b] < f[c]) or (f[c] < f[b] < f[a]):\n",
    "                current_betweenness += 1\n",
    "            ostatak = C_size - i  \n",
    "            if (current_betweenness + ostatak <= max_betweenness):\n",
    "                    break\n",
    "\n",
    "        if(current_betweenness > max_betweenness):\n",
    "            max_betweenness = current_betweenness\n",
    "            max_f = f\n",
    "    \n",
    "        \n",
    "    \n",
    "    print('broj koraka u petlji: ',brojac_iteracija)\n",
    "    print(\"Nasa permutacija: \", max_f.values())\n",
    "\n",
    "    return max_betweenness\n"
   ]
  },
  {
   "cell_type": "markdown",
   "id": "e9b2b81f-5aa2-4185-9775-1752432e2b21",
   "metadata": {},
   "source": [
    "### Primeri poredjenja\n",
    "\n",
    "#### primer 1"
   ]
  },
  {
   "cell_type": "code",
   "execution_count": 5,
   "id": "998c8488-13bc-4dff-878f-6239f5118b69",
   "metadata": {},
   "outputs": [],
   "source": [
    "A = [1, 2, 3, 4]\n",
    "C = [(1, 2, 3), (2, 3, 4), (1, 3, 4)]"
   ]
  },
  {
   "cell_type": "markdown",
   "id": "5c7bd733-eeab-4c66-ae8e-fe73f8b38ba5",
   "metadata": {},
   "source": [
    "-----------> Brute force"
   ]
  },
  {
   "cell_type": "code",
   "execution_count": 6,
   "id": "09a0b3ab-1c0f-4e05-a5e6-4514be00ad5a",
   "metadata": {},
   "outputs": [
    {
     "name": "stdout",
     "output_type": "stream",
     "text": [
      "broj koraka u petlji:  72\n",
      "Nasa permutacija:  dict_values([1, 2, 3, 4])\n",
      "Maksimalan broj trojki: 3\n"
     ]
    }
   ],
   "source": [
    "max_triplets = brute_force_max_betweenness(A, C)\n",
    "print(\"Maksimalan broj trojki:\", max_triplets)"
   ]
  },
  {
   "cell_type": "markdown",
   "id": "7df62210-1eff-47d3-992a-2d0b7fd1f71d",
   "metadata": {},
   "source": [
    "-----------> BNB"
   ]
  },
  {
   "cell_type": "code",
   "execution_count": 7,
   "id": "31a292bf-7b60-4fd0-81e1-5cbd83c6b486",
   "metadata": {},
   "outputs": [
    {
     "name": "stdout",
     "output_type": "stream",
     "text": [
      "broj koraka u petlji:  26\n",
      "Nasa permutacija:  dict_values([1, 2, 3, 4])\n",
      "Maksimalan broj trojki: 3\n"
     ]
    }
   ],
   "source": [
    "max_triplets = brute_force_max_betweenness_BNB(A, C)\n",
    "print(\"Maksimalan broj trojki:\", max_triplets)"
   ]
  },
  {
   "cell_type": "markdown",
   "id": "889c8f0b-38ac-4775-941a-7bfbf5a0a5c5",
   "metadata": {},
   "source": [
    "#### primer 2"
   ]
  },
  {
   "cell_type": "code",
   "execution_count": 8,
   "id": "d9fdd6ab-f749-478d-bc34-6ea10a36be2c",
   "metadata": {},
   "outputs": [],
   "source": [
    "A = [1, 2, 3, 4]\n",
    "C = [( 2, 1, 3), (2, 1, 4), (1, 2, 4), (4, 2, 1), (1, 2, 3), (3, 2, 4), (1, 4, 2)]"
   ]
  },
  {
   "cell_type": "markdown",
   "id": "0247e327-076d-4e20-8b0d-a8e9982f18ff",
   "metadata": {},
   "source": [
    "-----------> Brute force"
   ]
  },
  {
   "cell_type": "code",
   "execution_count": 9,
   "id": "c9189ec1-1fe6-432a-beab-104492984a33",
   "metadata": {},
   "outputs": [
    {
     "name": "stdout",
     "output_type": "stream",
     "text": [
      "broj koraka u petlji:  168\n",
      "Nasa permutacija:  dict_values([2, 3, 1, 4])\n",
      "Maksimalan broj trojki: 4\n"
     ]
    }
   ],
   "source": [
    "max_triplets = brute_force_max_betweenness(A, C)\n",
    "print(\"Maksimalan broj trojki:\", max_triplets)"
   ]
  },
  {
   "cell_type": "markdown",
   "id": "f5c7e725-4858-42f7-8866-8ac07fcb125c",
   "metadata": {},
   "source": [
    "-----------> BNB"
   ]
  },
  {
   "cell_type": "code",
   "execution_count": 10,
   "id": "53e2b805-ab29-4e9c-8b92-bbfb40d172fd",
   "metadata": {},
   "outputs": [
    {
     "name": "stdout",
     "output_type": "stream",
     "text": [
      "broj koraka u petlji:  119\n",
      "Nasa permutacija:  dict_values([2, 3, 1, 4])\n",
      "Maksimalan broj trojki: 4\n"
     ]
    }
   ],
   "source": [
    "max_triplets = brute_force_max_betweenness_BNB(A, C)\n",
    "print(\"Maksimalan broj trojki:\", max_triplets)"
   ]
  },
  {
   "cell_type": "markdown",
   "id": "8adc2971-6950-4990-9525-eb10c9311e26",
   "metadata": {},
   "source": [
    "#### primer 3"
   ]
  },
  {
   "cell_type": "code",
   "execution_count": 11,
   "id": "de9df31b-6666-49c1-90a8-c3b0d09d5d93",
   "metadata": {},
   "outputs": [],
   "source": [
    "# Skup A sa 5 elementa\n",
    "A = [1, 2, 3, 4, 5]\n",
    "\n",
    "# Kolekcija C sa 10 trojki\n",
    "C = [\n",
    "    (2, 1, 3), (2, 1, 4), (1, 2, 4), (4, 2, 1), (1, 2, 3),\n",
    "    (3, 2, 4), (1, 4, 2), (5, 2, 3), (3, 1, 5), (4, 5, 2)\n",
    "]"
   ]
  },
  {
   "cell_type": "markdown",
   "id": "b09b1aa3-55d8-426b-bec5-c20eabb68b68",
   "metadata": {},
   "source": [
    "-----------> Brute force"
   ]
  },
  {
   "cell_type": "code",
   "execution_count": 12,
   "id": "98099e1a-172e-49ec-a945-5e13948fc81c",
   "metadata": {
    "scrolled": true
   },
   "outputs": [
    {
     "name": "stdout",
     "output_type": "stream",
     "text": [
      "broj koraka u petlji:  1200\n",
      "Nasa permutacija:  dict_values([2, 3, 1, 5, 4])\n",
      "Maksimalan broj trojki: 7\n"
     ]
    }
   ],
   "source": [
    "max_triplets = brute_force_max_betweenness(A, C)\n",
    "print(\"Maksimalan broj trojki:\", max_triplets)"
   ]
  },
  {
   "cell_type": "markdown",
   "id": "10ed0bac-bb86-4428-9b86-c9a94ec471a6",
   "metadata": {},
   "source": [
    "-----------> BNB"
   ]
  },
  {
   "cell_type": "code",
   "execution_count": 13,
   "id": "ad1c165a-fad8-423a-a2fd-4d7f61a19207",
   "metadata": {
    "scrolled": true
   },
   "outputs": [
    {
     "name": "stdout",
     "output_type": "stream",
     "text": [
      "broj koraka u petlji:  648\n",
      "Nasa permutacija:  dict_values([2, 3, 1, 5, 4])\n",
      "Maksimalan broj trojki: 7\n"
     ]
    }
   ],
   "source": [
    "max_triplets = brute_force_max_betweenness_BNB(A, C)\n",
    "print(\"Maksimalan broj trojki:\", max_triplets)"
   ]
  },
  {
   "cell_type": "markdown",
   "id": "e904ee67-9c8d-4fcf-8087-3a1f028c0dc0",
   "metadata": {},
   "source": [
    "#### primer 4"
   ]
  },
  {
   "cell_type": "code",
   "execution_count": 14,
   "id": "13f8a3c2-5ca3-4997-ae2e-9236e362e3ab",
   "metadata": {},
   "outputs": [],
   "source": [
    "# Skup A sa 6 elemenata\n",
    "A = [1, 2, 3, 4, 5, 6]\n",
    "\n",
    "# Kolekcija C sa 12 trojki\n",
    "C = [\n",
    "    (2, 1, 3), (2, 1, 4), (1, 2, 4), (4, 2, 1), (1, 2, 3),\n",
    "    (3, 2, 4), (1, 4, 2), (5, 2, 3), (3, 1, 5), (4, 5, 2),\n",
    "    (6, 3, 2), (4, 6, 1)\n",
    "]"
   ]
  },
  {
   "cell_type": "code",
   "execution_count": 15,
   "id": "4ac7b994-d7df-4b4d-8cfd-bc187c9990bd",
   "metadata": {},
   "outputs": [
    {
     "name": "stdout",
     "output_type": "stream",
     "text": [
      "broj koraka u petlji:  8640\n",
      "Nasa permutacija:  dict_values([2, 3, 1, 6, 4, 5])\n",
      "Maksimalan broj trojki: 8\n"
     ]
    }
   ],
   "source": [
    "max_triplets = brute_force_max_betweenness(A, C)\n",
    "print(\"Maksimalan broj trojki:\", max_triplets)"
   ]
  },
  {
   "cell_type": "code",
   "execution_count": 16,
   "id": "04db5949-95b5-4c1c-9e2d-ce933c816aac",
   "metadata": {},
   "outputs": [
    {
     "name": "stdout",
     "output_type": "stream",
     "text": [
      "broj koraka u petlji:  4580\n",
      "Nasa permutacija:  dict_values([2, 3, 1, 6, 4, 5])\n",
      "Maksimalan broj trojki: 8\n"
     ]
    }
   ],
   "source": [
    "max_triplets = brute_force_max_betweenness_BNB(A, C)\n",
    "print(\"Maksimalan broj trojki:\", max_triplets)"
   ]
  },
  {
   "cell_type": "markdown",
   "id": "14290bca-5eb0-4bfd-8864-e43ad1cc7846",
   "metadata": {},
   "source": [
    "#### primer 5"
   ]
  },
  {
   "cell_type": "code",
   "execution_count": 17,
   "id": "59dca4ea-91b2-427a-a277-e4cbc70d0510",
   "metadata": {},
   "outputs": [],
   "source": [
    "# Skup A sa 7 elemenata\n",
    "A = [1, 2, 3, 4, 5, 6, 7]\n",
    "\n",
    "# Kolekcija C sa 14 trojki\n",
    "C = [\n",
    "    (2, 1, 3), (2, 1, 4), (1, 2, 4), (4, 2, 1), (1, 2, 3),\n",
    "    (3, 2, 4), (1, 4, 2), (5, 2, 3), (3, 1, 5), (4, 5, 2),\n",
    "    (6, 3, 2), (4, 6, 1), (7, 2, 6), (3, 7, 1)\n",
    "]"
   ]
  },
  {
   "cell_type": "code",
   "execution_count": 18,
   "id": "9563c9d3-d5ed-4b74-881c-01283a05afab",
   "metadata": {},
   "outputs": [
    {
     "name": "stdout",
     "output_type": "stream",
     "text": [
      "broj koraka u petlji:  70560\n",
      "Nasa permutacija:  dict_values([3, 4, 1, 7, 5, 6, 2])\n",
      "Maksimalan broj trojki: 10\n"
     ]
    }
   ],
   "source": [
    "max_triplets = brute_force_max_betweenness(A, C)\n",
    "print(\"Maksimalan broj trojki:\", max_triplets)"
   ]
  },
  {
   "cell_type": "code",
   "execution_count": 19,
   "id": "0bbd9e7b-3326-4586-9917-64ee147d730d",
   "metadata": {},
   "outputs": [
    {
     "name": "stdout",
     "output_type": "stream",
     "text": [
      "broj koraka u petlji:  34043\n",
      "Nasa permutacija:  dict_values([3, 4, 1, 7, 5, 6, 2])\n",
      "Maksimalan broj trojki: 10\n"
     ]
    }
   ],
   "source": [
    "max_triplets = brute_force_max_betweenness_BNB(A, C)\n",
    "print(\"Maksimalan broj trojki:\", max_triplets)"
   ]
  },
  {
   "cell_type": "markdown",
   "id": "a3b8ffb5-0f67-49ba-8af7-7d198a6a1c82",
   "metadata": {},
   "source": [
    "#### primer 6"
   ]
  },
  {
   "cell_type": "code",
   "execution_count": 20,
   "id": "b6414e9c-3f54-43e2-9b1a-84c0b6f04cf9",
   "metadata": {},
   "outputs": [],
   "source": [
    "# Skup A sa 8 elemenata\n",
    "A = [1, 2, 3, 4, 5, 6, 7, 8]\n",
    "\n",
    "# Kolekcija C sa 16 trojki\n",
    "C = [\n",
    "    (2, 1, 3), (2, 1, 4), (1, 2, 4), (4, 2, 1), (1, 2, 3),\n",
    "    (3, 2, 4), (1, 4, 2), (5, 2, 3), (3, 1, 5), (4, 5, 2),\n",
    "    (6, 3, 2), (4, 6, 1), (7, 2, 6), (3, 7, 1), (8, 1, 2),\n",
    "    (2, 3, 8)\n",
    "]"
   ]
  },
  {
   "cell_type": "code",
   "execution_count": 21,
   "id": "3436862e-f78f-4cdc-a304-17c01da0dd89",
   "metadata": {},
   "outputs": [
    {
     "name": "stdout",
     "output_type": "stream",
     "text": [
      "broj koraka u petlji:  645120\n",
      "Nasa permutacija:  dict_values([4, 5, 2, 8, 6, 7, 3, 1])\n",
      "Maksimalan broj trojki: 12\n"
     ]
    }
   ],
   "source": [
    "max_triplets = brute_force_max_betweenness(A, C)\n",
    "print(\"Maksimalan broj trojki:\", max_triplets)"
   ]
  },
  {
   "cell_type": "code",
   "execution_count": 22,
   "id": "f2405d0f-f974-4c83-926f-7f07ec54171f",
   "metadata": {},
   "outputs": [
    {
     "name": "stdout",
     "output_type": "stream",
     "text": [
      "broj koraka u petlji:  294475\n",
      "Nasa permutacija:  dict_values([4, 5, 2, 8, 6, 7, 3, 1])\n",
      "Maksimalan broj trojki: 12\n"
     ]
    }
   ],
   "source": [
    "max_triplets = brute_force_max_betweenness_BNB(A, C)\n",
    "print(\"Maksimalan broj trojki:\", max_triplets)"
   ]
  },
  {
   "cell_type": "markdown",
   "id": "a4b05a38-1968-4785-ad2c-d2757f1e69de",
   "metadata": {},
   "source": [
    "#### primer 7"
   ]
  },
  {
   "cell_type": "code",
   "execution_count": 23,
   "id": "2e54fae8-4323-4e02-974d-ea52dae9fd03",
   "metadata": {},
   "outputs": [],
   "source": [
    "# Skup A sa 9 elemenata\n",
    "A = [1, 2, 3, 4, 5, 6, 7, 8, 9]\n",
    "\n",
    "# Kolekcija C sa 18 trojki\n",
    "C = [\n",
    "    (2, 1, 3), (2, 1, 4), (1, 2, 4), (4, 2, 1), (1, 2, 3),\n",
    "    (3, 2, 4), (1, 4, 2), (5, 2, 3), (3, 1, 5), (4, 5, 2),\n",
    "    (6, 3, 2), (4, 6, 1), (7, 2, 6), (3, 7, 1), (8, 1, 2),\n",
    "    (2, 3, 8), (9, 2, 1), (1, 9, 3)\n",
    "]"
   ]
  },
  {
   "cell_type": "code",
   "execution_count": 24,
   "id": "bbc02726-b02c-432a-8e9f-643cc188c3eb",
   "metadata": {},
   "outputs": [
    {
     "name": "stdout",
     "output_type": "stream",
     "text": [
      "broj koraka u petlji:  6531840\n",
      "Nasa permutacija:  dict_values([4, 5, 2, 8, 6, 7, 3, 1, 9])\n",
      "Maksimalan broj trojki: 13\n"
     ]
    }
   ],
   "source": [
    "max_triplets = brute_force_max_betweenness(A, C)\n",
    "print(\"Maksimalan broj trojki:\", max_triplets)"
   ]
  },
  {
   "cell_type": "code",
   "execution_count": 25,
   "id": "71335dd7-92f2-428d-923f-8569852a9b44",
   "metadata": {},
   "outputs": [
    {
     "name": "stdout",
     "output_type": "stream",
     "text": [
      "broj koraka u petlji:  3000353\n",
      "Nasa permutacija:  dict_values([4, 5, 2, 8, 6, 7, 3, 1, 9])\n",
      "Maksimalan broj trojki: 13\n"
     ]
    }
   ],
   "source": [
    "max_triplets = brute_force_max_betweenness_BNB(A, C)\n",
    "print(\"Maksimalan broj trojki:\", max_triplets)"
   ]
  },
  {
   "cell_type": "markdown",
   "id": "1e6e384a-352d-4a4f-9768-a1637062ebcc",
   "metadata": {},
   "source": [
    "----------------------------------------------------------------------------------------"
   ]
  },
  {
   "cell_type": "markdown",
   "id": "5b5dbd3b-4bcf-4e84-943b-d9e6a513a8f8",
   "metadata": {},
   "source": [
    "Zakljucak: \n",
    "\n",
    "kada bi skup A presao 10 elemenata, i kolekcija C presla 20 trojki, nas algoritam grube sile bi postao prespor, i prakticno neupotrebljiv"
   ]
  },
  {
   "cell_type": "code",
   "execution_count": null,
   "id": "07eafdaf-a20d-4d2a-b397-c5860bd8df9a",
   "metadata": {},
   "outputs": [],
   "source": []
  },
  {
   "cell_type": "code",
   "execution_count": null,
   "id": "fc0cffb7-43f4-471a-b52f-5411a96d5d8b",
   "metadata": {},
   "outputs": [],
   "source": []
  }
 ],
 "metadata": {
  "kernelspec": {
   "display_name": "Python 3 (ipykernel)",
   "language": "python",
   "name": "python3"
  },
  "language_info": {
   "codemirror_mode": {
    "name": "ipython",
    "version": 3
   },
   "file_extension": ".py",
   "mimetype": "text/x-python",
   "name": "python",
   "nbconvert_exporter": "python",
   "pygments_lexer": "ipython3",
   "version": "3.10.12"
  }
 },
 "nbformat": 4,
 "nbformat_minor": 5
}
