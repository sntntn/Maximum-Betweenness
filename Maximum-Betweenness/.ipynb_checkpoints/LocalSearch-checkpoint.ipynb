{
 "cells": [
  {
   "cell_type": "markdown",
   "id": "62083b81-9120-4c09-82f5-fe969b4a687b",
   "metadata": {},
   "source": [
    "# Local Search"
   ]
  },
  {
   "cell_type": "code",
   "execution_count": 16,
   "id": "fc11e90d-0688-432e-a069-858ac122d42b",
   "metadata": {},
   "outputs": [],
   "source": [
    "import random\n",
    "\n",
    "def initial_solution(A):\n",
    "    return random.sample(A, len(A))\n",
    "\n",
    "# Generisanje okoline promenom redosleda elemenata\n",
    "def neighborhood(solution):\n",
    "    for i in range(len(solution)):\n",
    "        for j in range(i+1, len(solution)):\n",
    "            neighbor = solution[:]   #kopija\n",
    "            neighbor[i], neighbor[j] = neighbor[j], neighbor[i]\n",
    "            yield neighbor\n",
    "            # da ne bi vracali listu permutacija, vracamo jednu po jednu\n",
    "\n",
    "# broj trojki koje zadovoljavaju uslov za datu permutaciju solutions\n",
    "def count_triplets(solution, C):\n",
    "    count = 0\n",
    "    for (a, b, c) in C:\n",
    "        index_a = solution.index(a)\n",
    "        index_b = solution.index(b)\n",
    "        index_c = solution.index(c)\n",
    "        if (index_a < index_b < index_c) or (index_c < index_b < index_a):\n",
    "            count += 1\n",
    "    return count\n",
    "\n",
    "def local_search_max_betweenness(A, C, max_iterations=1000):\n",
    "    current_solution = initial_solution(A)\n",
    "    current_score = count_triplets(current_solution, C)\n",
    "    \n",
    "    for _ in range(max_iterations):\n",
    "        for neighbor in neighborhood(current_solution):\n",
    "            neighbor_score = count_triplets(neighbor, C)\n",
    "            if neighbor_score > current_score:\n",
    "                current_solution = neighbor\n",
    "                current_score = neighbor_score\n",
    "                break  # cim naletimo na prvo bolje resenje\n",
    "        \n",
    "        if current_score == len(C):\n",
    "            break  # nemoguce je naci bolje resenje od maksimalnog broja trojki\n",
    "\n",
    "        #mozemo ubaciti jos neki kriterijum za izlazak (npr ako se dva puta ponovi isto resenje bez napretka)\n",
    "    \n",
    "    return current_solution, current_score"
   ]
  },
  {
   "cell_type": "code",
   "execution_count": null,
   "id": "8a471f4f-1659-479c-9997-c276a38aa569",
   "metadata": {},
   "outputs": [],
   "source": []
  },
  {
   "cell_type": "markdown",
   "id": "865d7847-5303-4376-988b-e6604a3f99a8",
   "metadata": {},
   "source": [
    "### Primeri koriscenja"
   ]
  },
  {
   "cell_type": "code",
   "execution_count": 14,
   "id": "5a5f5343-c822-46b2-8d41-8e9a7b575136",
   "metadata": {},
   "outputs": [],
   "source": [
    "A = [1, 2, 3, 4, 5]\n",
    "C = [(2, 1, 3), (2, 1, 4), (1, 2, 4), (4, 2, 1), (1, 2, 3)]"
   ]
  },
  {
   "cell_type": "code",
   "execution_count": 13,
   "id": "9abfa63d-bf63-4d4d-8e41-583e927dbd28",
   "metadata": {},
   "outputs": [
    {
     "name": "stdout",
     "output_type": "stream",
     "text": [
      "Najbolje rešenje: [4, 5, 2, 1, 3]\n",
      "Broj trojki koje zadovoljavaju uslove: 3\n"
     ]
    }
   ],
   "source": [
    "solution, score = local_search_max_betweenness(A, C)\n",
    "print(\"Najbolje rešenje:\", solution)\n",
    "print(\"Broj trojki koje zadovoljavaju uslove:\", score)"
   ]
  },
  {
   "cell_type": "code",
   "execution_count": null,
   "id": "155bb00e-3101-47fe-b6ee-bef0c3ccf552",
   "metadata": {},
   "outputs": [],
   "source": []
  },
  {
   "cell_type": "code",
   "execution_count": 15,
   "id": "d8954b91-b2fa-4545-8ac4-84488ec2a6e2",
   "metadata": {},
   "outputs": [],
   "source": [
    "A = [1, 2, 3, 4, 5, 6, 7, 8, 9]\n",
    "\n",
    "C = [\n",
    "    (2, 1, 3), (2, 1, 4), (1, 2, 4), (4, 2, 1), (1, 2, 3),\n",
    "    (3, 2, 4), (1, 4, 2), (5, 2, 3), (3, 1, 5), (4, 5, 2),\n",
    "    (6, 3, 2), (4, 6, 1), (7, 2, 6), (3, 7, 1), (8, 1, 2),\n",
    "    (2, 3, 8), (9, 2, 1), (1, 9, 3)\n",
    "]"
   ]
  },
  {
   "cell_type": "code",
   "execution_count": 11,
   "id": "9e83aede-6edd-4f3c-b6a5-88d3fe9d9c34",
   "metadata": {},
   "outputs": [
    {
     "name": "stdout",
     "output_type": "stream",
     "text": [
      "Najbolje rešenje: [4, 5, 7, 9, 2, 6, 1, 3, 8]\n",
      "Broj trojki koje zadovoljavaju uslove: 12\n"
     ]
    }
   ],
   "source": [
    "solution, score = local_search_max_betweenness(A, C)\n",
    "print(\"Najbolje rešenje:\", solution)\n",
    "print(\"Broj trojki koje zadovoljavaju uslove:\", score)"
   ]
  },
  {
   "cell_type": "code",
   "execution_count": null,
   "id": "957495b3-70f5-4f86-b4d8-cd047985741e",
   "metadata": {},
   "outputs": [],
   "source": []
  },
  {
   "cell_type": "markdown",
   "id": "599c0403-8634-4997-8d47-ff64d51a0016",
   "metadata": {},
   "source": [
    "#### lokalna pretraga mi sada radi i na vecim dimenzijama, ali ne daje uvek najbolje resenje"
   ]
  },
  {
   "cell_type": "code",
   "execution_count": 17,
   "id": "dee2ea56-2fbc-4440-a747-1c2228118541",
   "metadata": {},
   "outputs": [],
   "source": [
    "A = list(range(1, 16))\n",
    "\n",
    "# Kolekcija C sada ima 30 torki\n",
    "C = [\n",
    "    (2, 1, 3), (2, 1, 4), (1, 2, 4), (4, 2, 1), (1, 2, 3),\n",
    "    (3, 2, 4), (1, 4, 2), (5, 2, 3), (3, 1, 5), (4, 5, 2),\n",
    "    (6, 3, 2), (4, 6, 1), (7, 2, 6), (3, 7, 1), (8, 1, 2),\n",
    "    (2, 3, 8), (9, 2, 1), (1, 9, 3), (10, 3, 2), (11, 1, 2),\n",
    "    (12, 2, 3), (13, 1, 4), (14, 2, 5), (15, 3, 6), (2, 8, 7),\n",
    "    (3, 9, 8), (4, 10, 9), (5, 11, 10), (6, 12, 11), (7, 13, 12)\n",
    "]"
   ]
  },
  {
   "cell_type": "code",
   "execution_count": 18,
   "id": "3b9d23ac-f332-4348-96b5-6069d22963c9",
   "metadata": {},
   "outputs": [
    {
     "name": "stdout",
     "output_type": "stream",
     "text": [
      "Najbolje rešenje: [5, 11, 8, 1, 12, 6, 2, 13, 9, 7, 14, 3, 10, 4, 15]\n",
      "Broj trojki koje zadovoljavaju uslove: 21\n"
     ]
    }
   ],
   "source": [
    "solution, score = local_search_max_betweenness(A, C)\n",
    "print(\"Najbolje rešenje:\", solution)\n",
    "print(\"Broj trojki koje zadovoljavaju uslove:\", score)"
   ]
  }
 ],
 "metadata": {
  "kernelspec": {
   "display_name": "Python 3 (ipykernel)",
   "language": "python",
   "name": "python3"
  },
  "language_info": {
   "codemirror_mode": {
    "name": "ipython",
    "version": 3
   },
   "file_extension": ".py",
   "mimetype": "text/x-python",
   "name": "python",
   "nbconvert_exporter": "python",
   "pygments_lexer": "ipython3",
   "version": "3.10.12"
  }
 },
 "nbformat": 4,
 "nbformat_minor": 5
}
